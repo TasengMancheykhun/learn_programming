{
 "cells": [
  {
   "cell_type": "code",
   "execution_count": 1,
   "metadata": {},
   "outputs": [],
   "source": [
    "#!/usr/bin/env python3\n",
    "# -*- coding: utf-8 -*-"
   ]
  },
  {
   "cell_type": "markdown",
   "metadata": {},
   "source": [
    "## PRN : ___________________________________\n",
    "## Name: ___________________________________"
   ]
  },
  {
   "cell_type": "markdown",
   "metadata": {},
   "source": [
    "# Analytics & Statistics using Python\n",
    "## Assignment 06:\n",
    "### Problem 1:\n",
    "\n",
    "Write a Python program that calculates the difference in days between two dates provided by the user.\n",
    "\n",
    "- Enter two dates in the format YYYY-MM-DD.\n",
    "- Calculate the difference in days between the two dates.\n",
    "- Print the result."
   ]
  },
  {
   "cell_type": "code",
   "execution_count": null,
   "metadata": {},
   "outputs": [],
   "source": []
  },
  {
   "cell_type": "markdown",
   "metadata": {},
   "source": [
    "### Problem 2\n",
    "Write a Python program that displays the current date and time in various formats.\n",
    "\n",
    "- Get the current date and time.\n",
    "- Print it in the following formats:\n",
    "- Full date and time (e.g., \"2024-09-22 14:30:00\")\n",
    "- Just the date (e.g., \"September 22, 2024\")\n",
    "- Just the time (e.g., \"2:30 PM\")\n",
    "- ISO format (e.g., \"2024-09-22T14:30:00\")"
   ]
  },
  {
   "cell_type": "code",
   "execution_count": null,
   "metadata": {},
   "outputs": [],
   "source": []
  }
 ],
 "metadata": {
  "kernelspec": {
   "display_name": "Python 3 (ipykernel)",
   "language": "python",
   "name": "python3"
  },
  "language_info": {
   "codemirror_mode": {
    "name": "ipython",
    "version": 3
   },
   "file_extension": ".py",
   "mimetype": "text/x-python",
   "name": "python",
   "nbconvert_exporter": "python",
   "pygments_lexer": "ipython3",
   "version": "3.10.12"
  }
 },
 "nbformat": 4,
 "nbformat_minor": 4
}
