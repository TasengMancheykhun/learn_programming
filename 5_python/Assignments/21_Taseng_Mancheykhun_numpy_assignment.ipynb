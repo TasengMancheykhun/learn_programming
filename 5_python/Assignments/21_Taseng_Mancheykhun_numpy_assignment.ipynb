{
 "cells": [
  {
   "cell_type": "markdown",
   "metadata": {},
   "source": [
    "## Name: Taseng Mancheykhun\n",
    "## PRN no: 240840141021"
   ]
  },
  {
   "cell_type": "code",
   "execution_count": 16,
   "metadata": {},
   "outputs": [],
   "source": [
    "import numpy as np     #importing numpy library as short form np"
   ]
  },
  {
   "cell_type": "markdown",
   "metadata": {},
   "source": [
    "1. Write a NumPy program to get the numpy version and show numpy build configuration."
   ]
  },
  {
   "cell_type": "code",
   "execution_count": 2,
   "metadata": {},
   "outputs": [
    {
     "name": "stdout",
     "output_type": "stream",
     "text": [
      "2.1.1\n",
      "Build Dependencies:\n",
      "  blas:\n",
      "    detection method: pkgconfig\n",
      "    found: true\n",
      "    include directory: /opt/_internal/cpython-3.10.14/lib/python3.10/site-packages/scipy_openblas64/include\n",
      "    lib directory: /opt/_internal/cpython-3.10.14/lib/python3.10/site-packages/scipy_openblas64/lib\n",
      "    name: scipy-openblas\n",
      "    openblas configuration: OpenBLAS 0.3.27  USE64BITINT DYNAMIC_ARCH NO_AFFINITY\n",
      "      Haswell MAX_THREADS=64\n",
      "    pc file directory: /project/.openblas\n",
      "    version: 0.3.27\n",
      "  lapack:\n",
      "    detection method: pkgconfig\n",
      "    found: true\n",
      "    include directory: /opt/_internal/cpython-3.10.14/lib/python3.10/site-packages/scipy_openblas64/include\n",
      "    lib directory: /opt/_internal/cpython-3.10.14/lib/python3.10/site-packages/scipy_openblas64/lib\n",
      "    name: scipy-openblas\n",
      "    openblas configuration: OpenBLAS 0.3.27  USE64BITINT DYNAMIC_ARCH NO_AFFINITY\n",
      "      Haswell MAX_THREADS=64\n",
      "    pc file directory: /project/.openblas\n",
      "    version: 0.3.27\n",
      "Compilers:\n",
      "  c:\n",
      "    commands: cc\n",
      "    linker: ld.bfd\n",
      "    name: gcc\n",
      "    version: 10.2.1\n",
      "  c++:\n",
      "    commands: c++\n",
      "    linker: ld.bfd\n",
      "    name: gcc\n",
      "    version: 10.2.1\n",
      "  cython:\n",
      "    commands: cython\n",
      "    linker: cython\n",
      "    name: cython\n",
      "    version: 3.0.11\n",
      "Machine Information:\n",
      "  build:\n",
      "    cpu: x86_64\n",
      "    endian: little\n",
      "    family: x86_64\n",
      "    system: linux\n",
      "  host:\n",
      "    cpu: x86_64\n",
      "    endian: little\n",
      "    family: x86_64\n",
      "    system: linux\n",
      "Python Information:\n",
      "  path: /tmp/build-env-25v541c_/bin/python\n",
      "  version: '3.10'\n",
      "SIMD Extensions:\n",
      "  baseline:\n",
      "  - SSE\n",
      "  - SSE2\n",
      "  - SSE3\n",
      "  found:\n",
      "  - SSSE3\n",
      "  - SSE41\n",
      "  - POPCNT\n",
      "  - SSE42\n",
      "  - AVX\n",
      "  - F16C\n",
      "  - FMA3\n",
      "  - AVX2\n",
      "  - AVX512F\n",
      "  - AVX512CD\n",
      "  - AVX512_SKX\n",
      "  - AVX512_CLX\n",
      "  not found:\n",
      "  - AVX512_KNL\n",
      "  - AVX512_KNM\n",
      "  - AVX512_CNL\n",
      "  - AVX512_ICL\n",
      "\n",
      "None\n"
     ]
    }
   ],
   "source": [
    "print(np.__version__)     # get numpy verion\n",
    "print(np.show_config())   # show numpy build configuration"
   ]
  },
  {
   "cell_type": "markdown",
   "metadata": {},
   "source": [
    "2. Write a NumPy program to get help on the add function."
   ]
  },
  {
   "cell_type": "code",
   "execution_count": 12,
   "metadata": {},
   "outputs": [
    {
     "name": "stdout",
     "output_type": "stream",
     "text": [
      "Help on ufunc:\n",
      "\n",
      "add = <ufunc 'add'>\n",
      "    add(x1, x2, /, out=None, *, where=True, casting='same_kind', order='K', dtype=None, subok=True[, signature])\n",
      "    \n",
      "    Add arguments element-wise.\n",
      "    \n",
      "    Parameters\n",
      "    ----------\n",
      "    x1, x2 : array_like\n",
      "        The arrays to be added.\n",
      "        If ``x1.shape != x2.shape``, they must be broadcastable to a common\n",
      "        shape (which becomes the shape of the output).\n",
      "    out : ndarray, None, or tuple of ndarray and None, optional\n",
      "        A location into which the result is stored. If provided, it must have\n",
      "        a shape that the inputs broadcast to. If not provided or None,\n",
      "        a freshly-allocated array is returned. A tuple (possible only as a\n",
      "        keyword argument) must have length equal to the number of outputs.\n",
      "    where : array_like, optional\n",
      "        This condition is broadcast over the input. At locations where the\n",
      "        condition is True, the `out` array will be set to the ufunc result.\n",
      "        Elsewhere, the `out` array will retain its original value.\n",
      "        Note that if an uninitialized `out` array is created via the default\n",
      "        ``out=None``, locations within it where the condition is False will\n",
      "        remain uninitialized.\n",
      "    **kwargs\n",
      "        For other keyword-only arguments, see the\n",
      "        :ref:`ufunc docs <ufuncs.kwargs>`.\n",
      "    \n",
      "    Returns\n",
      "    -------\n",
      "    add : ndarray or scalar\n",
      "        The sum of `x1` and `x2`, element-wise.\n",
      "        This is a scalar if both `x1` and `x2` are scalars.\n",
      "    \n",
      "    Notes\n",
      "    -----\n",
      "    Equivalent to `x1` + `x2` in terms of array broadcasting.\n",
      "    \n",
      "    Examples\n",
      "    --------\n",
      "    >>> import numpy as np\n",
      "    >>> np.add(1.0, 4.0)\n",
      "    5.0\n",
      "    >>> x1 = np.arange(9.0).reshape((3, 3))\n",
      "    >>> x2 = np.arange(3.0)\n",
      "    >>> np.add(x1, x2)\n",
      "    array([[  0.,   2.,   4.],\n",
      "           [  3.,   5.,   7.],\n",
      "           [  6.,   8.,  10.]])\n",
      "    \n",
      "    The ``+`` operator can be used as a shorthand for ``np.add`` on ndarrays.\n",
      "    \n",
      "    >>> x1 = np.arange(9.0).reshape((3, 3))\n",
      "    >>> x2 = np.arange(3.0)\n",
      "    >>> x1 + x2\n",
      "    array([[ 0.,  2.,  4.],\n",
      "           [ 3.,  5.,  7.],\n",
      "           [ 6.,  8., 10.]])\n",
      "\n"
     ]
    }
   ],
   "source": [
    "help(np.add)    #getting help on add function"
   ]
  },
  {
   "cell_type": "markdown",
   "metadata": {},
   "source": [
    "3. Write a NumPy program to test whether none of the elements of a given array is zero."
   ]
  },
  {
   "cell_type": "code",
   "execution_count": 13,
   "metadata": {},
   "outputs": [
    {
     "data": {
      "text/plain": [
       "np.True_"
      ]
     },
     "execution_count": 13,
     "metadata": {},
     "output_type": "execute_result"
    }
   ],
   "source": [
    "a=np.array([2,3,5,4,7,1])  \n",
    "np.all(a)    # np.all() function gives True when all elements are non-zero"
   ]
  },
  {
   "cell_type": "markdown",
   "metadata": {},
   "source": [
    "4. Write a NumPy program to test whether any of the elements of a given array is non-zero."
   ]
  },
  {
   "cell_type": "code",
   "execution_count": 14,
   "metadata": {},
   "outputs": [
    {
     "data": {
      "text/plain": [
       "np.True_"
      ]
     },
     "execution_count": 14,
     "metadata": {},
     "output_type": "execute_result"
    }
   ],
   "source": [
    "a=np.array([0,0,0,1])\n",
    "np.any(a)     # np.any() function gives False if all the function is zero and gives true if even one element is non-zero"
   ]
  },
  {
   "cell_type": "markdown",
   "metadata": {},
   "source": [
    "5. Write a NumPy program to test a given array element-wise for finiteness (not infinity or not a Number)."
   ]
  },
  {
   "cell_type": "code",
   "execution_count": 7,
   "metadata": {},
   "outputs": [
    {
     "data": {
      "text/plain": [
       "array([ True,  True,  True,  True])"
      ]
     },
     "execution_count": 7,
     "metadata": {},
     "output_type": "execute_result"
    }
   ],
   "source": [
    "np.isfinite(a)  # Gives True for each element if they are finite "
   ]
  },
  {
   "cell_type": "markdown",
   "metadata": {},
   "source": [
    "6. Write a NumPy program to test element-wise for positive or negative infinity."
   ]
  },
  {
   "cell_type": "code",
   "execution_count": 20,
   "metadata": {},
   "outputs": [
    {
     "name": "stdout",
     "output_type": "stream",
     "text": [
      "Original array [  1.   2.  inf -inf  -8.]\n",
      "Element-wise positive infinity check: [False False  True False False]\n",
      "Element-wise negative infinity check: [False False False  True False]\n"
     ]
    }
   ],
   "source": [
    "b=np.array([1,2,np.inf, -np.inf,-8])             \n",
    "pos_inf = np.isposinf(b)                    #Gives True for positive infinity\n",
    "neg_inf = np.isneginf(b)                    #Gives True for negative infinity\n",
    "\n",
    "# Print the results\n",
    "print(f\"Original array {b}\")\n",
    "print(f\"Element-wise positive infinity check: {pos_inf}\")\n",
    "print(f\"Element-wise negative infinity check: {neg_inf}\") "
   ]
  },
  {
   "cell_type": "markdown",
   "metadata": {},
   "source": [
    "7. Write a NumPy program to test element-wise for NaN of a given array."
   ]
  },
  {
   "cell_type": "code",
   "execution_count": 27,
   "metadata": {},
   "outputs": [
    {
     "name": "stdout",
     "output_type": "stream",
     "text": [
      "Array is [  1.   2.  inf -inf  nan  -8.]\n",
      "Check element-wise for NaN: [False False False False  True False]\n"
     ]
    }
   ],
   "source": [
    "b=np.array([1, 2, np.inf, -np.inf, np.nan, -8])       \n",
    "\n",
    "result=np.isnan(b)         # Gives True if element in the array is NaN\n",
    "\n",
    "print(f\"Array is {b}\")\n",
    "\n",
    "print(f\"Check element-wise for NaN: {result}\")"
   ]
  },
  {
   "cell_type": "markdown",
   "metadata": {},
   "source": [
    "8. Write a NumPy program to test element-wise for complex number, real number of a given array. Also test whether a given number is a scalar type or not."
   ]
  },
  {
   "cell_type": "code",
   "execution_count": 26,
   "metadata": {},
   "outputs": [
    {
     "name": "stdout",
     "output_type": "stream",
     "text": [
      "Checking complex number element wise in [ 5.5+0.j 45. +0.j  2. +0.j  1. +1.j  3. +0.j]: \n",
      "[False False False  True False]\n",
      "\n",
      "Checking real number element wise in [ 5.5+0.j 45. +0.j  2. +0.j  1. +1.j  3. +0.j]: \n",
      "[ True  True  True False  True]\n",
      "\n",
      "Checking whether (5.5+0j) is scalar type or not?: \n",
      "True\n",
      "\n",
      "Checking whether [ 5.5+0.j 45. +0.j  2. +0.j  1. +1.j  3. +0.j] is scalar type or not?: \n",
      "False\n"
     ]
    }
   ],
   "source": [
    "b=np.array([5.5,45,2,1+1j,3])                 \n",
    "print(f\"Checking complex number element wise in {b}: \")\n",
    "print(np.iscomplex(b))                                          # checks element-wise for complex number\n",
    "\n",
    "print()\n",
    "print(f\"Checking real number element wise in {b}: \")\n",
    "print(np.isreal(b))                                             # checks element-wise for real number\n",
    "\n",
    "print()\n",
    "print(f\"Checking whether {b[0]} is scalar type or not?: \")\n",
    "print(np.isscalar(b[0]))                                        # checks whether number is scalar \n",
    "\n",
    "print()\n",
    "print(f\"Checking whether {b} is scalar type or not?: \")\n",
    "print(np.isscalar(b))                                            "
   ]
  },
  {
   "cell_type": "markdown",
   "metadata": {},
   "source": [
    "9. Write a NumPy program to create an element-wise comparison (greater, greater_equal, less and\n",
    "less_equal) of two given arrays."
   ]
  },
  {
   "cell_type": "code",
   "execution_count": 29,
   "metadata": {},
   "outputs": [
    {
     "name": "stdout",
     "output_type": "stream",
     "text": [
      "Element wise comparison of two arrays [23 21  8 45  6 78] and [21  6 77 23 41 90] for greater than: \n",
      "[ True  True False  True False False]\n",
      "\n",
      "Element wise comparison of two arrays [23 21  8 45  6 78] and [21  6 77 23 41 90] for greater than or equal to: \n",
      "[ True  True False  True False False]\n",
      "\n",
      "Element wise comparison of two arrays [23 21  8 45  6 78] and [21  6 77 23 41 90] for less than: \n",
      "[False False  True False  True  True]\n",
      "\n",
      "Element wise comparison of two arrays [23 21  8 45  6 78] and [21  6 77 23 41 90] for less than or equal to: \n",
      "[False False  True False  True  True]\n"
     ]
    }
   ],
   "source": [
    "a=np.array([23,21,8,45,6,78])\n",
    "b=np.array([21,6,77,23,41,90])\n",
    "\n",
    "print(f\"Element wise comparison of two arrays {a} and {b} for greater than: \")\n",
    "print(np.greater(a,b))                     # checks element wise whether a's element is greater than b's\n",
    "\n",
    "print()\n",
    "print(f\"Element wise comparison of two arrays {a} and {b} for greater than or equal to: \")\n",
    "print(np.greater_equal(a,b))               # checks element wise whether a's element is greater than or equal to b's\n",
    "\n",
    "print()\n",
    "print(f\"Element wise comparison of two arrays {a} and {b} for less than: \")\n",
    "print(np.less(a,b))                        # checks element wise whether a's element is less than b's\n",
    "\n",
    "print()\n",
    "print(f\"Element wise comparison of two arrays {a} and {b} for less than or equal to: \")\n",
    "print(np.less_equal(a,b))                   # checks element wise whether a's element is less than or equal to b's\n"
   ]
  },
  {
   "cell_type": "markdown",
   "metadata": {},
   "source": [
    "### 10. Write a NumPy program to create an array with the values 1, 7, 13, 105 and determine the size of the memory occupied by the array."
   ]
  },
  {
   "cell_type": "code",
   "execution_count": 30,
   "metadata": {},
   "outputs": [
    {
     "name": "stdout",
     "output_type": "stream",
     "text": [
      "The size of the memory occupied by the array [  1   7  13 105] is: \n",
      "8 bytes in 64 bit system for each element: \n",
      "32\n"
     ]
    }
   ],
   "source": [
    "a = np.array([1,7,13,105])\n",
    "\n",
    "print(f\"The size of the memory occupied by the array {a} is: \")\n",
    "print(\"8 bytes in 64 bit system for each element: \")\n",
    "print(a.size*a.itemsize)        # memory size of each element in 64 bit system i.e 8 Bytes x number of items"
   ]
  },
  {
   "cell_type": "markdown",
   "metadata": {},
   "source": [
    "11. Write a NumPy program to create an array of 10 zeros, 10 ones, 10 fives."
   ]
  },
  {
   "cell_type": "code",
   "execution_count": 13,
   "metadata": {},
   "outputs": [
    {
     "name": "stdout",
     "output_type": "stream",
     "text": [
      "Array of 10 zeros: \n",
      "[0. 0. 0. 0. 0. 0. 0. 0. 0. 0.]\n",
      "Array of 10 ones: \n",
      "[1. 1. 1. 1. 1. 1. 1. 1. 1. 1.]\n",
      "Array of 10 fives: \n",
      "[5. 5. 5. 5. 5. 5. 5. 5. 5. 5.]\n"
     ]
    }
   ],
   "source": [
    "print(f\"Array of 10 zeros: \")\n",
    "a=np.zeros(10)                       #creates array of zeros\n",
    "print(a)\n",
    "\n",
    "print(f\"Array of 10 ones: \")\n",
    "a=np.ones(10)                        #creates array of ones\n",
    "print(a)\n",
    "\n",
    "print(f\"Array of 10 fives: \")\n",
    "a=np.ones(10)*5                     \n",
    "print(a)\n"
   ]
  },
  {
   "cell_type": "markdown",
   "metadata": {},
   "source": [
    "12. Write a NumPy program to create an array of the integers from 30 to70."
   ]
  },
  {
   "cell_type": "code",
   "execution_count": 31,
   "metadata": {},
   "outputs": [
    {
     "name": "stdout",
     "output_type": "stream",
     "text": [
      "Array of integers from 30 to 70 is: \n",
      "\n",
      "[30 31 32 33 34 35 36 37 38 39 40 41 42 43 44 45 46 47 48 49 50 51 52 53\n",
      " 54 55 56 57 58 59 60 61 62 63 64 65 66 67 68 69 70]\n"
     ]
    }
   ],
   "source": [
    "print(\"Array of integers from 30 to 70 is: \")\n",
    "print()     \n",
    "a=np.arange(30,70+1)                           #creates array of integers for the range given\n",
    "print(a)"
   ]
  },
  {
   "cell_type": "markdown",
   "metadata": {},
   "source": [
    "13. Write a NumPy program to create an array of all the even integers from 30 to 70."
   ]
  },
  {
   "cell_type": "code",
   "execution_count": 33,
   "metadata": {},
   "outputs": [
    {
     "name": "stdout",
     "output_type": "stream",
     "text": [
      "Array of integers of all even integers from 30 to 70 is: \n",
      "\n",
      "[30 32 34 36 38 40 42 44 46 48 50 52 54 56 58 60 62 64 66 68 70]\n"
     ]
    }
   ],
   "source": [
    "print(\"Array of integers of all even integers from 30 to 70 is: \")\n",
    "print()\n",
    "a=np.arange(30,70+1,2)                     \n",
    "print(a)"
   ]
  },
  {
   "cell_type": "markdown",
   "metadata": {},
   "source": [
    "14. Write a NumPy program to create a 3x3 identity matrix."
   ]
  },
  {
   "cell_type": "code",
   "execution_count": 34,
   "metadata": {},
   "outputs": [
    {
     "name": "stdout",
     "output_type": "stream",
     "text": [
      "3x3 identity matrix: \n",
      "\n",
      "[[1. 0. 0.]\n",
      " [0. 1. 0.]\n",
      " [0. 0. 1.]]\n"
     ]
    }
   ],
   "source": [
    "print(\"3x3 identity matrix: \")\n",
    "print()\n",
    "a=np.identity(3)                    #creates identity matrix of size 3 by 3\n",
    "print(a)"
   ]
  },
  {
   "cell_type": "markdown",
   "metadata": {},
   "source": [
    "15. Write a NumPy program to generate a random number between 0 and 1."
   ]
  },
  {
   "cell_type": "code",
   "execution_count": 36,
   "metadata": {},
   "outputs": [
    {
     "name": "stdout",
     "output_type": "stream",
     "text": [
      "Generate a random number between 0 and 1\n",
      "\n",
      "0.01660663976240906\n"
     ]
    }
   ],
   "source": [
    "print(\"Generate a random number between 0 and 1\")\n",
    "print()                      \n",
    "a=np.random.random()               #gives a random number between 0 and 1\n",
    "print(a)"
   ]
  },
  {
   "cell_type": "markdown",
   "metadata": {},
   "source": [
    "16. Write a NumPy program to generate an array of 15 random numbers from a standard normal distribution."
   ]
  },
  {
   "cell_type": "code",
   "execution_count": 37,
   "metadata": {},
   "outputs": [
    {
     "name": "stdout",
     "output_type": "stream",
     "text": [
      "Generate an array of 15 random numbers from a standard normal distribution: \n",
      "\n",
      "[6.4714537  4.84648942 7.57495669 5.05117984 6.13007353 4.57487858\n",
      " 2.61172907 7.37372508 5.3290644  0.7091442  4.9328398  6.89843545\n",
      " 5.9478824  6.2282858  4.93821818]\n"
     ]
    }
   ],
   "source": [
    "print(\"Generate an array of 15 random numbers from a standard normal distribution: \")\n",
    "print()\n",
    "a=np.random.normal(5,2,15)       \n",
    "print(a)"
   ]
  },
  {
   "cell_type": "markdown",
   "metadata": {},
   "source": [
    "17. Write a NumPy program to create a vector with values ranging from 15 to 55 and print all values\n",
    "except the first and last."
   ]
  },
  {
   "cell_type": "code",
   "execution_count": 38,
   "metadata": {},
   "outputs": [
    {
     "name": "stdout",
     "output_type": "stream",
     "text": [
      "Vector with values ranging from 16 to 54: \n",
      "\n",
      "[16 17 18 19 20 21 22 23 24 25 26 27 28 29 30 31 32 33 34 35 36 37 38 39\n",
      " 40 41 42 43 44 45 46 47 48 49 50 51 52 53 54]\n"
     ]
    }
   ],
   "source": [
    "a=np.arange(16,55)\n",
    "\n",
    "print(f\"Vector with values ranging from 16 to 54: \")\n",
    "print()\n",
    "print(a)"
   ]
  },
  {
   "cell_type": "markdown",
   "metadata": {},
   "source": [
    "18. Write a NumPy program to create a 3x4 array."
   ]
  },
  {
   "cell_type": "code",
   "execution_count": 41,
   "metadata": {},
   "outputs": [
    {
     "name": "stdout",
     "output_type": "stream",
     "text": [
      "Array of size 3x4:\n",
      "\n",
      "[[ 1  2  3  4]\n",
      " [ 5  6  7  8]\n",
      " [ 9 10 11 12]]\n"
     ]
    }
   ],
   "source": [
    "a=np.arange(1,13).reshape(3,4)\n",
    "\n",
    "print(f\"Array of size 3x4:\")\n",
    "print()\n",
    "print(a)"
   ]
  },
  {
   "cell_type": "markdown",
   "metadata": {},
   "source": [
    "19. Write a NumPy program to create a vector of length 10 with values evenly distributed\n",
    "between 5 and 50."
   ]
  },
  {
   "cell_type": "code",
   "execution_count": 42,
   "metadata": {},
   "outputs": [
    {
     "name": "stdout",
     "output_type": "stream",
     "text": [
      "Vector of length 10 with values evenly distributed between 5 and 50: \n",
      "\n",
      "[ 6.         10.77777778 15.55555556 20.33333333 25.11111111 29.88888889\n",
      " 34.66666667 39.44444444 44.22222222 49.        ]\n"
     ]
    }
   ],
   "source": [
    "a = np.linspace(6, 49, 10)\n",
    "\n",
    "print(f\"Vector of length 10 with values evenly distributed between 5 and 50: \")\n",
    "print()\n",
    "print(a)"
   ]
  },
  {
   "cell_type": "markdown",
   "metadata": {},
   "source": [
    "20. Write a NumPy program to create a vector with values from 0 to 20 and change the sign of the\n",
    "numbers in the range from 9 to 15."
   ]
  },
  {
   "cell_type": "code",
   "execution_count": 48,
   "metadata": {},
   "outputs": [
    {
     "name": "stdout",
     "output_type": "stream",
     "text": [
      "Array is :\n",
      "[ 0  1  2  3  4  5  6  7  8  9 10 11 12 13 14 15 16 17 18 19 20]\n",
      "\n",
      "After changing the sign of numbers in the range from 9 to 15: \n",
      "[  0   1   2   3   4   5   6   7   8  -9 -10 -11 -12 -13 -14 -15  16  17\n",
      "  18  19  20]\n"
     ]
    }
   ],
   "source": [
    "a = np.arange(21)            #create a vector with values from 0 to 20\n",
    "print(\"Array is :\")\n",
    "print(a)\n",
    "a[(a>=9)&(a<=15)] *= -1       #changing the sign of the numbers in between\n",
    "print()\n",
    "print(\"After changing the sign of numbers in the range from 9 to 15: \")\n",
    "print(a)"
   ]
  },
  {
   "cell_type": "markdown",
   "metadata": {},
   "source": [
    "21. Write a NumPy program to create a vector of length 5 filled with arbitrary integers from 0 to 10."
   ]
  },
  {
   "cell_type": "code",
   "execution_count": 34,
   "metadata": {},
   "outputs": [
    {
     "name": "stdout",
     "output_type": "stream",
     "text": [
      "[10  1  9  4  1]\n"
     ]
    }
   ],
   "source": [
    "a = np.random.randint(0,11,5)            \n",
    "print(a)"
   ]
  },
  {
   "cell_type": "markdown",
   "metadata": {},
   "source": [
    "22. Write a NumPy program to multiply the values of two given vectors."
   ]
  },
  {
   "cell_type": "code",
   "execution_count": 39,
   "metadata": {},
   "outputs": [
    {
     "name": "stdout",
     "output_type": "stream",
     "text": [
      "a = [4 8 7 5]\n",
      "b = [ 7  9 17 45]\n",
      "The resultant vector is [ 28  72 119 225]\n"
     ]
    }
   ],
   "source": [
    "a = np.array([4, 8, 7, 5])\n",
    "print(f\"a = {a}\")\n",
    "\n",
    "b = np.array([7, 9,17, 45])\n",
    "print(f\"b = {b}\")\n",
    "\n",
    "result=a*b\n",
    "\n",
    "print(f\"The resultant vector is {result}\")"
   ]
  },
  {
   "cell_type": "markdown",
   "metadata": {},
   "source": [
    "23. Write a NumPy program to create a 3x4 matrix filled with values from 10 to 21."
   ]
  },
  {
   "cell_type": "code",
   "execution_count": 54,
   "metadata": {},
   "outputs": [
    {
     "name": "stdout",
     "output_type": "stream",
     "text": [
      "3x4 matrix filled with values from 10 to 21 is: \n",
      "\n",
      "[[10 11 12 13]\n",
      " [14 15 16 17]\n",
      " [18 19 20 21]]\n"
     ]
    }
   ],
   "source": [
    "a = np.arange(10,22).reshape((3,4))\n",
    "print(\"3x4 matrix filled with values from 10 to 21 is: \")\n",
    "print()\n",
    "print(a)"
   ]
  },
  {
   "cell_type": "markdown",
   "metadata": {},
   "source": [
    "24. Write a NumPy program to find the number of rows and columns of a given matrix."
   ]
  },
  {
   "cell_type": "code",
   "execution_count": 56,
   "metadata": {},
   "outputs": [
    {
     "name": "stdout",
     "output_type": "stream",
     "text": [
      "3x4 matrix filled with values from 10 to 21 is: \n",
      "\n",
      "[[10 11 12 13]\n",
      " [14 15 16 17]\n",
      " [18 19 20 21]]\n",
      "\n",
      "The shape of the matrix is (3, 4)\n"
     ]
    }
   ],
   "source": [
    "a = np.arange(10,22).reshape((3,4))\n",
    "print(\"3x4 matrix filled with values from 10 to 21 is: \")\n",
    "print()\n",
    "print(a)\n",
    "\n",
    "print()\n",
    "print(f\"The shape of the matrix is {a.shape}\")"
   ]
  },
  {
   "cell_type": "markdown",
   "metadata": {},
   "source": [
    "25. Write a NumPy program to create a 3x3 identity matrix, i.e. diagonal elements are 1, the rest are 0."
   ]
  },
  {
   "cell_type": "code",
   "execution_count": 46,
   "metadata": {},
   "outputs": [
    {
     "name": "stdout",
     "output_type": "stream",
     "text": [
      "[[1. 0. 0.]\n",
      " [0. 1. 0.]\n",
      " [0. 0. 1.]]\n"
     ]
    }
   ],
   "source": [
    "a = np.identity(3)\n",
    "print(a)"
   ]
  },
  {
   "cell_type": "markdown",
   "metadata": {},
   "source": [
    "26. Write a NumPy program to create a 10x10 matrix, in which the elements on the borders will be\n",
    "equal to 1, and inside 0."
   ]
  },
  {
   "cell_type": "code",
   "execution_count": 52,
   "metadata": {},
   "outputs": [
    {
     "name": "stdout",
     "output_type": "stream",
     "text": [
      "[[1. 1. 1. 1. 1. 1. 1. 1. 1. 1.]\n",
      " [1. 0. 0. 0. 0. 0. 0. 0. 0. 1.]\n",
      " [1. 0. 0. 0. 0. 0. 0. 0. 0. 1.]\n",
      " [1. 0. 0. 0. 0. 0. 0. 0. 0. 1.]\n",
      " [1. 0. 0. 0. 0. 0. 0. 0. 0. 1.]\n",
      " [1. 0. 0. 0. 0. 0. 0. 0. 0. 1.]\n",
      " [1. 0. 0. 0. 0. 0. 0. 0. 0. 1.]\n",
      " [1. 0. 0. 0. 0. 0. 0. 0. 0. 1.]\n",
      " [1. 0. 0. 0. 0. 0. 0. 0. 0. 1.]\n",
      " [1. 1. 1. 1. 1. 1. 1. 1. 1. 1.]]\n"
     ]
    }
   ],
   "source": [
    "a=np.ones((10, 10))\n",
    "a[1:-1,1:-1]=0\n",
    "print(a)\n"
   ]
  },
  {
   "cell_type": "markdown",
   "metadata": {},
   "source": [
    "27. Write a NumPy program to create a 5x5 zero matrix with elements on the main diagonal equal to 1, 2,\n",
    "3, 4, 5."
   ]
  },
  {
   "cell_type": "code",
   "execution_count": 59,
   "metadata": {},
   "outputs": [
    {
     "name": "stdout",
     "output_type": "stream",
     "text": [
      "[[1 0 0 0 0]\n",
      " [0 2 0 0 0]\n",
      " [0 0 3 0 0]\n",
      " [0 0 0 4 0]\n",
      " [0 0 0 0 5]]\n"
     ]
    }
   ],
   "source": [
    "a=np.diag([1,2,3,4,5])\n",
    "print(a)"
   ]
  },
  {
   "cell_type": "markdown",
   "metadata": {},
   "source": [
    "28. Write a NumPy program to create a 3x3x3 array filled with arbitrary values."
   ]
  },
  {
   "cell_type": "code",
   "execution_count": 63,
   "metadata": {},
   "outputs": [
    {
     "name": "stdout",
     "output_type": "stream",
     "text": [
      "[[[0.69242316 0.57593785 0.04187815]\n",
      "  [0.14412682 0.74499348 0.80350398]\n",
      "  [0.45045212 0.02160469 0.32059086]]\n",
      "\n",
      " [[0.82713915 0.29678566 0.56433401]\n",
      "  [0.57258896 0.98013937 0.08285067]\n",
      "  [0.72384848 0.08289661 0.53794507]]\n",
      "\n",
      " [[0.43345774 0.89702002 0.78122222]\n",
      "  [0.70990062 0.0710332  0.39652397]\n",
      "  [0.99772787 0.76516548 0.62974559]]]\n"
     ]
    }
   ],
   "source": [
    "a=np.random.random((3,3,3))\n",
    "print(a)"
   ]
  },
  {
   "cell_type": "markdown",
   "metadata": {},
   "source": [
    "29. Write a NumPy program to compute the inner product of two given vectors."
   ]
  },
  {
   "cell_type": "code",
   "execution_count": 66,
   "metadata": {},
   "outputs": [
    {
     "name": "stdout",
     "output_type": "stream",
     "text": [
      "Inner product of [2 3 4 5 6 7] and [4 6 8 2 8 2] is: \n",
      "130\n"
     ]
    }
   ],
   "source": [
    "a=np.array([2,3,4,5,6,7])\n",
    "b=np.array([4,6,8,2,8,2])\n",
    "\n",
    "c=np.dot(a,b)\n",
    "print(f\"Inner product of {a} and {b} is: \")\n",
    "print(c)\n"
   ]
  },
  {
   "cell_type": "markdown",
   "metadata": {},
   "source": [
    "30. Write a NumPy program to sort a given array by row and column in ascending order."
   ]
  },
  {
   "cell_type": "code",
   "execution_count": 73,
   "metadata": {},
   "outputs": [
    {
     "name": "stdout",
     "output_type": "stream",
     "text": [
      "[[ 4  6  8  2  8  2]\n",
      " [ 5  6 78 23  5 15]\n",
      " [34  5 19 17 32 14]]\n",
      "\n",
      "Sorting by row in ascending order: \n",
      "[[ 2  2  4  6  8  8]\n",
      " [ 5  5  6 15 23 78]\n",
      " [ 5 14 17 19 32 34]]\n",
      "\n",
      "Sorting by column in ascending order: \n",
      "[[ 4  5  8  2  5  2]\n",
      " [ 5  6 19 17  8 14]\n",
      " [34  6 78 23 32 15]]\n"
     ]
    }
   ],
   "source": [
    "b=np.array([[4,6,8,2,8,2],[5,6,78,23,5,15],[34,5,19,17,32,14]])\n",
    "print(b)\n",
    "\n",
    "print()\n",
    "print(f\"Sorting by row in ascending order: \")\n",
    "print(np.sort(b))\n",
    "\n",
    "print()\n",
    "print(f\"Sorting by column in ascending order: \")\n",
    "print(np.sort(b, axis=0))"
   ]
  },
  {
   "cell_type": "markdown",
   "metadata": {},
   "source": [
    "31. Write a NumPy program to extract all numbers from a given array which are less and greater\n",
    "than a specified number."
   ]
  },
  {
   "cell_type": "code",
   "execution_count": 50,
   "metadata": {},
   "outputs": [
    {
     "name": "stdout",
     "output_type": "stream",
     "text": [
      "Given array is [ 4  6  8  2  8 23 87 54 17 11 32 64]\n",
      "\n",
      "Numbers which are less than 10 are: \n",
      "[4 6 8 2 8]\n",
      "\n",
      "Numbers which are greater than 10 are: \n",
      "[23 87 54 17 11 32 64]\n"
     ]
    }
   ],
   "source": [
    "a=np.array([4,6,8,2,8,23,87,54,17,11,32,64])\n",
    "print(f\"Given array is {a}\")\n",
    "\n",
    "print()\n",
    "print(f\"Numbers which are less than 10 are: \")\n",
    "c=np.extract(a<10,a)\n",
    "print(c)\n",
    "\n",
    "print()\n",
    "print(f\"Numbers which are greater than 10 are: \")\n",
    "d=np.extract(a>10,a)\n",
    "print(d)"
   ]
  },
  {
   "cell_type": "markdown",
   "metadata": {},
   "source": [
    "32. Write a NumPy program to replace all numbers in a given array which is equal, less and greater to a\n",
    "given number."
   ]
  },
  {
   "cell_type": "code",
   "execution_count": 51,
   "metadata": {},
   "outputs": [
    {
     "name": "stdout",
     "output_type": "stream",
     "text": [
      "Given array is: [ 4  6  8  2  8 23 87 54  2 11 32 64]\n",
      "\n",
      "Replacing numbers equal to 2: \n",
      "[  4   6   8 333   8  23  87  54 333  11  32  64]\n",
      "\n",
      "Replacing numbers less than 5: \n",
      "[11  6  8 11  8 23 87 54 11 11 32 64]\n",
      "\n",
      "Replacing numbers greater than 10: \n",
      "[ 4  6  8  2  8 22 22 22  2 22 22 22]\n"
     ]
    }
   ],
   "source": [
    "a=np.array([4,6,8,2,8,23,87,54,2,11,32,64])\n",
    "print(f\"Given array is: {a}\")\n",
    "\n",
    "print()\n",
    "print(\"Replacing numbers equal to 2: \")\n",
    "b=np.where(a==2, 333, a)\n",
    "print(b)\n",
    "\n",
    "print()\n",
    "print(\"Replacing numbers less than 5: \")\n",
    "b=np.where(a<5, 11, a)\n",
    "print(b)\n",
    "\n",
    "print()\n",
    "print(\"Replacing numbers greater than 10: \")\n",
    "a=np.where(a>10, 22, a)\n",
    "print(a)"
   ]
  },
  {
   "cell_type": "markdown",
   "metadata": {},
   "source": [
    "33. Write a NumPy program to create an array of equal shape and data type of a given array."
   ]
  },
  {
   "cell_type": "code",
   "execution_count": 52,
   "metadata": {},
   "outputs": [
    {
     "name": "stdout",
     "output_type": "stream",
     "text": [
      "[3. 3. 3. 3. 3. 3. 3. 3.]\n"
     ]
    }
   ],
   "source": [
    "a=np.array([12.0,34,5,6,77,8,9,10])\n",
    "\n",
    "b=np.ones_like(a)*3      #creates an array of equal shape\n",
    "print(b)"
   ]
  },
  {
   "cell_type": "markdown",
   "metadata": {},
   "source": [
    "34. Write a NumPy program to create a three-dimension array with shape (3,5,4) and set to a\n",
    "variable."
   ]
  },
  {
   "cell_type": "code",
   "execution_count": 53,
   "metadata": {},
   "outputs": [
    {
     "name": "stdout",
     "output_type": "stream",
     "text": [
      "Three-dimension array with shape (3,5,4): \n",
      "\n",
      "[[[0.62750073 0.185772   0.62784977 0.75248412]\n",
      "  [0.65918833 0.26983928 0.63723581 0.50666092]\n",
      "  [0.86070989 0.13854375 0.44800702 0.35666011]\n",
      "  [0.96123657 0.06497293 0.75782389 0.42437934]\n",
      "  [0.60415168 0.64053957 0.2906912  0.4565092 ]]\n",
      "\n",
      " [[0.97332024 0.61736112 0.94137086 0.0643402 ]\n",
      "  [0.82185843 0.92860814 0.18900357 0.28995781]\n",
      "  [0.64979555 0.68339229 0.46603764 0.86316302]\n",
      "  [0.84260327 0.61385012 0.48845409 0.15396118]\n",
      "  [0.42089668 0.20327858 0.06903331 0.3600542 ]]\n",
      "\n",
      " [[0.15317969 0.43882525 0.81601938 0.96463488]\n",
      "  [0.38971026 0.37398676 0.01856306 0.6948712 ]\n",
      "  [0.40373895 0.03359419 0.59473043 0.7518242 ]\n",
      "  [0.11925007 0.02609346 0.43321219 0.79294059]\n",
      "  [0.68289664 0.54644189 0.19573938 0.59654356]]]\n"
     ]
    }
   ],
   "source": [
    "#a=np.arange(60).reshape(3,5,4)\n",
    "a=np.random.random((3,5,4))\n",
    "print(f\"Three-dimension array with shape (3,5,4): \")\n",
    "print()\n",
    "print(a)"
   ]
  },
  {
   "cell_type": "markdown",
   "metadata": {},
   "source": [
    "35. Write a NumPy program to multiply two given arrays of same size element-by-element."
   ]
  },
  {
   "cell_type": "code",
   "execution_count": 105,
   "metadata": {},
   "outputs": [
    {
     "name": "stdout",
     "output_type": "stream",
     "text": [
      "Matrix A: \n",
      "[[ 0  1  2  3]\n",
      " [ 4  5  6  7]\n",
      " [ 8  9 10 11]]\n",
      "\n",
      "Matrix B: \n",
      "[[24 25 26 27]\n",
      " [28 29 30 31]\n",
      " [32 33 34 35]]\n",
      "\n",
      "Resultant matrix C: \n",
      "[[  0  25  52  81]\n",
      " [112 145 180 217]\n",
      " [256 297 340 385]]\n"
     ]
    }
   ],
   "source": [
    "print(f\"Matrix A: \")\n",
    "a=np.arange(12).reshape(3,4)\n",
    "print(a)\n",
    "\n",
    "print()\n",
    "print(f\"Matrix B: \")\n",
    "b=np.arange(24,36).reshape(3,4)\n",
    "print(b)\n",
    "\n",
    "print()\n",
    "print(f\"Resultant matrix C: \")\n",
    "c=np.multiply(a,b)\n",
    "print(c)"
   ]
  },
  {
   "cell_type": "code",
   "execution_count": null,
   "metadata": {},
   "outputs": [],
   "source": []
  }
 ],
 "metadata": {
  "kernelspec": {
   "display_name": "Sep2024",
   "language": "python",
   "name": "python3"
  },
  "language_info": {
   "codemirror_mode": {
    "name": "ipython",
    "version": 3
   },
   "file_extension": ".py",
   "mimetype": "text/x-python",
   "name": "python",
   "nbconvert_exporter": "python",
   "pygments_lexer": "ipython3",
   "version": "3.10.7"
  }
 },
 "nbformat": 4,
 "nbformat_minor": 2
}
