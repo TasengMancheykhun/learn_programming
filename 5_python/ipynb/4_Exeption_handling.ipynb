{
 "cells": [
  {
   "cell_type": "markdown",
   "metadata": {},
   "source": [
    "# Exception_handling\n"
   ]
  },
  {
   "cell_type": "code",
   "execution_count": 19,
   "metadata": {},
   "outputs": [
    {
     "name": "stdout",
     "output_type": "stream",
     "text": [
      "15\n",
      "Zero Division Error\n",
      "I am always executed\n"
     ]
    }
   ],
   "source": [
    "try:\n",
    "    print(10+int('5'))\n",
    "    a=10\n",
    "    print(a/0)\n",
    "except TypeError :\n",
    "    print('Error')\n",
    "except ZeroDivisionError:\n",
    "    print('Zero Division Error')\n",
    "else:\n",
    "    print('i am usually executed')\n",
    "finally:\n",
    "    print('I am always executed')"
   ]
  },
  {
   "cell_type": "code",
   "execution_count": 22,
   "metadata": {},
   "outputs": [
    {
     "name": "stdout",
     "output_type": "stream",
     "text": [
      "15\n",
      "Error occured division by zero\n",
      "I am always executed\n"
     ]
    }
   ],
   "source": [
    "try:\n",
    "    print(10+int('5'))\n",
    "    a=10\n",
    "    print(a/0)\n",
    "except Exception as e:\n",
    "    print(f'Error occured {e}')\n",
    "else:\n",
    "    print('i am usually executed')\n",
    "finally:\n",
    "    print('I am always executed')"
   ]
  },
  {
   "cell_type": "code",
   "execution_count": 23,
   "metadata": {},
   "outputs": [
    {
     "ename": "Exception",
     "evalue": "HardDrive overloaded",
     "output_type": "error",
     "traceback": [
      "\u001b[0;31m---------------------------------------------------------------------------\u001b[0m",
      "\u001b[0;31mException\u001b[0m                                 Traceback (most recent call last)",
      "Cell \u001b[0;32mIn[23], line 1\u001b[0m\n\u001b[0;32m----> 1\u001b[0m \u001b[38;5;28;01mraise\u001b[39;00m \u001b[38;5;167;01mException\u001b[39;00m(\u001b[38;5;124m'\u001b[39m\u001b[38;5;124mHardDrive overloaded\u001b[39m\u001b[38;5;124m'\u001b[39m)\n",
      "\u001b[0;31mException\u001b[0m: HardDrive overloaded"
     ]
    }
   ],
   "source": [
    "raise Exception('HardDrive overloaded')"
   ]
  }
 ],
 "metadata": {
  "kernelspec": {
   "display_name": "Sep2024",
   "language": "python",
   "name": "python3"
  },
  "language_info": {
   "codemirror_mode": {
    "name": "ipython",
    "version": 3
   },
   "file_extension": ".py",
   "mimetype": "text/x-python",
   "name": "python",
   "nbconvert_exporter": "python",
   "pygments_lexer": "ipython3",
   "version": "3.10.7"
  }
 },
 "nbformat": 4,
 "nbformat_minor": 2
}
