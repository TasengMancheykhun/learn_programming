{
 "cells": [
  {
   "cell_type": "markdown",
   "metadata": {},
   "source": [
    "## Pandas"
   ]
  },
  {
   "cell_type": "code",
   "execution_count": 98,
   "metadata": {},
   "outputs": [],
   "source": [
    "import pandas as pd\n",
    "import matplotlib.pyplot as plt"
   ]
  },
  {
   "cell_type": "code",
   "execution_count": 99,
   "metadata": {},
   "outputs": [
    {
     "data": {
      "text/plain": [
       "'2.2.3'"
      ]
     },
     "execution_count": 99,
     "metadata": {},
     "output_type": "execute_result"
    }
   ],
   "source": [
    "pd.__version__"
   ]
  },
  {
   "cell_type": "code",
   "execution_count": 100,
   "metadata": {},
   "outputs": [
    {
     "data": {
      "text/plain": [
       "0    10\n",
       "1    20\n",
       "2    30\n",
       "3    40\n",
       "4    50\n",
       "dtype: int64"
      ]
     },
     "execution_count": 100,
     "metadata": {},
     "output_type": "execute_result"
    }
   ],
   "source": [
    "num_list=[10,20,30,40,50]\n",
    "s=pd.Series(num_list)\n",
    "s"
   ]
  },
  {
   "cell_type": "code",
   "execution_count": 101,
   "metadata": {},
   "outputs": [],
   "source": [
    "num_idx = ['a', 'b', 'c', 'd', 'e']\n",
    "s = pd.Series(num_list,index=num_idx)"
   ]
  },
  {
   "cell_type": "code",
   "execution_count": 102,
   "metadata": {},
   "outputs": [
    {
     "data": {
      "text/plain": [
       "a    10\n",
       "b    20\n",
       "c    30\n",
       "d    40\n",
       "e    50\n",
       "dtype: int64"
      ]
     },
     "execution_count": 102,
     "metadata": {},
     "output_type": "execute_result"
    }
   ],
   "source": [
    "s"
   ]
  },
  {
   "cell_type": "code",
   "execution_count": 103,
   "metadata": {},
   "outputs": [
    {
     "data": {
      "text/plain": [
       "name           Ronaldo\n",
       "city       Real Madrid\n",
       "country          Spain\n",
       "dtype: object"
      ]
     },
     "execution_count": 103,
     "metadata": {},
     "output_type": "execute_result"
    }
   ],
   "source": [
    "dct = {'name':'Ronaldo', 'city': 'Real Madrid', 'country': 'Spain'}\n",
    "pd.Series(dct)"
   ]
  },
  {
   "cell_type": "code",
   "execution_count": 104,
   "metadata": {},
   "outputs": [
    {
     "data": {
      "text/plain": [
       "name       1\n",
       "city       2\n",
       "country    3\n",
       "dtype: int64"
      ]
     },
     "execution_count": 104,
     "metadata": {},
     "output_type": "execute_result"
    }
   ],
   "source": [
    "dct = {'name':1, 'city':2, 'country':3}\n",
    "pd.Series(dct)"
   ]
  },
  {
   "cell_type": "code",
   "execution_count": 105,
   "metadata": {},
   "outputs": [
    {
     "data": {
      "text/plain": [
       "name                 1\n",
       "city       Real Madrid\n",
       "country          Spain\n",
       "dtype: object"
      ]
     },
     "execution_count": 105,
     "metadata": {},
     "output_type": "execute_result"
    }
   ],
   "source": [
    "dct = {'name':1, 'city': 'Real Madrid', 'country': 'Spain'}\n",
    "pd.Series(dct)"
   ]
  },
  {
   "cell_type": "code",
   "execution_count": 106,
   "metadata": {},
   "outputs": [],
   "source": [
    "data = [[1,2,3],[4,5,6],[7,8,9]]\n",
    "data_df = pd.DataFrame(data)"
   ]
  },
  {
   "cell_type": "code",
   "execution_count": 107,
   "metadata": {},
   "outputs": [
    {
     "data": {
      "text/html": [
       "<div>\n",
       "<style scoped>\n",
       "    .dataframe tbody tr th:only-of-type {\n",
       "        vertical-align: middle;\n",
       "    }\n",
       "\n",
       "    .dataframe tbody tr th {\n",
       "        vertical-align: top;\n",
       "    }\n",
       "\n",
       "    .dataframe thead th {\n",
       "        text-align: right;\n",
       "    }\n",
       "</style>\n",
       "<table border=\"1\" class=\"dataframe\">\n",
       "  <thead>\n",
       "    <tr style=\"text-align: right;\">\n",
       "      <th></th>\n",
       "      <th>0</th>\n",
       "      <th>1</th>\n",
       "      <th>2</th>\n",
       "    </tr>\n",
       "  </thead>\n",
       "  <tbody>\n",
       "    <tr>\n",
       "      <th>0</th>\n",
       "      <td>1</td>\n",
       "      <td>2</td>\n",
       "      <td>3</td>\n",
       "    </tr>\n",
       "    <tr>\n",
       "      <th>1</th>\n",
       "      <td>4</td>\n",
       "      <td>5</td>\n",
       "      <td>6</td>\n",
       "    </tr>\n",
       "    <tr>\n",
       "      <th>2</th>\n",
       "      <td>7</td>\n",
       "      <td>8</td>\n",
       "      <td>9</td>\n",
       "    </tr>\n",
       "  </tbody>\n",
       "</table>\n",
       "</div>"
      ],
      "text/plain": [
       "   0  1  2\n",
       "0  1  2  3\n",
       "1  4  5  6\n",
       "2  7  8  9"
      ]
     },
     "execution_count": 107,
     "metadata": {},
     "output_type": "execute_result"
    }
   ],
   "source": [
    "data_df"
   ]
  },
  {
   "cell_type": "code",
   "execution_count": 108,
   "metadata": {},
   "outputs": [
    {
     "data": {
      "text/html": [
       "<div>\n",
       "<style scoped>\n",
       "    .dataframe tbody tr th:only-of-type {\n",
       "        vertical-align: middle;\n",
       "    }\n",
       "\n",
       "    .dataframe tbody tr th {\n",
       "        vertical-align: top;\n",
       "    }\n",
       "\n",
       "    .dataframe thead th {\n",
       "        text-align: right;\n",
       "    }\n",
       "</style>\n",
       "<table border=\"1\" class=\"dataframe\">\n",
       "  <thead>\n",
       "    <tr style=\"text-align: right;\">\n",
       "      <th></th>\n",
       "      <th>col1</th>\n",
       "      <th>col2</th>\n",
       "      <th>col3</th>\n",
       "    </tr>\n",
       "  </thead>\n",
       "  <tbody>\n",
       "    <tr>\n",
       "      <th>0</th>\n",
       "      <td>1</td>\n",
       "      <td>2</td>\n",
       "      <td>3</td>\n",
       "    </tr>\n",
       "    <tr>\n",
       "      <th>1</th>\n",
       "      <td>4</td>\n",
       "      <td>5</td>\n",
       "      <td>6</td>\n",
       "    </tr>\n",
       "    <tr>\n",
       "      <th>2</th>\n",
       "      <td>7</td>\n",
       "      <td>8</td>\n",
       "      <td>9</td>\n",
       "    </tr>\n",
       "  </tbody>\n",
       "</table>\n",
       "</div>"
      ],
      "text/plain": [
       "   col1  col2  col3\n",
       "0     1     2     3\n",
       "1     4     5     6\n",
       "2     7     8     9"
      ]
     },
     "execution_count": 108,
     "metadata": {},
     "output_type": "execute_result"
    }
   ],
   "source": [
    "data = [[1,2,3],[4,5,6],[7,8,9]]\n",
    "data_df = pd.DataFrame(data, columns=['col1','col2','col3'])\n",
    "data_df"
   ]
  },
  {
   "cell_type": "code",
   "execution_count": 109,
   "metadata": {},
   "outputs": [
    {
     "data": {
      "text/html": [
       "<div>\n",
       "<style scoped>\n",
       "    .dataframe tbody tr th:only-of-type {\n",
       "        vertical-align: middle;\n",
       "    }\n",
       "\n",
       "    .dataframe tbody tr th {\n",
       "        vertical-align: top;\n",
       "    }\n",
       "\n",
       "    .dataframe thead th {\n",
       "        text-align: right;\n",
       "    }\n",
       "</style>\n",
       "<table border=\"1\" class=\"dataframe\">\n",
       "  <thead>\n",
       "    <tr style=\"text-align: right;\">\n",
       "      <th></th>\n",
       "      <th>col1</th>\n",
       "      <th>col2</th>\n",
       "      <th>col3</th>\n",
       "    </tr>\n",
       "  </thead>\n",
       "  <tbody>\n",
       "    <tr>\n",
       "      <th>0</th>\n",
       "      <td>1</td>\n",
       "      <td>2</td>\n",
       "      <td>3</td>\n",
       "    </tr>\n",
       "    <tr>\n",
       "      <th>1</th>\n",
       "      <td>4</td>\n",
       "      <td>5</td>\n",
       "      <td>6</td>\n",
       "    </tr>\n",
       "    <tr>\n",
       "      <th>2</th>\n",
       "      <td>7</td>\n",
       "      <td>Pune</td>\n",
       "      <td>9</td>\n",
       "    </tr>\n",
       "  </tbody>\n",
       "</table>\n",
       "</div>"
      ],
      "text/plain": [
       "   col1  col2  col3\n",
       "0     1     2     3\n",
       "1     4     5     6\n",
       "2     7  Pune     9"
      ]
     },
     "execution_count": 109,
     "metadata": {},
     "output_type": "execute_result"
    }
   ],
   "source": [
    "data = [[1,2,3],[4,5,6],[7,'Pune',9]]\n",
    "data_df = pd.DataFrame(data, columns=['col1','col2','col3'])\n",
    "data_df"
   ]
  },
  {
   "cell_type": "code",
   "execution_count": 110,
   "metadata": {},
   "outputs": [
    {
     "data": {
      "text/html": [
       "<div>\n",
       "<style scoped>\n",
       "    .dataframe tbody tr th:only-of-type {\n",
       "        vertical-align: middle;\n",
       "    }\n",
       "\n",
       "    .dataframe tbody tr th {\n",
       "        vertical-align: top;\n",
       "    }\n",
       "\n",
       "    .dataframe thead th {\n",
       "        text-align: right;\n",
       "    }\n",
       "</style>\n",
       "<table border=\"1\" class=\"dataframe\">\n",
       "  <thead>\n",
       "    <tr style=\"text-align: right;\">\n",
       "      <th></th>\n",
       "      <th>name</th>\n",
       "      <th>city</th>\n",
       "      <th>country</th>\n",
       "    </tr>\n",
       "  </thead>\n",
       "  <tbody>\n",
       "    <tr>\n",
       "      <th>0</th>\n",
       "      <td>PKS</td>\n",
       "      <td>Pune</td>\n",
       "      <td>India</td>\n",
       "    </tr>\n",
       "    <tr>\n",
       "      <th>1</th>\n",
       "      <td>AAA</td>\n",
       "      <td>Mumbai</td>\n",
       "      <td>I</td>\n",
       "    </tr>\n",
       "    <tr>\n",
       "      <th>2</th>\n",
       "      <td>BBB</td>\n",
       "      <td>Indore</td>\n",
       "      <td>Ind</td>\n",
       "    </tr>\n",
       "  </tbody>\n",
       "</table>\n",
       "</div>"
      ],
      "text/plain": [
       "  name    city country\n",
       "0  PKS    Pune   India\n",
       "1  AAA  Mumbai       I\n",
       "2  BBB  Indore     Ind"
      ]
     },
     "execution_count": 110,
     "metadata": {},
     "output_type": "execute_result"
    }
   ],
   "source": [
    "dct = {'name': ['PKS', 'AAA', 'BBB'],\n",
    "       'city': ['Pune','Mumbai','Indore'],\n",
    "       'country': ['India', 'I', 'Ind']}\n",
    "\n",
    "pd.DataFrame(dct)"
   ]
  },
  {
   "cell_type": "code",
   "execution_count": 111,
   "metadata": {},
   "outputs": [
    {
     "data": {
      "text/html": [
       "<div>\n",
       "<style scoped>\n",
       "    .dataframe tbody tr th:only-of-type {\n",
       "        vertical-align: middle;\n",
       "    }\n",
       "\n",
       "    .dataframe tbody tr th {\n",
       "        vertical-align: top;\n",
       "    }\n",
       "\n",
       "    .dataframe thead th {\n",
       "        text-align: right;\n",
       "    }\n",
       "</style>\n",
       "<table border=\"1\" class=\"dataframe\">\n",
       "  <thead>\n",
       "    <tr style=\"text-align: right;\">\n",
       "      <th></th>\n",
       "      <th>name</th>\n",
       "      <th>city</th>\n",
       "      <th>country</th>\n",
       "    </tr>\n",
       "  </thead>\n",
       "  <tbody>\n",
       "    <tr>\n",
       "      <th>0</th>\n",
       "      <td>PKS</td>\n",
       "      <td>Pune</td>\n",
       "      <td>India</td>\n",
       "    </tr>\n",
       "    <tr>\n",
       "      <th>1</th>\n",
       "      <td>Soham</td>\n",
       "      <td>London</td>\n",
       "      <td>UK</td>\n",
       "    </tr>\n",
       "    <tr>\n",
       "      <th>2</th>\n",
       "      <td>Aarti</td>\n",
       "      <td>Stockholm</td>\n",
       "      <td>Sweden</td>\n",
       "    </tr>\n",
       "  </tbody>\n",
       "</table>\n",
       "</div>"
      ],
      "text/plain": [
       "    name       city country\n",
       "0    PKS       Pune   India\n",
       "1  Soham     London      UK\n",
       "2  Aarti  Stockholm  Sweden"
      ]
     },
     "execution_count": 111,
     "metadata": {},
     "output_type": "execute_result"
    }
   ],
   "source": [
    "data_df = {'name': ['PKS', 'Soham', 'Aarti'],\n",
    "           'city': ['Pune','London','Stockholm'],\n",
    "           'country': ['India', 'UK', 'Sweden']}\n",
    "\n",
    "data_df=pd.DataFrame(data_df)\n",
    "data_df"
   ]
  },
  {
   "cell_type": "code",
   "execution_count": 112,
   "metadata": {},
   "outputs": [
    {
     "data": {
      "text/html": [
       "<div>\n",
       "<style scoped>\n",
       "    .dataframe tbody tr th:only-of-type {\n",
       "        vertical-align: middle;\n",
       "    }\n",
       "\n",
       "    .dataframe tbody tr th {\n",
       "        vertical-align: top;\n",
       "    }\n",
       "\n",
       "    .dataframe thead th {\n",
       "        text-align: right;\n",
       "    }\n",
       "</style>\n",
       "<table border=\"1\" class=\"dataframe\">\n",
       "  <thead>\n",
       "    <tr style=\"text-align: right;\">\n",
       "      <th></th>\n",
       "      <th>name</th>\n",
       "      <th>city</th>\n",
       "      <th>country</th>\n",
       "      <th>weight</th>\n",
       "      <th>height</th>\n",
       "    </tr>\n",
       "  </thead>\n",
       "  <tbody>\n",
       "    <tr>\n",
       "      <th>0</th>\n",
       "      <td>PKS</td>\n",
       "      <td>Pune</td>\n",
       "      <td>India</td>\n",
       "      <td>74</td>\n",
       "      <td>173</td>\n",
       "    </tr>\n",
       "    <tr>\n",
       "      <th>1</th>\n",
       "      <td>Soham</td>\n",
       "      <td>London</td>\n",
       "      <td>UK</td>\n",
       "      <td>78</td>\n",
       "      <td>175</td>\n",
       "    </tr>\n",
       "    <tr>\n",
       "      <th>2</th>\n",
       "      <td>Aarti</td>\n",
       "      <td>Stockholm</td>\n",
       "      <td>Sweden</td>\n",
       "      <td>61</td>\n",
       "      <td>169</td>\n",
       "    </tr>\n",
       "  </tbody>\n",
       "</table>\n",
       "</div>"
      ],
      "text/plain": [
       "    name       city country  weight  height\n",
       "0    PKS       Pune   India      74     173\n",
       "1  Soham     London      UK      78     175\n",
       "2  Aarti  Stockholm  Sweden      61     169"
      ]
     },
     "execution_count": 112,
     "metadata": {},
     "output_type": "execute_result"
    }
   ],
   "source": [
    "data_df['weight'] = [74,78,61]\n",
    "data_df['height'] = [173,175,169]\n",
    "data_df"
   ]
  },
  {
   "cell_type": "code",
   "execution_count": 113,
   "metadata": {},
   "outputs": [],
   "source": [
    "data_df['height'] = data_df['height']*0.01"
   ]
  },
  {
   "cell_type": "code",
   "execution_count": 114,
   "metadata": {},
   "outputs": [
    {
     "data": {
      "text/html": [
       "<div>\n",
       "<style scoped>\n",
       "    .dataframe tbody tr th:only-of-type {\n",
       "        vertical-align: middle;\n",
       "    }\n",
       "\n",
       "    .dataframe tbody tr th {\n",
       "        vertical-align: top;\n",
       "    }\n",
       "\n",
       "    .dataframe thead th {\n",
       "        text-align: right;\n",
       "    }\n",
       "</style>\n",
       "<table border=\"1\" class=\"dataframe\">\n",
       "  <thead>\n",
       "    <tr style=\"text-align: right;\">\n",
       "      <th></th>\n",
       "      <th>name</th>\n",
       "      <th>city</th>\n",
       "      <th>country</th>\n",
       "      <th>weight</th>\n",
       "      <th>height</th>\n",
       "    </tr>\n",
       "  </thead>\n",
       "  <tbody>\n",
       "    <tr>\n",
       "      <th>0</th>\n",
       "      <td>PKS</td>\n",
       "      <td>Pune</td>\n",
       "      <td>India</td>\n",
       "      <td>74</td>\n",
       "      <td>1.73</td>\n",
       "    </tr>\n",
       "    <tr>\n",
       "      <th>1</th>\n",
       "      <td>Soham</td>\n",
       "      <td>London</td>\n",
       "      <td>UK</td>\n",
       "      <td>78</td>\n",
       "      <td>1.75</td>\n",
       "    </tr>\n",
       "    <tr>\n",
       "      <th>2</th>\n",
       "      <td>Aarti</td>\n",
       "      <td>Stockholm</td>\n",
       "      <td>Sweden</td>\n",
       "      <td>61</td>\n",
       "      <td>1.69</td>\n",
       "    </tr>\n",
       "  </tbody>\n",
       "</table>\n",
       "</div>"
      ],
      "text/plain": [
       "    name       city country  weight  height\n",
       "0    PKS       Pune   India      74    1.73\n",
       "1  Soham     London      UK      78    1.75\n",
       "2  Aarti  Stockholm  Sweden      61    1.69"
      ]
     },
     "execution_count": 114,
     "metadata": {},
     "output_type": "execute_result"
    }
   ],
   "source": [
    "data_df"
   ]
  },
  {
   "cell_type": "code",
   "execution_count": 115,
   "metadata": {},
   "outputs": [
    {
     "data": {
      "text/html": [
       "<div>\n",
       "<style scoped>\n",
       "    .dataframe tbody tr th:only-of-type {\n",
       "        vertical-align: middle;\n",
       "    }\n",
       "\n",
       "    .dataframe tbody tr th {\n",
       "        vertical-align: top;\n",
       "    }\n",
       "\n",
       "    .dataframe thead th {\n",
       "        text-align: right;\n",
       "    }\n",
       "</style>\n",
       "<table border=\"1\" class=\"dataframe\">\n",
       "  <thead>\n",
       "    <tr style=\"text-align: right;\">\n",
       "      <th></th>\n",
       "      <th>name</th>\n",
       "      <th>city</th>\n",
       "      <th>country</th>\n",
       "      <th>weight</th>\n",
       "      <th>height</th>\n",
       "      <th>bmi</th>\n",
       "    </tr>\n",
       "  </thead>\n",
       "  <tbody>\n",
       "    <tr>\n",
       "      <th>0</th>\n",
       "      <td>PKS</td>\n",
       "      <td>Pune</td>\n",
       "      <td>India</td>\n",
       "      <td>74</td>\n",
       "      <td>1.73</td>\n",
       "      <td>24.725183</td>\n",
       "    </tr>\n",
       "    <tr>\n",
       "      <th>1</th>\n",
       "      <td>Soham</td>\n",
       "      <td>London</td>\n",
       "      <td>UK</td>\n",
       "      <td>78</td>\n",
       "      <td>1.75</td>\n",
       "      <td>25.469388</td>\n",
       "    </tr>\n",
       "    <tr>\n",
       "      <th>2</th>\n",
       "      <td>Aarti</td>\n",
       "      <td>Stockholm</td>\n",
       "      <td>Sweden</td>\n",
       "      <td>61</td>\n",
       "      <td>1.69</td>\n",
       "      <td>21.357796</td>\n",
       "    </tr>\n",
       "  </tbody>\n",
       "</table>\n",
       "</div>"
      ],
      "text/plain": [
       "    name       city country  weight  height        bmi\n",
       "0    PKS       Pune   India      74    1.73  24.725183\n",
       "1  Soham     London      UK      78    1.75  25.469388\n",
       "2  Aarti  Stockholm  Sweden      61    1.69  21.357796"
      ]
     },
     "execution_count": 115,
     "metadata": {},
     "output_type": "execute_result"
    }
   ],
   "source": [
    "'''\n",
    "BMI = weight/(height**2)\n",
    "'''\n",
    "\n",
    "data_df['bmi'] = data_df['weight']/data_df['height']**2\n",
    "\n",
    "data_df\n"
   ]
  },
  {
   "cell_type": "code",
   "execution_count": 116,
   "metadata": {},
   "outputs": [
    {
     "data": {
      "text/html": [
       "<div>\n",
       "<style scoped>\n",
       "    .dataframe tbody tr th:only-of-type {\n",
       "        vertical-align: middle;\n",
       "    }\n",
       "\n",
       "    .dataframe tbody tr th {\n",
       "        vertical-align: top;\n",
       "    }\n",
       "\n",
       "    .dataframe thead th {\n",
       "        text-align: right;\n",
       "    }\n",
       "</style>\n",
       "<table border=\"1\" class=\"dataframe\">\n",
       "  <thead>\n",
       "    <tr style=\"text-align: right;\">\n",
       "      <th></th>\n",
       "      <th>name</th>\n",
       "      <th>city</th>\n",
       "      <th>country</th>\n",
       "      <th>weight</th>\n",
       "      <th>height</th>\n",
       "      <th>bmi</th>\n",
       "    </tr>\n",
       "  </thead>\n",
       "  <tbody>\n",
       "    <tr>\n",
       "      <th>0</th>\n",
       "      <td>PKS</td>\n",
       "      <td>Pune</td>\n",
       "      <td>India</td>\n",
       "      <td>74</td>\n",
       "      <td>1.73</td>\n",
       "      <td>24.73</td>\n",
       "    </tr>\n",
       "    <tr>\n",
       "      <th>1</th>\n",
       "      <td>Soham</td>\n",
       "      <td>London</td>\n",
       "      <td>UK</td>\n",
       "      <td>78</td>\n",
       "      <td>1.75</td>\n",
       "      <td>25.47</td>\n",
       "    </tr>\n",
       "    <tr>\n",
       "      <th>2</th>\n",
       "      <td>Aarti</td>\n",
       "      <td>Stockholm</td>\n",
       "      <td>Sweden</td>\n",
       "      <td>61</td>\n",
       "      <td>1.69</td>\n",
       "      <td>21.36</td>\n",
       "    </tr>\n",
       "  </tbody>\n",
       "</table>\n",
       "</div>"
      ],
      "text/plain": [
       "    name       city country  weight  height    bmi\n",
       "0    PKS       Pune   India      74    1.73  24.73\n",
       "1  Soham     London      UK      78    1.75  25.47\n",
       "2  Aarti  Stockholm  Sweden      61    1.69  21.36"
      ]
     },
     "execution_count": 116,
     "metadata": {},
     "output_type": "execute_result"
    }
   ],
   "source": [
    "data_df['bmi'] = data_df['bmi'].round(2)\n",
    "data_df"
   ]
  },
  {
   "cell_type": "code",
   "execution_count": 117,
   "metadata": {},
   "outputs": [
    {
     "data": {
      "text/html": [
       "<div>\n",
       "<style scoped>\n",
       "    .dataframe tbody tr th:only-of-type {\n",
       "        vertical-align: middle;\n",
       "    }\n",
       "\n",
       "    .dataframe tbody tr th {\n",
       "        vertical-align: top;\n",
       "    }\n",
       "\n",
       "    .dataframe thead th {\n",
       "        text-align: right;\n",
       "    }\n",
       "</style>\n",
       "<table border=\"1\" class=\"dataframe\">\n",
       "  <thead>\n",
       "    <tr style=\"text-align: right;\">\n",
       "      <th></th>\n",
       "      <th>name</th>\n",
       "      <th>city</th>\n",
       "      <th>country</th>\n",
       "      <th>weight</th>\n",
       "      <th>height</th>\n",
       "      <th>bmi</th>\n",
       "      <th>Year</th>\n",
       "    </tr>\n",
       "  </thead>\n",
       "  <tbody>\n",
       "    <tr>\n",
       "      <th>0</th>\n",
       "      <td>PKS</td>\n",
       "      <td>Pune</td>\n",
       "      <td>India</td>\n",
       "      <td>74</td>\n",
       "      <td>1.73</td>\n",
       "      <td>24.73</td>\n",
       "      <td>1769</td>\n",
       "    </tr>\n",
       "    <tr>\n",
       "      <th>1</th>\n",
       "      <td>Soham</td>\n",
       "      <td>London</td>\n",
       "      <td>UK</td>\n",
       "      <td>78</td>\n",
       "      <td>1.75</td>\n",
       "      <td>25.47</td>\n",
       "      <td>1985</td>\n",
       "    </tr>\n",
       "    <tr>\n",
       "      <th>2</th>\n",
       "      <td>Aarti</td>\n",
       "      <td>Stockholm</td>\n",
       "      <td>Sweden</td>\n",
       "      <td>61</td>\n",
       "      <td>1.69</td>\n",
       "      <td>21.36</td>\n",
       "      <td>1990</td>\n",
       "    </tr>\n",
       "  </tbody>\n",
       "</table>\n",
       "</div>"
      ],
      "text/plain": [
       "    name       city country  weight  height    bmi  Year\n",
       "0    PKS       Pune   India      74    1.73  24.73  1769\n",
       "1  Soham     London      UK      78    1.75  25.47  1985\n",
       "2  Aarti  Stockholm  Sweden      61    1.69  21.36  1990"
      ]
     },
     "execution_count": 117,
     "metadata": {},
     "output_type": "execute_result"
    }
   ],
   "source": [
    "data_df['Year'] = ['1769','1985','1990']\n",
    "data_df"
   ]
  },
  {
   "cell_type": "code",
   "execution_count": 118,
   "metadata": {},
   "outputs": [
    {
     "data": {
      "text/plain": [
       "0    2024\n",
       "1    2024\n",
       "2    2024\n",
       "dtype: int64"
      ]
     },
     "execution_count": 118,
     "metadata": {},
     "output_type": "execute_result"
    }
   ],
   "source": [
    "curr_yr = pd.Series(2024, index=[0,1,2])\n",
    "curr_yr"
   ]
  },
  {
   "cell_type": "code",
   "execution_count": 119,
   "metadata": {},
   "outputs": [],
   "source": [
    "data_df['curr_yr'] = curr_yr"
   ]
  },
  {
   "cell_type": "code",
   "execution_count": 120,
   "metadata": {},
   "outputs": [
    {
     "data": {
      "text/html": [
       "<div>\n",
       "<style scoped>\n",
       "    .dataframe tbody tr th:only-of-type {\n",
       "        vertical-align: middle;\n",
       "    }\n",
       "\n",
       "    .dataframe tbody tr th {\n",
       "        vertical-align: top;\n",
       "    }\n",
       "\n",
       "    .dataframe thead th {\n",
       "        text-align: right;\n",
       "    }\n",
       "</style>\n",
       "<table border=\"1\" class=\"dataframe\">\n",
       "  <thead>\n",
       "    <tr style=\"text-align: right;\">\n",
       "      <th></th>\n",
       "      <th>name</th>\n",
       "      <th>city</th>\n",
       "      <th>country</th>\n",
       "      <th>weight</th>\n",
       "      <th>height</th>\n",
       "      <th>bmi</th>\n",
       "      <th>Year</th>\n",
       "      <th>curr_yr</th>\n",
       "    </tr>\n",
       "  </thead>\n",
       "  <tbody>\n",
       "    <tr>\n",
       "      <th>0</th>\n",
       "      <td>PKS</td>\n",
       "      <td>Pune</td>\n",
       "      <td>India</td>\n",
       "      <td>74</td>\n",
       "      <td>1.73</td>\n",
       "      <td>24.73</td>\n",
       "      <td>1769</td>\n",
       "      <td>2024</td>\n",
       "    </tr>\n",
       "    <tr>\n",
       "      <th>1</th>\n",
       "      <td>Soham</td>\n",
       "      <td>London</td>\n",
       "      <td>UK</td>\n",
       "      <td>78</td>\n",
       "      <td>1.75</td>\n",
       "      <td>25.47</td>\n",
       "      <td>1985</td>\n",
       "      <td>2024</td>\n",
       "    </tr>\n",
       "    <tr>\n",
       "      <th>2</th>\n",
       "      <td>Aarti</td>\n",
       "      <td>Stockholm</td>\n",
       "      <td>Sweden</td>\n",
       "      <td>61</td>\n",
       "      <td>1.69</td>\n",
       "      <td>21.36</td>\n",
       "      <td>1990</td>\n",
       "      <td>2024</td>\n",
       "    </tr>\n",
       "  </tbody>\n",
       "</table>\n",
       "</div>"
      ],
      "text/plain": [
       "    name       city country  weight  height    bmi  Year  curr_yr\n",
       "0    PKS       Pune   India      74    1.73  24.73  1769     2024\n",
       "1  Soham     London      UK      78    1.75  25.47  1985     2024\n",
       "2  Aarti  Stockholm  Sweden      61    1.69  21.36  1990     2024"
      ]
     },
     "execution_count": 120,
     "metadata": {},
     "output_type": "execute_result"
    }
   ],
   "source": [
    "data_df"
   ]
  },
  {
   "cell_type": "code",
   "execution_count": 121,
   "metadata": {},
   "outputs": [],
   "source": [
    "#data_df['age'] = data_df['curr_yr'] - data_df['Year']"
   ]
  },
  {
   "cell_type": "code",
   "execution_count": 122,
   "metadata": {},
   "outputs": [
    {
     "data": {
      "text/plain": [
       "dtype('int64')"
      ]
     },
     "execution_count": 122,
     "metadata": {},
     "output_type": "execute_result"
    }
   ],
   "source": [
    "data_df['curr_yr'].dtype"
   ]
  },
  {
   "cell_type": "code",
   "execution_count": 123,
   "metadata": {},
   "outputs": [
    {
     "data": {
      "text/plain": [
       "dtype('O')"
      ]
     },
     "execution_count": 123,
     "metadata": {},
     "output_type": "execute_result"
    }
   ],
   "source": [
    "data_df['Year'].dtype"
   ]
  },
  {
   "cell_type": "code",
   "execution_count": 124,
   "metadata": {},
   "outputs": [],
   "source": [
    "import numpy as np\n",
    "data_df['Year'] = data_df['Year'].astype(np.int16)"
   ]
  },
  {
   "cell_type": "code",
   "execution_count": 125,
   "metadata": {},
   "outputs": [
    {
     "data": {
      "text/plain": [
       "dtype('int16')"
      ]
     },
     "execution_count": 125,
     "metadata": {},
     "output_type": "execute_result"
    }
   ],
   "source": [
    "data_df['Year'].dtype"
   ]
  },
  {
   "cell_type": "code",
   "execution_count": 126,
   "metadata": {},
   "outputs": [],
   "source": [
    "data_df['age'] = data_df['curr_yr'] - data_df['Year']"
   ]
  },
  {
   "cell_type": "code",
   "execution_count": 127,
   "metadata": {},
   "outputs": [
    {
     "data": {
      "text/html": [
       "<div>\n",
       "<style scoped>\n",
       "    .dataframe tbody tr th:only-of-type {\n",
       "        vertical-align: middle;\n",
       "    }\n",
       "\n",
       "    .dataframe tbody tr th {\n",
       "        vertical-align: top;\n",
       "    }\n",
       "\n",
       "    .dataframe thead th {\n",
       "        text-align: right;\n",
       "    }\n",
       "</style>\n",
       "<table border=\"1\" class=\"dataframe\">\n",
       "  <thead>\n",
       "    <tr style=\"text-align: right;\">\n",
       "      <th></th>\n",
       "      <th>name</th>\n",
       "      <th>city</th>\n",
       "      <th>country</th>\n",
       "      <th>weight</th>\n",
       "      <th>height</th>\n",
       "      <th>bmi</th>\n",
       "      <th>Year</th>\n",
       "      <th>curr_yr</th>\n",
       "      <th>age</th>\n",
       "    </tr>\n",
       "  </thead>\n",
       "  <tbody>\n",
       "    <tr>\n",
       "      <th>0</th>\n",
       "      <td>PKS</td>\n",
       "      <td>Pune</td>\n",
       "      <td>India</td>\n",
       "      <td>74</td>\n",
       "      <td>1.73</td>\n",
       "      <td>24.73</td>\n",
       "      <td>1769</td>\n",
       "      <td>2024</td>\n",
       "      <td>255</td>\n",
       "    </tr>\n",
       "    <tr>\n",
       "      <th>1</th>\n",
       "      <td>Soham</td>\n",
       "      <td>London</td>\n",
       "      <td>UK</td>\n",
       "      <td>78</td>\n",
       "      <td>1.75</td>\n",
       "      <td>25.47</td>\n",
       "      <td>1985</td>\n",
       "      <td>2024</td>\n",
       "      <td>39</td>\n",
       "    </tr>\n",
       "    <tr>\n",
       "      <th>2</th>\n",
       "      <td>Aarti</td>\n",
       "      <td>Stockholm</td>\n",
       "      <td>Sweden</td>\n",
       "      <td>61</td>\n",
       "      <td>1.69</td>\n",
       "      <td>21.36</td>\n",
       "      <td>1990</td>\n",
       "      <td>2024</td>\n",
       "      <td>34</td>\n",
       "    </tr>\n",
       "  </tbody>\n",
       "</table>\n",
       "</div>"
      ],
      "text/plain": [
       "    name       city country  weight  height    bmi  Year  curr_yr  age\n",
       "0    PKS       Pune   India      74    1.73  24.73  1769     2024  255\n",
       "1  Soham     London      UK      78    1.75  25.47  1985     2024   39\n",
       "2  Aarti  Stockholm  Sweden      61    1.69  21.36  1990     2024   34"
      ]
     },
     "execution_count": 127,
     "metadata": {},
     "output_type": "execute_result"
    }
   ],
   "source": [
    "data_df"
   ]
  },
  {
   "cell_type": "code",
   "execution_count": 128,
   "metadata": {},
   "outputs": [
    {
     "data": {
      "text/html": [
       "<div>\n",
       "<style scoped>\n",
       "    .dataframe tbody tr th:only-of-type {\n",
       "        vertical-align: middle;\n",
       "    }\n",
       "\n",
       "    .dataframe tbody tr th {\n",
       "        vertical-align: top;\n",
       "    }\n",
       "\n",
       "    .dataframe thead th {\n",
       "        text-align: right;\n",
       "    }\n",
       "</style>\n",
       "<table border=\"1\" class=\"dataframe\">\n",
       "  <thead>\n",
       "    <tr style=\"text-align: right;\">\n",
       "      <th></th>\n",
       "      <th>name</th>\n",
       "      <th>city</th>\n",
       "      <th>country</th>\n",
       "      <th>weight</th>\n",
       "      <th>height</th>\n",
       "      <th>bmi</th>\n",
       "      <th>Year</th>\n",
       "      <th>curr_yr</th>\n",
       "      <th>age</th>\n",
       "    </tr>\n",
       "  </thead>\n",
       "  <tbody>\n",
       "    <tr>\n",
       "      <th>0</th>\n",
       "      <td>PKS</td>\n",
       "      <td>Pune</td>\n",
       "      <td>India</td>\n",
       "      <td>74</td>\n",
       "      <td>1.73</td>\n",
       "      <td>24.73</td>\n",
       "      <td>1769</td>\n",
       "      <td>2024</td>\n",
       "      <td>255</td>\n",
       "    </tr>\n",
       "  </tbody>\n",
       "</table>\n",
       "</div>"
      ],
      "text/plain": [
       "  name  city country  weight  height    bmi  Year  curr_yr  age\n",
       "0  PKS  Pune   India      74    1.73  24.73  1769     2024  255"
      ]
     },
     "execution_count": 128,
     "metadata": {},
     "output_type": "execute_result"
    }
   ],
   "source": [
    "data_df.loc[data_df['age']>120]"
   ]
  },
  {
   "cell_type": "code",
   "execution_count": 129,
   "metadata": {},
   "outputs": [],
   "source": [
    "mean = (39+34)/2"
   ]
  },
  {
   "cell_type": "code",
   "execution_count": 130,
   "metadata": {},
   "outputs": [
    {
     "name": "stderr",
     "output_type": "stream",
     "text": [
      "/tmp/ipykernel_2053810/1696965614.py:1: FutureWarning: Setting an item of incompatible dtype is deprecated and will raise an error in a future version of pandas. Value '36.5' has dtype incompatible with int64, please explicitly cast to a compatible dtype first.\n",
      "  data_df.loc[data_df['age']>120, 'age'] = mean\n"
     ]
    },
    {
     "data": {
      "text/html": [
       "<div>\n",
       "<style scoped>\n",
       "    .dataframe tbody tr th:only-of-type {\n",
       "        vertical-align: middle;\n",
       "    }\n",
       "\n",
       "    .dataframe tbody tr th {\n",
       "        vertical-align: top;\n",
       "    }\n",
       "\n",
       "    .dataframe thead th {\n",
       "        text-align: right;\n",
       "    }\n",
       "</style>\n",
       "<table border=\"1\" class=\"dataframe\">\n",
       "  <thead>\n",
       "    <tr style=\"text-align: right;\">\n",
       "      <th></th>\n",
       "      <th>name</th>\n",
       "      <th>city</th>\n",
       "      <th>country</th>\n",
       "      <th>weight</th>\n",
       "      <th>height</th>\n",
       "      <th>bmi</th>\n",
       "      <th>Year</th>\n",
       "      <th>curr_yr</th>\n",
       "      <th>age</th>\n",
       "    </tr>\n",
       "  </thead>\n",
       "  <tbody>\n",
       "    <tr>\n",
       "      <th>0</th>\n",
       "      <td>PKS</td>\n",
       "      <td>Pune</td>\n",
       "      <td>India</td>\n",
       "      <td>74</td>\n",
       "      <td>1.73</td>\n",
       "      <td>24.73</td>\n",
       "      <td>1769</td>\n",
       "      <td>2024</td>\n",
       "      <td>36.5</td>\n",
       "    </tr>\n",
       "    <tr>\n",
       "      <th>1</th>\n",
       "      <td>Soham</td>\n",
       "      <td>London</td>\n",
       "      <td>UK</td>\n",
       "      <td>78</td>\n",
       "      <td>1.75</td>\n",
       "      <td>25.47</td>\n",
       "      <td>1985</td>\n",
       "      <td>2024</td>\n",
       "      <td>39.0</td>\n",
       "    </tr>\n",
       "    <tr>\n",
       "      <th>2</th>\n",
       "      <td>Aarti</td>\n",
       "      <td>Stockholm</td>\n",
       "      <td>Sweden</td>\n",
       "      <td>61</td>\n",
       "      <td>1.69</td>\n",
       "      <td>21.36</td>\n",
       "      <td>1990</td>\n",
       "      <td>2024</td>\n",
       "      <td>34.0</td>\n",
       "    </tr>\n",
       "  </tbody>\n",
       "</table>\n",
       "</div>"
      ],
      "text/plain": [
       "    name       city country  weight  height    bmi  Year  curr_yr   age\n",
       "0    PKS       Pune   India      74    1.73  24.73  1769     2024  36.5\n",
       "1  Soham     London      UK      78    1.75  25.47  1985     2024  39.0\n",
       "2  Aarti  Stockholm  Sweden      61    1.69  21.36  1990     2024  34.0"
      ]
     },
     "execution_count": 130,
     "metadata": {},
     "output_type": "execute_result"
    }
   ],
   "source": [
    "data_df.loc[data_df['age']>120, 'age'] = mean\n",
    "data_df"
   ]
  },
  {
   "cell_type": "code",
   "execution_count": 131,
   "metadata": {},
   "outputs": [
    {
     "data": {
      "text/html": [
       "<div>\n",
       "<style scoped>\n",
       "    .dataframe tbody tr th:only-of-type {\n",
       "        vertical-align: middle;\n",
       "    }\n",
       "\n",
       "    .dataframe tbody tr th {\n",
       "        vertical-align: top;\n",
       "    }\n",
       "\n",
       "    .dataframe thead th {\n",
       "        text-align: right;\n",
       "    }\n",
       "</style>\n",
       "<table border=\"1\" class=\"dataframe\">\n",
       "  <thead>\n",
       "    <tr style=\"text-align: right;\">\n",
       "      <th></th>\n",
       "      <th>name</th>\n",
       "      <th>city</th>\n",
       "      <th>country</th>\n",
       "      <th>weight</th>\n",
       "      <th>height</th>\n",
       "      <th>bmi</th>\n",
       "      <th>Year</th>\n",
       "      <th>curr_yr</th>\n",
       "      <th>age</th>\n",
       "    </tr>\n",
       "  </thead>\n",
       "  <tbody>\n",
       "    <tr>\n",
       "      <th>0</th>\n",
       "      <td>PKS</td>\n",
       "      <td>Pune</td>\n",
       "      <td>India</td>\n",
       "      <td>74</td>\n",
       "      <td>1.73</td>\n",
       "      <td>24.73</td>\n",
       "      <td>1769</td>\n",
       "      <td>2024</td>\n",
       "      <td>36.5</td>\n",
       "    </tr>\n",
       "    <tr>\n",
       "      <th>1</th>\n",
       "      <td>Soham</td>\n",
       "      <td>London</td>\n",
       "      <td>UK</td>\n",
       "      <td>78</td>\n",
       "      <td>1.75</td>\n",
       "      <td>25.47</td>\n",
       "      <td>1985</td>\n",
       "      <td>2024</td>\n",
       "      <td>39.0</td>\n",
       "    </tr>\n",
       "    <tr>\n",
       "      <th>2</th>\n",
       "      <td>Aarti</td>\n",
       "      <td>Stockholm</td>\n",
       "      <td>Sweden</td>\n",
       "      <td>61</td>\n",
       "      <td>1.69</td>\n",
       "      <td>21.36</td>\n",
       "      <td>1990</td>\n",
       "      <td>2024</td>\n",
       "      <td>34.0</td>\n",
       "    </tr>\n",
       "  </tbody>\n",
       "</table>\n",
       "</div>"
      ],
      "text/plain": [
       "    name       city country  weight  height    bmi  Year  curr_yr   age\n",
       "0    PKS       Pune   India      74    1.73  24.73  1769     2024  36.5\n",
       "1  Soham     London      UK      78    1.75  25.47  1985     2024  39.0\n",
       "2  Aarti  Stockholm  Sweden      61    1.69  21.36  1990     2024  34.0"
      ]
     },
     "execution_count": 131,
     "metadata": {},
     "output_type": "execute_result"
    }
   ],
   "source": [
    "data_df['age'] = data_df['age'].astype(np.float32)\n",
    "data_df"
   ]
  },
  {
   "cell_type": "markdown",
   "metadata": {},
   "source": [
    "## Read data from a csv file"
   ]
  },
  {
   "cell_type": "code",
   "execution_count": 132,
   "metadata": {},
   "outputs": [
    {
     "data": {
      "text/html": [
       "<div>\n",
       "<style scoped>\n",
       "    .dataframe tbody tr th:only-of-type {\n",
       "        vertical-align: middle;\n",
       "    }\n",
       "\n",
       "    .dataframe tbody tr th {\n",
       "        vertical-align: top;\n",
       "    }\n",
       "\n",
       "    .dataframe thead th {\n",
       "        text-align: right;\n",
       "    }\n",
       "</style>\n",
       "<table border=\"1\" class=\"dataframe\">\n",
       "  <thead>\n",
       "    <tr style=\"text-align: right;\">\n",
       "      <th></th>\n",
       "      <th>Name</th>\n",
       "      <th>Year</th>\n",
       "      <th>Rating</th>\n",
       "      <th>Description</th>\n",
       "      <th>Genre_1</th>\n",
       "      <th>Genre_2</th>\n",
       "      <th>Genre_3</th>\n",
       "      <th>Certificate</th>\n",
       "      <th>Runtime</th>\n",
       "    </tr>\n",
       "  </thead>\n",
       "  <tbody>\n",
       "    <tr>\n",
       "      <th>0</th>\n",
       "      <td>Sunset Blvd.</td>\n",
       "      <td>1950</td>\n",
       "      <td>8.7</td>\n",
       "      <td>A hack screenwriter writes a screenplay for a ...</td>\n",
       "      <td>Drama</td>\n",
       "      <td>Film-Noir</td>\n",
       "      <td>NaN</td>\n",
       "      <td>APPROVED</td>\n",
       "      <td>110</td>\n",
       "    </tr>\n",
       "    <tr>\n",
       "      <th>1</th>\n",
       "      <td>12 Angry Men (1957)</td>\n",
       "      <td>1957</td>\n",
       "      <td>8.9</td>\n",
       "      <td>A dissenting juror in a murder trial slowly ma...</td>\n",
       "      <td>Crime</td>\n",
       "      <td>Drama</td>\n",
       "      <td>NaN</td>\n",
       "      <td>APPROVED</td>\n",
       "      <td>96</td>\n",
       "    </tr>\n",
       "    <tr>\n",
       "      <th>2</th>\n",
       "      <td>Dr. Strangelove or: How I Learned to Stop Worr...</td>\n",
       "      <td>1964</td>\n",
       "      <td>8.5</td>\n",
       "      <td>An insane general triggers a path to nuclear h...</td>\n",
       "      <td>Comedy</td>\n",
       "      <td>NaN</td>\n",
       "      <td>NaN</td>\n",
       "      <td>APPROVED</td>\n",
       "      <td>95</td>\n",
       "    </tr>\n",
       "    <tr>\n",
       "      <th>3</th>\n",
       "      <td>The Godfather</td>\n",
       "      <td>1972</td>\n",
       "      <td>9.2</td>\n",
       "      <td>\"The aging patriarch of an organized crime dy...</td>\n",
       "      <td>Crime</td>\n",
       "      <td>Drama</td>\n",
       "      <td>NaN</td>\n",
       "      <td>R</td>\n",
       "      <td>175</td>\n",
       "    </tr>\n",
       "    <tr>\n",
       "      <th>4</th>\n",
       "      <td>The Godfather: Part II (1974)</td>\n",
       "      <td>1974</td>\n",
       "      <td>9.1</td>\n",
       "      <td>The early life and career of Vito Corleone in ...</td>\n",
       "      <td>Crime</td>\n",
       "      <td>Drama</td>\n",
       "      <td>NaN</td>\n",
       "      <td>R</td>\n",
       "      <td>202</td>\n",
       "    </tr>\n",
       "    <tr>\n",
       "      <th>5</th>\n",
       "      <td>Sholay</td>\n",
       "      <td>1975</td>\n",
       "      <td>8.5</td>\n",
       "      <td>After his family is murdered by a notorious an...</td>\n",
       "      <td>Action</td>\n",
       "      <td>Drama</td>\n",
       "      <td>Thriller</td>\n",
       "      <td>R</td>\n",
       "      <td>198</td>\n",
       "    </tr>\n",
       "    <tr>\n",
       "      <th>6</th>\n",
       "      <td>The Shawshank Redemption</td>\n",
       "      <td>1994</td>\n",
       "      <td>9.3</td>\n",
       "      <td>Two imprisoned men bond over a number of years...</td>\n",
       "      <td>Crime</td>\n",
       "      <td>Drama</td>\n",
       "      <td>NaN</td>\n",
       "      <td>R</td>\n",
       "      <td>142</td>\n",
       "    </tr>\n",
       "    <tr>\n",
       "      <th>7</th>\n",
       "      <td>Pulp Fiction (1994)</td>\n",
       "      <td>1994</td>\n",
       "      <td>8.9</td>\n",
       "      <td>The lives of two mob hit men, a boxer, a gangs...</td>\n",
       "      <td>Crime</td>\n",
       "      <td>Drama</td>\n",
       "      <td>NaN</td>\n",
       "      <td>R</td>\n",
       "      <td>154</td>\n",
       "    </tr>\n",
       "    <tr>\n",
       "      <th>8</th>\n",
       "      <td>Memento (2000)</td>\n",
       "      <td>2000</td>\n",
       "      <td>8.6</td>\n",
       "      <td>A man creates a strange system to help him rem...</td>\n",
       "      <td>Mystery</td>\n",
       "      <td>Thriller</td>\n",
       "      <td>NaN</td>\n",
       "      <td>R</td>\n",
       "      <td>113</td>\n",
       "    </tr>\n",
       "    <tr>\n",
       "      <th>9</th>\n",
       "      <td>The Dark Knight (2008)</td>\n",
       "      <td>2008</td>\n",
       "      <td>9.0</td>\n",
       "      <td>When the menace known as the Joker wreaks havo...</td>\n",
       "      <td>Action</td>\n",
       "      <td>Crime</td>\n",
       "      <td>Drama</td>\n",
       "      <td>PG_13</td>\n",
       "      <td>152</td>\n",
       "    </tr>\n",
       "  </tbody>\n",
       "</table>\n",
       "</div>"
      ],
      "text/plain": [
       "                                                Name  Year  Rating  \\\n",
       "0                                       Sunset Blvd.  1950     8.7   \n",
       "1                                12 Angry Men (1957)  1957     8.9   \n",
       "2  Dr. Strangelove or: How I Learned to Stop Worr...  1964     8.5   \n",
       "3                                      The Godfather  1972     9.2   \n",
       "4                      The Godfather: Part II (1974)  1974     9.1   \n",
       "5                                             Sholay  1975     8.5   \n",
       "6                           The Shawshank Redemption  1994     9.3   \n",
       "7                                Pulp Fiction (1994)  1994     8.9   \n",
       "8                                     Memento (2000)  2000     8.6   \n",
       "9                             The Dark Knight (2008)  2008     9.0   \n",
       "\n",
       "                                         Description  Genre_1    Genre_2  \\\n",
       "0  A hack screenwriter writes a screenplay for a ...    Drama  Film-Noir   \n",
       "1  A dissenting juror in a murder trial slowly ma...    Crime      Drama   \n",
       "2  An insane general triggers a path to nuclear h...   Comedy        NaN   \n",
       "3   \"The aging patriarch of an organized crime dy...    Crime      Drama   \n",
       "4  The early life and career of Vito Corleone in ...    Crime      Drama   \n",
       "5  After his family is murdered by a notorious an...   Action      Drama   \n",
       "6  Two imprisoned men bond over a number of years...    Crime      Drama   \n",
       "7  The lives of two mob hit men, a boxer, a gangs...    Crime      Drama   \n",
       "8  A man creates a strange system to help him rem...  Mystery   Thriller   \n",
       "9  When the menace known as the Joker wreaks havo...   Action      Crime   \n",
       "\n",
       "    Genre_3 Certificate  Runtime  \n",
       "0       NaN    APPROVED      110  \n",
       "1       NaN    APPROVED       96  \n",
       "2       NaN    APPROVED       95  \n",
       "3       NaN           R      175  \n",
       "4       NaN           R      202  \n",
       "5  Thriller           R      198  \n",
       "6       NaN           R      142  \n",
       "7       NaN           R      154  \n",
       "8       NaN           R      113  \n",
       "9     Drama       PG_13      152  "
      ]
     },
     "execution_count": 132,
     "metadata": {},
     "output_type": "execute_result"
    }
   ],
   "source": [
    "data_path = './asp/movie_rating.csv'\n",
    "\n",
    "data_df = pd.read_csv(data_path)\n",
    "data_df"
   ]
  },
  {
   "cell_type": "code",
   "execution_count": 133,
   "metadata": {},
   "outputs": [
    {
     "data": {
      "text/html": [
       "<div>\n",
       "<style scoped>\n",
       "    .dataframe tbody tr th:only-of-type {\n",
       "        vertical-align: middle;\n",
       "    }\n",
       "\n",
       "    .dataframe tbody tr th {\n",
       "        vertical-align: top;\n",
       "    }\n",
       "\n",
       "    .dataframe thead th {\n",
       "        text-align: right;\n",
       "    }\n",
       "</style>\n",
       "<table border=\"1\" class=\"dataframe\">\n",
       "  <thead>\n",
       "    <tr style=\"text-align: right;\">\n",
       "      <th></th>\n",
       "      <th>Name</th>\n",
       "      <th>Year</th>\n",
       "      <th>Rating</th>\n",
       "      <th>Description</th>\n",
       "      <th>Genre_1</th>\n",
       "      <th>Genre_2</th>\n",
       "      <th>Genre_3</th>\n",
       "      <th>Certificate</th>\n",
       "      <th>Runtime</th>\n",
       "    </tr>\n",
       "  </thead>\n",
       "  <tbody>\n",
       "    <tr>\n",
       "      <th>0</th>\n",
       "      <td>Sunset Blvd.</td>\n",
       "      <td>1950</td>\n",
       "      <td>8.7</td>\n",
       "      <td>A hack screenwriter writes a screenplay for a ...</td>\n",
       "      <td>Drama</td>\n",
       "      <td>Film-Noir</td>\n",
       "      <td>NaN</td>\n",
       "      <td>APPROVED</td>\n",
       "      <td>110</td>\n",
       "    </tr>\n",
       "    <tr>\n",
       "      <th>1</th>\n",
       "      <td>12 Angry Men (1957)</td>\n",
       "      <td>1957</td>\n",
       "      <td>8.9</td>\n",
       "      <td>A dissenting juror in a murder trial slowly ma...</td>\n",
       "      <td>Crime</td>\n",
       "      <td>Drama</td>\n",
       "      <td>NaN</td>\n",
       "      <td>APPROVED</td>\n",
       "      <td>96</td>\n",
       "    </tr>\n",
       "    <tr>\n",
       "      <th>2</th>\n",
       "      <td>Dr. Strangelove or: How I Learned to Stop Worr...</td>\n",
       "      <td>1964</td>\n",
       "      <td>8.5</td>\n",
       "      <td>An insane general triggers a path to nuclear h...</td>\n",
       "      <td>Comedy</td>\n",
       "      <td>NaN</td>\n",
       "      <td>NaN</td>\n",
       "      <td>APPROVED</td>\n",
       "      <td>95</td>\n",
       "    </tr>\n",
       "    <tr>\n",
       "      <th>3</th>\n",
       "      <td>The Godfather</td>\n",
       "      <td>1972</td>\n",
       "      <td>9.2</td>\n",
       "      <td>\"The aging patriarch of an organized crime dy...</td>\n",
       "      <td>Crime</td>\n",
       "      <td>Drama</td>\n",
       "      <td>NaN</td>\n",
       "      <td>R</td>\n",
       "      <td>175</td>\n",
       "    </tr>\n",
       "    <tr>\n",
       "      <th>4</th>\n",
       "      <td>The Godfather: Part II (1974)</td>\n",
       "      <td>1974</td>\n",
       "      <td>9.1</td>\n",
       "      <td>The early life and career of Vito Corleone in ...</td>\n",
       "      <td>Crime</td>\n",
       "      <td>Drama</td>\n",
       "      <td>NaN</td>\n",
       "      <td>R</td>\n",
       "      <td>202</td>\n",
       "    </tr>\n",
       "  </tbody>\n",
       "</table>\n",
       "</div>"
      ],
      "text/plain": [
       "                                                Name  Year  Rating  \\\n",
       "0                                       Sunset Blvd.  1950     8.7   \n",
       "1                                12 Angry Men (1957)  1957     8.9   \n",
       "2  Dr. Strangelove or: How I Learned to Stop Worr...  1964     8.5   \n",
       "3                                      The Godfather  1972     9.2   \n",
       "4                      The Godfather: Part II (1974)  1974     9.1   \n",
       "\n",
       "                                         Description Genre_1    Genre_2  \\\n",
       "0  A hack screenwriter writes a screenplay for a ...   Drama  Film-Noir   \n",
       "1  A dissenting juror in a murder trial slowly ma...   Crime      Drama   \n",
       "2  An insane general triggers a path to nuclear h...  Comedy        NaN   \n",
       "3   \"The aging patriarch of an organized crime dy...   Crime      Drama   \n",
       "4  The early life and career of Vito Corleone in ...   Crime      Drama   \n",
       "\n",
       "  Genre_3 Certificate  Runtime  \n",
       "0     NaN    APPROVED      110  \n",
       "1     NaN    APPROVED       96  \n",
       "2     NaN    APPROVED       95  \n",
       "3     NaN           R      175  \n",
       "4     NaN           R      202  "
      ]
     },
     "execution_count": 133,
     "metadata": {},
     "output_type": "execute_result"
    }
   ],
   "source": [
    "data_df.head()"
   ]
  },
  {
   "cell_type": "code",
   "execution_count": 134,
   "metadata": {},
   "outputs": [
    {
     "data": {
      "text/plain": [
       "Index(['Name', 'Year', 'Rating', 'Description', 'Genre_1', 'Genre_2',\n",
       "       'Genre_3', 'Certificate', 'Runtime'],\n",
       "      dtype='object')"
      ]
     },
     "execution_count": 134,
     "metadata": {},
     "output_type": "execute_result"
    }
   ],
   "source": [
    "data_df.columns"
   ]
  },
  {
   "cell_type": "code",
   "execution_count": 135,
   "metadata": {},
   "outputs": [
    {
     "name": "stdout",
     "output_type": "stream",
     "text": [
      "<class 'pandas.core.frame.DataFrame'>\n",
      "RangeIndex: 10 entries, 0 to 9\n",
      "Data columns (total 9 columns):\n",
      " #   Column       Non-Null Count  Dtype  \n",
      "---  ------       --------------  -----  \n",
      " 0   Name         10 non-null     object \n",
      " 1   Year         10 non-null     int64  \n",
      " 2   Rating       10 non-null     float64\n",
      " 3   Description  10 non-null     object \n",
      " 4   Genre_1      10 non-null     object \n",
      " 5   Genre_2      9 non-null      object \n",
      " 6   Genre_3      2 non-null      object \n",
      " 7   Certificate  10 non-null     object \n",
      " 8   Runtime      10 non-null     int64  \n",
      "dtypes: float64(1), int64(2), object(6)\n",
      "memory usage: 848.0+ bytes\n"
     ]
    }
   ],
   "source": [
    "data_df.info()"
   ]
  },
  {
   "cell_type": "code",
   "execution_count": 136,
   "metadata": {},
   "outputs": [
    {
     "data": {
      "text/plain": [
       "Name            object\n",
       "Year             int64\n",
       "Rating         float64\n",
       "Description     object\n",
       "Genre_1         object\n",
       "Genre_2         object\n",
       "Genre_3         object\n",
       "Certificate     object\n",
       "Runtime          int64\n",
       "dtype: object"
      ]
     },
     "execution_count": 136,
     "metadata": {},
     "output_type": "execute_result"
    }
   ],
   "source": [
    "data_df.dtypes"
   ]
  },
  {
   "cell_type": "code",
   "execution_count": 137,
   "metadata": {},
   "outputs": [
    {
     "data": {
      "text/plain": [
       "Name           Dr. Strangelove or: How I Learned to Stop Worr...\n",
       "Year                                                        1964\n",
       "Rating                                                       8.5\n",
       "Description    An insane general triggers a path to nuclear h...\n",
       "Genre_1                                                   Comedy\n",
       "Genre_2                                                      NaN\n",
       "Genre_3                                                      NaN\n",
       "Certificate                                             APPROVED\n",
       "Runtime                                                       95\n",
       "Name: 2, dtype: object"
      ]
     },
     "execution_count": 137,
     "metadata": {},
     "output_type": "execute_result"
    }
   ],
   "source": [
    "data_df.xs(2)"
   ]
  },
  {
   "cell_type": "code",
   "execution_count": 138,
   "metadata": {},
   "outputs": [
    {
     "data": {
      "text/plain": [
       "Name           Dr. Strangelove or: How I Learned to Stop Worr...\n",
       "Year                                                        1964\n",
       "Rating                                                       8.5\n",
       "Description    An insane general triggers a path to nuclear h...\n",
       "Genre_1                                                   Comedy\n",
       "Genre_2                                                      NaN\n",
       "Genre_3                                                      NaN\n",
       "Certificate                                             APPROVED\n",
       "Runtime                                                       95\n",
       "Name: 2, dtype: object"
      ]
     },
     "execution_count": 138,
     "metadata": {},
     "output_type": "execute_result"
    }
   ],
   "source": [
    "data_df.iloc[2]"
   ]
  },
  {
   "cell_type": "code",
   "execution_count": 139,
   "metadata": {},
   "outputs": [
    {
     "data": {
      "text/plain": [
       "'An insane general triggers a path to nuclear holocaust that a war room full of politicians and generals frantically try to stop.'"
      ]
     },
     "execution_count": 139,
     "metadata": {},
     "output_type": "execute_result"
    }
   ],
   "source": [
    "data_df.loc[2,'Description']"
   ]
  },
  {
   "cell_type": "code",
   "execution_count": 140,
   "metadata": {},
   "outputs": [
    {
     "data": {
      "text/html": [
       "<div>\n",
       "<style scoped>\n",
       "    .dataframe tbody tr th:only-of-type {\n",
       "        vertical-align: middle;\n",
       "    }\n",
       "\n",
       "    .dataframe tbody tr th {\n",
       "        vertical-align: top;\n",
       "    }\n",
       "\n",
       "    .dataframe thead th {\n",
       "        text-align: right;\n",
       "    }\n",
       "</style>\n",
       "<table border=\"1\" class=\"dataframe\">\n",
       "  <thead>\n",
       "    <tr style=\"text-align: right;\">\n",
       "      <th></th>\n",
       "      <th>Year</th>\n",
       "      <th>Rating</th>\n",
       "      <th>Runtime</th>\n",
       "    </tr>\n",
       "  </thead>\n",
       "  <tbody>\n",
       "    <tr>\n",
       "      <th>count</th>\n",
       "      <td>10.00000</td>\n",
       "      <td>10.000000</td>\n",
       "      <td>10.000000</td>\n",
       "    </tr>\n",
       "    <tr>\n",
       "      <th>mean</th>\n",
       "      <td>1978.80000</td>\n",
       "      <td>8.870000</td>\n",
       "      <td>143.700000</td>\n",
       "    </tr>\n",
       "    <tr>\n",
       "      <th>std</th>\n",
       "      <td>19.35516</td>\n",
       "      <td>0.286938</td>\n",
       "      <td>39.763328</td>\n",
       "    </tr>\n",
       "    <tr>\n",
       "      <th>min</th>\n",
       "      <td>1950.00000</td>\n",
       "      <td>8.500000</td>\n",
       "      <td>95.000000</td>\n",
       "    </tr>\n",
       "    <tr>\n",
       "      <th>25%</th>\n",
       "      <td>1966.00000</td>\n",
       "      <td>8.625000</td>\n",
       "      <td>110.750000</td>\n",
       "    </tr>\n",
       "    <tr>\n",
       "      <th>50%</th>\n",
       "      <td>1974.50000</td>\n",
       "      <td>8.900000</td>\n",
       "      <td>147.000000</td>\n",
       "    </tr>\n",
       "    <tr>\n",
       "      <th>75%</th>\n",
       "      <td>1994.00000</td>\n",
       "      <td>9.075000</td>\n",
       "      <td>169.750000</td>\n",
       "    </tr>\n",
       "    <tr>\n",
       "      <th>max</th>\n",
       "      <td>2008.00000</td>\n",
       "      <td>9.300000</td>\n",
       "      <td>202.000000</td>\n",
       "    </tr>\n",
       "  </tbody>\n",
       "</table>\n",
       "</div>"
      ],
      "text/plain": [
       "             Year     Rating     Runtime\n",
       "count    10.00000  10.000000   10.000000\n",
       "mean   1978.80000   8.870000  143.700000\n",
       "std      19.35516   0.286938   39.763328\n",
       "min    1950.00000   8.500000   95.000000\n",
       "25%    1966.00000   8.625000  110.750000\n",
       "50%    1974.50000   8.900000  147.000000\n",
       "75%    1994.00000   9.075000  169.750000\n",
       "max    2008.00000   9.300000  202.000000"
      ]
     },
     "execution_count": 140,
     "metadata": {},
     "output_type": "execute_result"
    }
   ],
   "source": [
    "data_df.describe()"
   ]
  },
  {
   "cell_type": "code",
   "execution_count": 141,
   "metadata": {},
   "outputs": [
    {
     "data": {
      "text/html": [
       "<div>\n",
       "<style scoped>\n",
       "    .dataframe tbody tr th:only-of-type {\n",
       "        vertical-align: middle;\n",
       "    }\n",
       "\n",
       "    .dataframe tbody tr th {\n",
       "        vertical-align: top;\n",
       "    }\n",
       "\n",
       "    .dataframe thead th {\n",
       "        text-align: right;\n",
       "    }\n",
       "</style>\n",
       "<table border=\"1\" class=\"dataframe\">\n",
       "  <thead>\n",
       "    <tr style=\"text-align: right;\">\n",
       "      <th></th>\n",
       "      <th>Name</th>\n",
       "      <th>Year</th>\n",
       "      <th>Rating</th>\n",
       "      <th>Description</th>\n",
       "      <th>Genre_1</th>\n",
       "      <th>Genre_2</th>\n",
       "      <th>Genre_3</th>\n",
       "      <th>Certificate</th>\n",
       "      <th>Runtime</th>\n",
       "    </tr>\n",
       "  </thead>\n",
       "  <tbody>\n",
       "    <tr>\n",
       "      <th>3</th>\n",
       "      <td>The Godfather</td>\n",
       "      <td>1972</td>\n",
       "      <td>9.2</td>\n",
       "      <td>\"The aging patriarch of an organized crime dy...</td>\n",
       "      <td>Crime</td>\n",
       "      <td>Drama</td>\n",
       "      <td>NaN</td>\n",
       "      <td>R</td>\n",
       "      <td>175</td>\n",
       "    </tr>\n",
       "    <tr>\n",
       "      <th>4</th>\n",
       "      <td>The Godfather: Part II (1974)</td>\n",
       "      <td>1974</td>\n",
       "      <td>9.1</td>\n",
       "      <td>The early life and career of Vito Corleone in ...</td>\n",
       "      <td>Crime</td>\n",
       "      <td>Drama</td>\n",
       "      <td>NaN</td>\n",
       "      <td>R</td>\n",
       "      <td>202</td>\n",
       "    </tr>\n",
       "    <tr>\n",
       "      <th>6</th>\n",
       "      <td>The Shawshank Redemption</td>\n",
       "      <td>1994</td>\n",
       "      <td>9.3</td>\n",
       "      <td>Two imprisoned men bond over a number of years...</td>\n",
       "      <td>Crime</td>\n",
       "      <td>Drama</td>\n",
       "      <td>NaN</td>\n",
       "      <td>R</td>\n",
       "      <td>142</td>\n",
       "    </tr>\n",
       "  </tbody>\n",
       "</table>\n",
       "</div>"
      ],
      "text/plain": [
       "                            Name  Year  Rating  \\\n",
       "3                  The Godfather  1972     9.2   \n",
       "4  The Godfather: Part II (1974)  1974     9.1   \n",
       "6       The Shawshank Redemption  1994     9.3   \n",
       "\n",
       "                                         Description Genre_1 Genre_2 Genre_3  \\\n",
       "3   \"The aging patriarch of an organized crime dy...   Crime   Drama     NaN   \n",
       "4  The early life and career of Vito Corleone in ...   Crime   Drama     NaN   \n",
       "6  Two imprisoned men bond over a number of years...   Crime   Drama     NaN   \n",
       "\n",
       "  Certificate  Runtime  \n",
       "3           R      175  \n",
       "4           R      202  \n",
       "6           R      142  "
      ]
     },
     "execution_count": 141,
     "metadata": {},
     "output_type": "execute_result"
    }
   ],
   "source": [
    "data_df[data_df.Rating>9]"
   ]
  },
  {
   "cell_type": "markdown",
   "metadata": {},
   "source": [
    "## 07 Oct"
   ]
  },
  {
   "cell_type": "code",
   "execution_count": 142,
   "metadata": {},
   "outputs": [
    {
     "data": {
      "text/plain": [
       "0    10\n",
       "1    20\n",
       "2    30\n",
       "3    40\n",
       "4    50\n",
       "dtype: int64"
      ]
     },
     "execution_count": 142,
     "metadata": {},
     "output_type": "execute_result"
    }
   ],
   "source": [
    "num_list = [10,20,30,40,50]\n",
    "s=pd.Series(num_list)\n",
    "s"
   ]
  },
  {
   "cell_type": "code",
   "execution_count": 143,
   "metadata": {},
   "outputs": [
    {
     "data": {
      "text/html": [
       "<div>\n",
       "<style scoped>\n",
       "    .dataframe tbody tr th:only-of-type {\n",
       "        vertical-align: middle;\n",
       "    }\n",
       "\n",
       "    .dataframe tbody tr th {\n",
       "        vertical-align: top;\n",
       "    }\n",
       "\n",
       "    .dataframe thead th {\n",
       "        text-align: right;\n",
       "    }\n",
       "</style>\n",
       "<table border=\"1\" class=\"dataframe\">\n",
       "  <thead>\n",
       "    <tr style=\"text-align: right;\">\n",
       "      <th></th>\n",
       "      <th>Name</th>\n",
       "      <th>Year</th>\n",
       "      <th>Rating</th>\n",
       "      <th>Description</th>\n",
       "      <th>Genre_1</th>\n",
       "      <th>Genre_2</th>\n",
       "      <th>Genre_3</th>\n",
       "      <th>Certificate</th>\n",
       "      <th>Runtime</th>\n",
       "    </tr>\n",
       "  </thead>\n",
       "  <tbody>\n",
       "    <tr>\n",
       "      <th>3</th>\n",
       "      <td>The Godfather</td>\n",
       "      <td>1972</td>\n",
       "      <td>9.2</td>\n",
       "      <td>\"The aging patriarch of an organized crime dy...</td>\n",
       "      <td>Crime</td>\n",
       "      <td>Drama</td>\n",
       "      <td>NaN</td>\n",
       "      <td>R</td>\n",
       "      <td>175</td>\n",
       "    </tr>\n",
       "    <tr>\n",
       "      <th>4</th>\n",
       "      <td>The Godfather: Part II (1974)</td>\n",
       "      <td>1974</td>\n",
       "      <td>9.1</td>\n",
       "      <td>The early life and career of Vito Corleone in ...</td>\n",
       "      <td>Crime</td>\n",
       "      <td>Drama</td>\n",
       "      <td>NaN</td>\n",
       "      <td>R</td>\n",
       "      <td>202</td>\n",
       "    </tr>\n",
       "    <tr>\n",
       "      <th>6</th>\n",
       "      <td>The Shawshank Redemption</td>\n",
       "      <td>1994</td>\n",
       "      <td>9.3</td>\n",
       "      <td>Two imprisoned men bond over a number of years...</td>\n",
       "      <td>Crime</td>\n",
       "      <td>Drama</td>\n",
       "      <td>NaN</td>\n",
       "      <td>R</td>\n",
       "      <td>142</td>\n",
       "    </tr>\n",
       "  </tbody>\n",
       "</table>\n",
       "</div>"
      ],
      "text/plain": [
       "                            Name  Year  Rating  \\\n",
       "3                  The Godfather  1972     9.2   \n",
       "4  The Godfather: Part II (1974)  1974     9.1   \n",
       "6       The Shawshank Redemption  1994     9.3   \n",
       "\n",
       "                                         Description Genre_1 Genre_2 Genre_3  \\\n",
       "3   \"The aging patriarch of an organized crime dy...   Crime   Drama     NaN   \n",
       "4  The early life and career of Vito Corleone in ...   Crime   Drama     NaN   \n",
       "6  Two imprisoned men bond over a number of years...   Crime   Drama     NaN   \n",
       "\n",
       "  Certificate  Runtime  \n",
       "3           R      175  \n",
       "4           R      202  \n",
       "6           R      142  "
      ]
     },
     "execution_count": 143,
     "metadata": {},
     "output_type": "execute_result"
    }
   ],
   "source": [
    "#data_df.iloc[2,'Rating']  #wronggggggg\n",
    "\n",
    "data_df[data_df['Rating']>9]"
   ]
  },
  {
   "cell_type": "code",
   "execution_count": 144,
   "metadata": {},
   "outputs": [
    {
     "data": {
      "text/html": [
       "<div>\n",
       "<style scoped>\n",
       "    .dataframe tbody tr th:only-of-type {\n",
       "        vertical-align: middle;\n",
       "    }\n",
       "\n",
       "    .dataframe tbody tr th {\n",
       "        vertical-align: top;\n",
       "    }\n",
       "\n",
       "    .dataframe thead th {\n",
       "        text-align: right;\n",
       "    }\n",
       "</style>\n",
       "<table border=\"1\" class=\"dataframe\">\n",
       "  <thead>\n",
       "    <tr style=\"text-align: right;\">\n",
       "      <th></th>\n",
       "      <th>Name</th>\n",
       "      <th>Year</th>\n",
       "      <th>Rating</th>\n",
       "      <th>Description</th>\n",
       "      <th>Genre_1</th>\n",
       "      <th>Genre_2</th>\n",
       "      <th>Genre_3</th>\n",
       "      <th>Certificate</th>\n",
       "      <th>Runtime</th>\n",
       "    </tr>\n",
       "  </thead>\n",
       "  <tbody>\n",
       "    <tr>\n",
       "      <th>3</th>\n",
       "      <td>The Godfather</td>\n",
       "      <td>1972</td>\n",
       "      <td>9.2</td>\n",
       "      <td>\"The aging patriarch of an organized crime dy...</td>\n",
       "      <td>Crime</td>\n",
       "      <td>Drama</td>\n",
       "      <td>NaN</td>\n",
       "      <td>R</td>\n",
       "      <td>175</td>\n",
       "    </tr>\n",
       "    <tr>\n",
       "      <th>4</th>\n",
       "      <td>The Godfather: Part II (1974)</td>\n",
       "      <td>1974</td>\n",
       "      <td>9.1</td>\n",
       "      <td>The early life and career of Vito Corleone in ...</td>\n",
       "      <td>Crime</td>\n",
       "      <td>Drama</td>\n",
       "      <td>NaN</td>\n",
       "      <td>R</td>\n",
       "      <td>202</td>\n",
       "    </tr>\n",
       "    <tr>\n",
       "      <th>6</th>\n",
       "      <td>The Shawshank Redemption</td>\n",
       "      <td>1994</td>\n",
       "      <td>9.3</td>\n",
       "      <td>Two imprisoned men bond over a number of years...</td>\n",
       "      <td>Crime</td>\n",
       "      <td>Drama</td>\n",
       "      <td>NaN</td>\n",
       "      <td>R</td>\n",
       "      <td>142</td>\n",
       "    </tr>\n",
       "  </tbody>\n",
       "</table>\n",
       "</div>"
      ],
      "text/plain": [
       "                            Name  Year  Rating  \\\n",
       "3                  The Godfather  1972     9.2   \n",
       "4  The Godfather: Part II (1974)  1974     9.1   \n",
       "6       The Shawshank Redemption  1994     9.3   \n",
       "\n",
       "                                         Description Genre_1 Genre_2 Genre_3  \\\n",
       "3   \"The aging patriarch of an organized crime dy...   Crime   Drama     NaN   \n",
       "4  The early life and career of Vito Corleone in ...   Crime   Drama     NaN   \n",
       "6  Two imprisoned men bond over a number of years...   Crime   Drama     NaN   \n",
       "\n",
       "  Certificate  Runtime  \n",
       "3           R      175  \n",
       "4           R      202  \n",
       "6           R      142  "
      ]
     },
     "execution_count": 144,
     "metadata": {},
     "output_type": "execute_result"
    }
   ],
   "source": [
    "data_df[data_df.Rating>9]"
   ]
  },
  {
   "cell_type": "code",
   "execution_count": 145,
   "metadata": {},
   "outputs": [],
   "source": [
    "num_df = pd.DataFrame(np.random.randn(100,4), columns=list('ABCD'))"
   ]
  },
  {
   "cell_type": "code",
   "execution_count": 146,
   "metadata": {},
   "outputs": [
    {
     "data": {
      "text/html": [
       "<div>\n",
       "<style scoped>\n",
       "    .dataframe tbody tr th:only-of-type {\n",
       "        vertical-align: middle;\n",
       "    }\n",
       "\n",
       "    .dataframe tbody tr th {\n",
       "        vertical-align: top;\n",
       "    }\n",
       "\n",
       "    .dataframe thead th {\n",
       "        text-align: right;\n",
       "    }\n",
       "</style>\n",
       "<table border=\"1\" class=\"dataframe\">\n",
       "  <thead>\n",
       "    <tr style=\"text-align: right;\">\n",
       "      <th></th>\n",
       "      <th>A</th>\n",
       "      <th>B</th>\n",
       "      <th>C</th>\n",
       "      <th>D</th>\n",
       "    </tr>\n",
       "  </thead>\n",
       "  <tbody>\n",
       "    <tr>\n",
       "      <th>0</th>\n",
       "      <td>-1.031589</td>\n",
       "      <td>-2.150513</td>\n",
       "      <td>-0.943288</td>\n",
       "      <td>0.183213</td>\n",
       "    </tr>\n",
       "    <tr>\n",
       "      <th>1</th>\n",
       "      <td>0.832415</td>\n",
       "      <td>-1.054361</td>\n",
       "      <td>0.051203</td>\n",
       "      <td>0.722205</td>\n",
       "    </tr>\n",
       "    <tr>\n",
       "      <th>2</th>\n",
       "      <td>1.791407</td>\n",
       "      <td>-0.230593</td>\n",
       "      <td>0.545735</td>\n",
       "      <td>1.078479</td>\n",
       "    </tr>\n",
       "    <tr>\n",
       "      <th>3</th>\n",
       "      <td>-0.812506</td>\n",
       "      <td>-1.442802</td>\n",
       "      <td>-0.496665</td>\n",
       "      <td>-0.519847</td>\n",
       "    </tr>\n",
       "    <tr>\n",
       "      <th>4</th>\n",
       "      <td>-0.467513</td>\n",
       "      <td>0.991523</td>\n",
       "      <td>-2.333481</td>\n",
       "      <td>0.598364</td>\n",
       "    </tr>\n",
       "    <tr>\n",
       "      <th>...</th>\n",
       "      <td>...</td>\n",
       "      <td>...</td>\n",
       "      <td>...</td>\n",
       "      <td>...</td>\n",
       "    </tr>\n",
       "    <tr>\n",
       "      <th>95</th>\n",
       "      <td>1.146327</td>\n",
       "      <td>0.368611</td>\n",
       "      <td>-0.735531</td>\n",
       "      <td>-0.037777</td>\n",
       "    </tr>\n",
       "    <tr>\n",
       "      <th>96</th>\n",
       "      <td>0.148753</td>\n",
       "      <td>-1.654054</td>\n",
       "      <td>0.005919</td>\n",
       "      <td>0.069278</td>\n",
       "    </tr>\n",
       "    <tr>\n",
       "      <th>97</th>\n",
       "      <td>-0.398312</td>\n",
       "      <td>0.210742</td>\n",
       "      <td>-0.827524</td>\n",
       "      <td>-0.005944</td>\n",
       "    </tr>\n",
       "    <tr>\n",
       "      <th>98</th>\n",
       "      <td>-0.354579</td>\n",
       "      <td>-0.723216</td>\n",
       "      <td>0.028005</td>\n",
       "      <td>0.711150</td>\n",
       "    </tr>\n",
       "    <tr>\n",
       "      <th>99</th>\n",
       "      <td>-0.609791</td>\n",
       "      <td>-1.574793</td>\n",
       "      <td>-1.300071</td>\n",
       "      <td>0.471770</td>\n",
       "    </tr>\n",
       "  </tbody>\n",
       "</table>\n",
       "<p>100 rows × 4 columns</p>\n",
       "</div>"
      ],
      "text/plain": [
       "           A         B         C         D\n",
       "0  -1.031589 -2.150513 -0.943288  0.183213\n",
       "1   0.832415 -1.054361  0.051203  0.722205\n",
       "2   1.791407 -0.230593  0.545735  1.078479\n",
       "3  -0.812506 -1.442802 -0.496665 -0.519847\n",
       "4  -0.467513  0.991523 -2.333481  0.598364\n",
       "..       ...       ...       ...       ...\n",
       "95  1.146327  0.368611 -0.735531 -0.037777\n",
       "96  0.148753 -1.654054  0.005919  0.069278\n",
       "97 -0.398312  0.210742 -0.827524 -0.005944\n",
       "98 -0.354579 -0.723216  0.028005  0.711150\n",
       "99 -0.609791 -1.574793 -1.300071  0.471770\n",
       "\n",
       "[100 rows x 4 columns]"
      ]
     },
     "execution_count": 146,
     "metadata": {},
     "output_type": "execute_result"
    }
   ],
   "source": [
    "num_df"
   ]
  },
  {
   "cell_type": "code",
   "execution_count": 147,
   "metadata": {},
   "outputs": [
    {
     "data": {
      "text/plain": [
       "0    -0.985544\n",
       "1     0.137866\n",
       "2     0.796257\n",
       "3    -0.817955\n",
       "4    -0.302777\n",
       "        ...   \n",
       "95    0.185407\n",
       "96   -0.357526\n",
       "97   -0.255259\n",
       "98   -0.084660\n",
       "99   -0.753221\n",
       "Length: 100, dtype: float64"
      ]
     },
     "execution_count": 147,
     "metadata": {},
     "output_type": "execute_result"
    }
   ],
   "source": [
    "num_df.mean(axis=1)"
   ]
  },
  {
   "cell_type": "code",
   "execution_count": 148,
   "metadata": {},
   "outputs": [
    {
     "data": {
      "text/plain": [
       "A   -2.508609\n",
       "B   -2.676504\n",
       "C   -2.766047\n",
       "D   -2.052321\n",
       "dtype: float64"
      ]
     },
     "execution_count": 148,
     "metadata": {},
     "output_type": "execute_result"
    }
   ],
   "source": [
    "num_df.min()"
   ]
  },
  {
   "cell_type": "code",
   "execution_count": 149,
   "metadata": {},
   "outputs": [
    {
     "data": {
      "text/plain": [
       "A    2.915356\n",
       "B    3.281075\n",
       "C    2.470351\n",
       "D    2.760723\n",
       "dtype: float64"
      ]
     },
     "execution_count": 149,
     "metadata": {},
     "output_type": "execute_result"
    }
   ],
   "source": [
    "num_df.max()"
   ]
  },
  {
   "cell_type": "code",
   "execution_count": 150,
   "metadata": {},
   "outputs": [
    {
     "data": {
      "text/html": [
       "<div>\n",
       "<style scoped>\n",
       "    .dataframe tbody tr th:only-of-type {\n",
       "        vertical-align: middle;\n",
       "    }\n",
       "\n",
       "    .dataframe tbody tr th {\n",
       "        vertical-align: top;\n",
       "    }\n",
       "\n",
       "    .dataframe thead th {\n",
       "        text-align: right;\n",
       "    }\n",
       "</style>\n",
       "<table border=\"1\" class=\"dataframe\">\n",
       "  <thead>\n",
       "    <tr style=\"text-align: right;\">\n",
       "      <th></th>\n",
       "      <th>Name</th>\n",
       "      <th>Year</th>\n",
       "      <th>Rating</th>\n",
       "      <th>Description</th>\n",
       "      <th>Genre_1</th>\n",
       "      <th>Genre_2</th>\n",
       "      <th>Genre_3</th>\n",
       "      <th>Certificate</th>\n",
       "      <th>Runtime</th>\n",
       "    </tr>\n",
       "  </thead>\n",
       "  <tbody>\n",
       "    <tr>\n",
       "      <th>0</th>\n",
       "      <td>Sunset Blvd.</td>\n",
       "      <td>1950</td>\n",
       "      <td>8.7</td>\n",
       "      <td>A hack screenwriter writes a screenplay for a ...</td>\n",
       "      <td>Drama</td>\n",
       "      <td>Film-Noir</td>\n",
       "      <td>NaN</td>\n",
       "      <td>APPROVED</td>\n",
       "      <td>110</td>\n",
       "    </tr>\n",
       "    <tr>\n",
       "      <th>1</th>\n",
       "      <td>12 Angry Men (1957)</td>\n",
       "      <td>1957</td>\n",
       "      <td>8.9</td>\n",
       "      <td>A dissenting juror in a murder trial slowly ma...</td>\n",
       "      <td>Crime</td>\n",
       "      <td>Drama</td>\n",
       "      <td>NaN</td>\n",
       "      <td>APPROVED</td>\n",
       "      <td>96</td>\n",
       "    </tr>\n",
       "    <tr>\n",
       "      <th>2</th>\n",
       "      <td>Dr. Strangelove or: How I Learned to Stop Worr...</td>\n",
       "      <td>1964</td>\n",
       "      <td>8.5</td>\n",
       "      <td>An insane general triggers a path to nuclear h...</td>\n",
       "      <td>Comedy</td>\n",
       "      <td>NaN</td>\n",
       "      <td>NaN</td>\n",
       "      <td>APPROVED</td>\n",
       "      <td>95</td>\n",
       "    </tr>\n",
       "    <tr>\n",
       "      <th>3</th>\n",
       "      <td>The Godfather</td>\n",
       "      <td>1972</td>\n",
       "      <td>9.2</td>\n",
       "      <td>\"The aging patriarch of an organized crime dy...</td>\n",
       "      <td>Crime</td>\n",
       "      <td>Drama</td>\n",
       "      <td>NaN</td>\n",
       "      <td>R</td>\n",
       "      <td>175</td>\n",
       "    </tr>\n",
       "    <tr>\n",
       "      <th>4</th>\n",
       "      <td>The Godfather: Part II (1974)</td>\n",
       "      <td>1974</td>\n",
       "      <td>9.1</td>\n",
       "      <td>The early life and career of Vito Corleone in ...</td>\n",
       "      <td>Crime</td>\n",
       "      <td>Drama</td>\n",
       "      <td>NaN</td>\n",
       "      <td>R</td>\n",
       "      <td>202</td>\n",
       "    </tr>\n",
       "    <tr>\n",
       "      <th>5</th>\n",
       "      <td>Sholay</td>\n",
       "      <td>1975</td>\n",
       "      <td>8.5</td>\n",
       "      <td>After his family is murdered by a notorious an...</td>\n",
       "      <td>Action</td>\n",
       "      <td>Drama</td>\n",
       "      <td>Thriller</td>\n",
       "      <td>R</td>\n",
       "      <td>198</td>\n",
       "    </tr>\n",
       "    <tr>\n",
       "      <th>6</th>\n",
       "      <td>The Shawshank Redemption</td>\n",
       "      <td>1994</td>\n",
       "      <td>9.3</td>\n",
       "      <td>Two imprisoned men bond over a number of years...</td>\n",
       "      <td>Crime</td>\n",
       "      <td>Drama</td>\n",
       "      <td>NaN</td>\n",
       "      <td>R</td>\n",
       "      <td>142</td>\n",
       "    </tr>\n",
       "    <tr>\n",
       "      <th>7</th>\n",
       "      <td>Pulp Fiction (1994)</td>\n",
       "      <td>1994</td>\n",
       "      <td>8.9</td>\n",
       "      <td>The lives of two mob hit men, a boxer, a gangs...</td>\n",
       "      <td>Crime</td>\n",
       "      <td>Drama</td>\n",
       "      <td>NaN</td>\n",
       "      <td>R</td>\n",
       "      <td>154</td>\n",
       "    </tr>\n",
       "    <tr>\n",
       "      <th>8</th>\n",
       "      <td>Memento (2000)</td>\n",
       "      <td>2000</td>\n",
       "      <td>8.6</td>\n",
       "      <td>A man creates a strange system to help him rem...</td>\n",
       "      <td>Mystery</td>\n",
       "      <td>Thriller</td>\n",
       "      <td>NaN</td>\n",
       "      <td>R</td>\n",
       "      <td>113</td>\n",
       "    </tr>\n",
       "    <tr>\n",
       "      <th>9</th>\n",
       "      <td>The Dark Knight (2008)</td>\n",
       "      <td>2008</td>\n",
       "      <td>9.0</td>\n",
       "      <td>When the menace known as the Joker wreaks havo...</td>\n",
       "      <td>Action</td>\n",
       "      <td>Crime</td>\n",
       "      <td>Drama</td>\n",
       "      <td>PG_13</td>\n",
       "      <td>152</td>\n",
       "    </tr>\n",
       "  </tbody>\n",
       "</table>\n",
       "</div>"
      ],
      "text/plain": [
       "                                                Name  Year  Rating  \\\n",
       "0                                       Sunset Blvd.  1950     8.7   \n",
       "1                                12 Angry Men (1957)  1957     8.9   \n",
       "2  Dr. Strangelove or: How I Learned to Stop Worr...  1964     8.5   \n",
       "3                                      The Godfather  1972     9.2   \n",
       "4                      The Godfather: Part II (1974)  1974     9.1   \n",
       "5                                             Sholay  1975     8.5   \n",
       "6                           The Shawshank Redemption  1994     9.3   \n",
       "7                                Pulp Fiction (1994)  1994     8.9   \n",
       "8                                     Memento (2000)  2000     8.6   \n",
       "9                             The Dark Knight (2008)  2008     9.0   \n",
       "\n",
       "                                         Description  Genre_1    Genre_2  \\\n",
       "0  A hack screenwriter writes a screenplay for a ...    Drama  Film-Noir   \n",
       "1  A dissenting juror in a murder trial slowly ma...    Crime      Drama   \n",
       "2  An insane general triggers a path to nuclear h...   Comedy        NaN   \n",
       "3   \"The aging patriarch of an organized crime dy...    Crime      Drama   \n",
       "4  The early life and career of Vito Corleone in ...    Crime      Drama   \n",
       "5  After his family is murdered by a notorious an...   Action      Drama   \n",
       "6  Two imprisoned men bond over a number of years...    Crime      Drama   \n",
       "7  The lives of two mob hit men, a boxer, a gangs...    Crime      Drama   \n",
       "8  A man creates a strange system to help him rem...  Mystery   Thriller   \n",
       "9  When the menace known as the Joker wreaks havo...   Action      Crime   \n",
       "\n",
       "    Genre_3 Certificate  Runtime  \n",
       "0       NaN    APPROVED      110  \n",
       "1       NaN    APPROVED       96  \n",
       "2       NaN    APPROVED       95  \n",
       "3       NaN           R      175  \n",
       "4       NaN           R      202  \n",
       "5  Thriller           R      198  \n",
       "6       NaN           R      142  \n",
       "7       NaN           R      154  \n",
       "8       NaN           R      113  \n",
       "9     Drama       PG_13      152  "
      ]
     },
     "execution_count": 150,
     "metadata": {},
     "output_type": "execute_result"
    }
   ],
   "source": [
    "data_df"
   ]
  },
  {
   "cell_type": "code",
   "execution_count": 151,
   "metadata": {},
   "outputs": [
    {
     "name": "stdout",
     "output_type": "stream",
     "text": [
      "key = 8.5 \n",
      "    Rating  Year  Runtime\n",
      "2     8.5  1964       95\n",
      "5     8.5  1975      198\n",
      "key = 8.6 \n",
      "    Rating  Year  Runtime\n",
      "8     8.6  2000      113\n",
      "key = 8.7 \n",
      "    Rating  Year  Runtime\n",
      "0     8.7  1950      110\n",
      "key = 8.9 \n",
      "    Rating  Year  Runtime\n",
      "1     8.9  1957       96\n",
      "7     8.9  1994      154\n",
      "key = 9.0 \n",
      "    Rating  Year  Runtime\n",
      "9     9.0  2008      152\n",
      "key = 9.1 \n",
      "    Rating  Year  Runtime\n",
      "4     9.1  1974      202\n",
      "key = 9.2 \n",
      "    Rating  Year  Runtime\n",
      "3     9.2  1972      175\n",
      "key = 9.3 \n",
      "    Rating  Year  Runtime\n",
      "6     9.3  1994      142\n"
     ]
    }
   ],
   "source": [
    "for key, group in data_df.groupby('Rating'):\n",
    "    print('key =', key,'\\n', group[['Rating','Year','Runtime']])"
   ]
  },
  {
   "cell_type": "markdown",
   "metadata": {},
   "source": [
    "csv\n",
    "excel\n",
    "hdf\n",
    "sql\n",
    "JSON\n",
    "HTML\n",
    "pickle\n",
    "\n"
   ]
  },
  {
   "cell_type": "markdown",
   "metadata": {},
   "source": [
    "### PLOTTING"
   ]
  },
  {
   "cell_type": "code",
   "execution_count": 152,
   "metadata": {},
   "outputs": [
    {
     "data": {
      "text/plain": [
       "<Axes: >"
      ]
     },
     "execution_count": 152,
     "metadata": {},
     "output_type": "execute_result"
    },
    {
     "data": {
      "image/png": "[encoded data removed]",
      "text/plain": [
       "<Figure size 1000x400 with 1 Axes>"
      ]
     },
     "metadata": {},
     "output_type": "display_data"
    }
   ],
   "source": [
    "data_df.plot(figsize=(10,4))\n"
   ]
  },
  {
   "cell_type": "code",
   "execution_count": 153,
   "metadata": {},
   "outputs": [
    {
     "data": {
      "image/png": "[encoded data removed]",
      "text/plain": [
       "<Figure size 1000x400 with 1 Axes>"
      ]
     },
     "metadata": {},
     "output_type": "display_data"
    }
   ],
   "source": [
    "ax = data_df.plot(x='Year',figsize=(10,4))"
   ]
  },
  {
   "cell_type": "code",
   "execution_count": 154,
   "metadata": {},
   "outputs": [
    {
     "data": {
      "image/png": "[encoded data removed]",
      "text/plain": [
       "<Figure size 1000x400 with 1 Axes>"
      ]
     },
     "metadata": {},
     "output_type": "display_data"
    }
   ],
   "source": [
    "ax = data_df.plot.bar(x='Year',figsize=(10,4))"
   ]
  },
  {
   "cell_type": "code",
   "execution_count": 155,
   "metadata": {},
   "outputs": [
    {
     "data": {
      "image/png": "[encoded data removed]",
      "text/plain": [
       "<Figure size 1000x400 with 1 Axes>"
      ]
     },
     "metadata": {},
     "output_type": "display_data"
    }
   ],
   "source": [
    "ax = data_df.plot.bar(x='Year',stacked=True, figsize=(10,4))"
   ]
  },
  {
   "cell_type": "code",
   "execution_count": 156,
   "metadata": {},
   "outputs": [],
   "source": [
    "timeseries = pd.Series(np.random.randn(100),\n",
    "                       index=pd.date_range('1/1/2010', periods=100))\n",
    "\n",
    "ts_df = pd.DataFrame(np.random.randn(100,4), \n",
    "                     index = timeseries.index,\n",
    "                     columns=list('ABCD'))"
   ]
  },
  {
   "cell_type": "code",
   "execution_count": 157,
   "metadata": {},
   "outputs": [
    {
     "data": {
      "text/html": [
       "<div>\n",
       "<style scoped>\n",
       "    .dataframe tbody tr th:only-of-type {\n",
       "        vertical-align: middle;\n",
       "    }\n",
       "\n",
       "    .dataframe tbody tr th {\n",
       "        vertical-align: top;\n",
       "    }\n",
       "\n",
       "    .dataframe thead th {\n",
       "        text-align: right;\n",
       "    }\n",
       "</style>\n",
       "<table border=\"1\" class=\"dataframe\">\n",
       "  <thead>\n",
       "    <tr style=\"text-align: right;\">\n",
       "      <th></th>\n",
       "      <th>A</th>\n",
       "      <th>B</th>\n",
       "      <th>C</th>\n",
       "      <th>D</th>\n",
       "    </tr>\n",
       "  </thead>\n",
       "  <tbody>\n",
       "    <tr>\n",
       "      <th>2010-01-01</th>\n",
       "      <td>-1.620316</td>\n",
       "      <td>-0.303644</td>\n",
       "      <td>1.157289</td>\n",
       "      <td>-1.358053</td>\n",
       "    </tr>\n",
       "    <tr>\n",
       "      <th>2010-01-02</th>\n",
       "      <td>-0.432054</td>\n",
       "      <td>-0.170466</td>\n",
       "      <td>1.589071</td>\n",
       "      <td>-0.352256</td>\n",
       "    </tr>\n",
       "    <tr>\n",
       "      <th>2010-01-03</th>\n",
       "      <td>0.535834</td>\n",
       "      <td>0.108850</td>\n",
       "      <td>1.028127</td>\n",
       "      <td>-0.088240</td>\n",
       "    </tr>\n",
       "    <tr>\n",
       "      <th>2010-01-04</th>\n",
       "      <td>0.294119</td>\n",
       "      <td>-1.431910</td>\n",
       "      <td>0.997404</td>\n",
       "      <td>0.102843</td>\n",
       "    </tr>\n",
       "    <tr>\n",
       "      <th>2010-01-05</th>\n",
       "      <td>0.078085</td>\n",
       "      <td>-1.105524</td>\n",
       "      <td>-0.100543</td>\n",
       "      <td>0.309992</td>\n",
       "    </tr>\n",
       "    <tr>\n",
       "      <th>2010-01-06</th>\n",
       "      <td>0.676859</td>\n",
       "      <td>1.564611</td>\n",
       "      <td>0.262706</td>\n",
       "      <td>0.339405</td>\n",
       "    </tr>\n",
       "    <tr>\n",
       "      <th>2010-01-07</th>\n",
       "      <td>-0.102528</td>\n",
       "      <td>-0.405512</td>\n",
       "      <td>-1.273057</td>\n",
       "      <td>1.192445</td>\n",
       "    </tr>\n",
       "    <tr>\n",
       "      <th>2010-01-08</th>\n",
       "      <td>0.291081</td>\n",
       "      <td>0.211979</td>\n",
       "      <td>0.311444</td>\n",
       "      <td>0.219033</td>\n",
       "    </tr>\n",
       "    <tr>\n",
       "      <th>2010-01-09</th>\n",
       "      <td>-0.540554</td>\n",
       "      <td>-0.876632</td>\n",
       "      <td>-1.805675</td>\n",
       "      <td>0.566391</td>\n",
       "    </tr>\n",
       "    <tr>\n",
       "      <th>2010-01-10</th>\n",
       "      <td>-0.609270</td>\n",
       "      <td>-1.879118</td>\n",
       "      <td>1.290811</td>\n",
       "      <td>0.045806</td>\n",
       "    </tr>\n",
       "  </tbody>\n",
       "</table>\n",
       "</div>"
      ],
      "text/plain": [
       "                   A         B         C         D\n",
       "2010-01-01 -1.620316 -0.303644  1.157289 -1.358053\n",
       "2010-01-02 -0.432054 -0.170466  1.589071 -0.352256\n",
       "2010-01-03  0.535834  0.108850  1.028127 -0.088240\n",
       "2010-01-04  0.294119 -1.431910  0.997404  0.102843\n",
       "2010-01-05  0.078085 -1.105524 -0.100543  0.309992\n",
       "2010-01-06  0.676859  1.564611  0.262706  0.339405\n",
       "2010-01-07 -0.102528 -0.405512 -1.273057  1.192445\n",
       "2010-01-08  0.291081  0.211979  0.311444  0.219033\n",
       "2010-01-09 -0.540554 -0.876632 -1.805675  0.566391\n",
       "2010-01-10 -0.609270 -1.879118  1.290811  0.045806"
      ]
     },
     "execution_count": 157,
     "metadata": {},
     "output_type": "execute_result"
    }
   ],
   "source": [
    "ts_df.head(10)"
   ]
  },
  {
   "cell_type": "code",
   "execution_count": 158,
   "metadata": {},
   "outputs": [
    {
     "data": {
      "image/png": "[encoded data removed]",
      "text/plain": [
       "<Figure size 1000x400 with 1 Axes>"
      ]
     },
     "metadata": {},
     "output_type": "display_data"
    }
   ],
   "source": [
    "ax=ts_df.plot(figsize=(10,4))"
   ]
  },
  {
   "cell_type": "code",
   "execution_count": 159,
   "metadata": {},
   "outputs": [
    {
     "data": {
      "image/png": "[encoded data removed]",
      "text/plain": [
       "<Figure size 1000x400 with 1 Axes>"
      ]
     },
     "metadata": {},
     "output_type": "display_data"
    }
   ],
   "source": [
    "ts_df=ts_df.cumsum()\n",
    "ax=ts_df.plot(figsize=(10,4))"
   ]
  },
  {
   "cell_type": "code",
   "execution_count": 161,
   "metadata": {},
   "outputs": [
    {
     "data": {
      "image/png": "[encoded data removed]",
      "text/plain": [
       "<Figure size 1000x400 with 1 Axes>"
      ]
     },
     "metadata": {},
     "output_type": "display_data"
    }
   ],
   "source": [
    "ts_df.iloc[5].plot(kind='bar',figsize=(10,4))\n",
    "plt.axhline(0,color='k')\n",
    "plt.grid(True)"
   ]
  },
  {
   "cell_type": "code",
   "execution_count": 164,
   "metadata": {},
   "outputs": [
    {
     "data": {
      "image/png": "[encoded data removed]",
      "text/plain": [
       "<Figure size 1000x400 with 1 Axes>"
      ]
     },
     "metadata": {},
     "output_type": "display_data"
    }
   ],
   "source": [
    "ax= ts_df.iloc[:20].plot(kind='bar',figsize=(10,4),stacked=True)\n",
    "ax.set_xticklabels([pandas_datetime.strftime('%d-%m')\n",
    "                        for pandas_datetime in ts_df[:20].index])\n",
    "plt.axhline(0,color='k')\n",
    "plt.grid(True)"
   ]
  },
  {
   "cell_type": "code",
   "execution_count": 166,
   "metadata": {},
   "outputs": [
    {
     "data": {
      "text/plain": [
       "<Axes: ylabel='A'>"
      ]
     },
     "execution_count": 166,
     "metadata": {},
     "output_type": "execute_result"
    },
    {
     "data": {
      "image/png": "[encoded data removed]",
      "text/plain": [
       "<Figure size 640x480 with 1 Axes>"
      ]
     },
     "metadata": {},
     "output_type": "display_data"
    }
   ],
   "source": [
    "import seaborn as sns\n",
    "sns.boxplot(data=ts_df,y='A')\n",
    "\n"
   ]
  },
  {
   "cell_type": "code",
   "execution_count": null,
   "metadata": {},
   "outputs": [],
   "source": [
    "sns.boxplot(data=ts_df,y='A')"
   ]
  }
 ],
 "metadata": {
  "kernelspec": {
   "display_name": "Sep2024",
   "language": "python",
   "name": "python3"
  },
  "language_info": {
   "codemirror_mode": {
    "name": "ipython",
    "version": 3
   },
   "file_extension": ".py",
   "mimetype": "text/x-python",
   "name": "python",
   "nbconvert_exporter": "python",
   "pygments_lexer": "ipython3",
   "version": "3.10.7"
  }
 },
 "nbformat": 4,
 "nbformat_minor": 2
}
