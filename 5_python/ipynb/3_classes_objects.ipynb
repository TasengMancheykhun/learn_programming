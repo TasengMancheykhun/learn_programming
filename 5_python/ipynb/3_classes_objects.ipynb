{
 "cells": [
  {
   "cell_type": "code",
   "execution_count": 106,
   "metadata": {},
   "outputs": [
    {
     "name": "stdout",
     "output_type": "stream",
     "text": [
      "Buddy makes a bark sound\n"
     ]
    },
    {
     "data": {
      "text/plain": [
       "'Generic Animal'"
      ]
     },
     "execution_count": 106,
     "metadata": {},
     "output_type": "execute_result"
    }
   ],
   "source": [
    "class Animal:\n",
    "    def __init__(self,name):\n",
    "        self._name=name\n",
    "    def _make_sound(self,sound):\n",
    "        print (f'{self._name} makes a {sound} sound')\n",
    "\n",
    "class Dog(Animal):\n",
    "    def bark(self):\n",
    "        self._make_sound('bark')\n",
    "\n",
    "animal= Animal('Generic Animal')\n",
    "dog = Dog('Buddy')\n",
    "dog.bark()\n",
    "animal._name\n"
   ]
  },
  {
   "cell_type": "code",
   "execution_count": 107,
   "metadata": {},
   "outputs": [
    {
     "name": "stdout",
     "output_type": "stream",
     "text": [
      "ID:102, name: Vishal gets 60000\n",
      "ID:101, name: Taseng gets 50000\n"
     ]
    }
   ],
   "source": [
    "class Employee:\n",
    "    def __init__(self,emp_id,emp_name,emp_salary):\n",
    "        self._emp_id = emp_id\n",
    "        self._emp_name = emp_name\n",
    "        self._emp_salary = emp_salary\n",
    "\n",
    "    def __str__(self):\n",
    "        return f'ID:{self._emp_id}, name: {self._emp_name} gets {self._emp_salary}'\n",
    "    \n",
    "    def increase_salary(self,amount):\n",
    "        if amount > 0:\n",
    "            self._emp_salary += amount\n",
    "        else:\n",
    "            print(f'Invalid amount: {amount}')\n",
    "\n",
    "emp1 = Employee(101,'Taseng',50000)\n",
    "emp2 = Employee(102,'Vishal',60000)\n",
    "print (emp2)\n",
    "print (emp1)"
   ]
  },
  {
   "cell_type": "code",
   "execution_count": 108,
   "metadata": {},
   "outputs": [
    {
     "name": "stdout",
     "output_type": "stream",
     "text": [
      "ID:102, name: Vishal gets 110000\n"
     ]
    }
   ],
   "source": [
    "emp2.increase_salary(50000)\n",
    "print(emp2)"
   ]
  },
  {
   "cell_type": "code",
   "execution_count": 109,
   "metadata": {},
   "outputs": [
    {
     "name": "stdout",
     "output_type": "stream",
     "text": [
      "ID:101, name: Taseng gets 90000\n"
     ]
    }
   ],
   "source": [
    "emp1.increase_salary(40000)\n",
    "print(emp1)"
   ]
  },
  {
   "cell_type": "code",
   "execution_count": 110,
   "metadata": {},
   "outputs": [
    {
     "name": "stdout",
     "output_type": "stream",
     "text": [
      "ID:102, name: Vishal gets 110000\n",
      "ID:101, name: Taseng gets 90000\n"
     ]
    }
   ],
   "source": [
    "print (emp2.__str__())\n",
    "print(emp1)"
   ]
  },
  {
   "cell_type": "markdown",
   "metadata": {},
   "source": [
    "# Multiple Super Class"
   ]
  },
  {
   "cell_type": "code",
   "execution_count": 111,
   "metadata": {},
   "outputs": [
    {
     "name": "stdout",
     "output_type": "stream",
     "text": [
      "Value: 6\n"
     ]
    }
   ],
   "source": [
    "class Calculator:\n",
    "    def calculate(self,expression):\n",
    "        self.value = eval(expression)\n",
    "    \n",
    "class Talker:\n",
    "    def talk(self):\n",
    "        print(f'Value: {self.value}')\n",
    "    \n",
    "class talkingCalculator(Calculator,Talker):\n",
    "    pass\n",
    "\n",
    "tc = talkingCalculator()\n",
    "tc.calculate('1+2+3')\n",
    "tc.talk()\n",
    "\n"
   ]
  },
  {
   "cell_type": "code",
   "execution_count": 112,
   "metadata": {},
   "outputs": [
    {
     "name": "stdout",
     "output_type": "stream",
     "text": [
      "In __init__ of TalkingCalculator\n",
      "In __init__ of Calculator\n",
      "In __init__ of Talker\n",
      "In __init__ of Interaction system\n",
      "I am calculator\n"
     ]
    }
   ],
   "source": [
    "class InteractionSystem:\n",
    "    def __init__(self):\n",
    "        print('In __init__ of Interaction system')\n",
    "\n",
    "    def who_am_i(self):\n",
    "        print('I am Interaction system')\n",
    "\n",
    "class Calculator(InteractionSystem):\n",
    "    def __init__(self):\n",
    "        print('In __init__ of Calculator')\n",
    "        super().__init__()\n",
    "\n",
    "    def calculate(self,expression):\n",
    "        self.value = eval(expression)\n",
    "    \n",
    "    def who_am_i(self):\n",
    "        print('I am calculator')\n",
    "\n",
    "class Talker(InteractionSystem):\n",
    "    def __init__(self):\n",
    "        print('In __init__ of Talker')\n",
    "        super().__init__()\n",
    "\n",
    "    def who_am_i(self):\n",
    "        print('I am Talker')\n",
    "    \n",
    "    def talk(self):\n",
    "        print(f'Value: {self.value}')\n",
    "    \n",
    "    \n",
    "class talkingCalculator(Calculator,Talker):\n",
    "    def __init__(self):\n",
    "        print('In __init__ of TalkingCalculator')\n",
    "        super().__init__()\n",
    "\n",
    "    \n",
    "\n",
    "tc = talkingCalculator()\n",
    "tc.who_am_i()"
   ]
  },
  {
   "cell_type": "code",
   "execution_count": 113,
   "metadata": {},
   "outputs": [
    {
     "data": {
      "text/plain": [
       "(__main__.talkingCalculator,\n",
       " __main__.Calculator,\n",
       " __main__.Talker,\n",
       " __main__.InteractionSystem,\n",
       " object)"
      ]
     },
     "execution_count": 113,
     "metadata": {},
     "output_type": "execute_result"
    }
   ],
   "source": [
    "talkingCalculator.__mro__"
   ]
  },
  {
   "cell_type": "markdown",
   "metadata": {},
   "source": [
    "`__len__()`, `__getitem()__`,`__setitem()__`, `__delitem__`"
   ]
  },
  {
   "cell_type": "code",
   "execution_count": 114,
   "metadata": {},
   "outputs": [
    {
     "name": "stdout",
     "output_type": "stream",
     "text": [
      "{}\n"
     ]
    }
   ],
   "source": [
    "def check_index(key):\n",
    "    if not isinstance(key,int) :raise TypeError\n",
    "    if key<0: raise IndexError\n",
    "\n",
    "class ArithmeticError:\n",
    "    def __init__(self, start=0,step=0):\n",
    "        self.start=start\n",
    "        self.step=step\n",
    "        self.change={}\n",
    "\n",
    "    def __getitem__(self, key):\n",
    "        check_index(key)\n",
    "        try: return self.change[key]\n",
    "        except KeyError:\n",
    "            return self.start + key*self.step\n",
    "        \n",
    "    def __setitem__(self,key,value):\n",
    "        check_index(key)\n",
    "        self.change[key]=value\n",
    "\n",
    "    def __str__(self):\n",
    "        return f'{self.change}'\n",
    "\n",
    "\n",
    "s=ArithmeticError(1,2)        \n",
    "print(s)"
   ]
  },
  {
   "cell_type": "code",
   "execution_count": 115,
   "metadata": {},
   "outputs": [
    {
     "name": "stdout",
     "output_type": "stream",
     "text": [
      "{2: 1000}\n"
     ]
    }
   ],
   "source": [
    "s[2]=1000\n",
    "print(s)\n"
   ]
  },
  {
   "cell_type": "code",
   "execution_count": 116,
   "metadata": {},
   "outputs": [
    {
     "data": {
      "text/plain": [
       "1"
      ]
     },
     "execution_count": 116,
     "metadata": {},
     "output_type": "execute_result"
    }
   ],
   "source": [
    "s[0]"
   ]
  },
  {
   "cell_type": "markdown",
   "metadata": {},
   "source": [
    "# Iterators"
   ]
  },
  {
   "cell_type": "code",
   "execution_count": 5,
   "metadata": {},
   "outputs": [],
   "source": [
    "class Fibs:\n",
    "    def __init__(self):\n",
    "        self.a=0\n",
    "        self.b=1\n",
    "    def next(self):\n",
    "        self.a, self.b = self.b, self.a+self.b\n",
    "        return self.a\n",
    "    def __iter__(self):\n",
    "        return self\n"
   ]
  },
  {
   "cell_type": "code",
   "execution_count": 9,
   "metadata": {},
   "outputs": [
    {
     "name": "stdout",
     "output_type": "stream",
     "text": [
      "1, 1, 2, 3, 5, 8, 13, 21, 34, 55, "
     ]
    }
   ],
   "source": [
    "fib = Fibs()\n",
    "for _ in range(10):\n",
    "    print(fib.next(), end=', ')"
   ]
  },
  {
   "cell_type": "code",
   "execution_count": 10,
   "metadata": {},
   "outputs": [],
   "source": [
    "class FibsIter:\n",
    "    def __init__(self, max_num):\n",
    "        self.max_num = max_num\n",
    "    \n",
    "    def __iter__(self):\n",
    "        self.a=0\n",
    "        self.b=1\n",
    "        return self\n",
    "    \n",
    "    def __next__(self):\n",
    "        if self.a <= self.max_num:\n",
    "            self.a, self.b = self.b, self.a+self.b\n",
    "            return self.a\n",
    "        else:\n",
    "            raise StopIteration\n",
    "             "
   ]
  },
  {
   "cell_type": "code",
   "execution_count": 11,
   "metadata": {},
   "outputs": [
    {
     "name": "stdout",
     "output_type": "stream",
     "text": [
      "1, 1, 2, 3, 5, 8, 13, 21, "
     ]
    }
   ],
   "source": [
    "fibs = FibsIter(20)\n",
    "for fib in fibs:\n",
    "    print(fib, end=', ')"
   ]
  },
  {
   "cell_type": "markdown",
   "metadata": {},
   "source": [
    "# Static Method and Class Method"
   ]
  },
  {
   "cell_type": "code",
   "execution_count": 119,
   "metadata": {},
   "outputs": [
    {
     "name": "stdout",
     "output_type": "stream",
     "text": [
      "15\n"
     ]
    }
   ],
   "source": [
    "class MathOperations:\n",
    "    @staticmethod\n",
    "    def add(x,y):\n",
    "        return x+y\n",
    "    \n",
    "result = MathOperations.add(5,10)\n",
    "print(result)"
   ]
  },
  {
   "cell_type": "markdown",
   "metadata": {},
   "source": [
    "# ClassMethod"
   ]
  },
  {
   "cell_type": "code",
   "execution_count": 120,
   "metadata": {},
   "outputs": [
    {
     "name": "stdout",
     "output_type": "stream",
     "text": [
      "1\n",
      "2\n"
     ]
    }
   ],
   "source": [
    "class MathOperations:\n",
    "    count=0\n",
    "    @classmethod\n",
    "    def increment_count(cls):\n",
    "        cls.count +=1\n",
    "        return cls.count\n",
    "    \n",
    "\n",
    "print(MathOperations.increment_count())\n",
    "print(MathOperations.increment_count())"
   ]
  },
  {
   "cell_type": "code",
   "execution_count": 121,
   "metadata": {},
   "outputs": [
    {
     "name": "stdout",
     "output_type": "stream",
     "text": [
      "3\n"
     ]
    }
   ],
   "source": [
    "print(MathOperations.increment_count())"
   ]
  },
  {
   "cell_type": "code",
   "execution_count": 122,
   "metadata": {},
   "outputs": [
    {
     "name": "stdout",
     "output_type": "stream",
     "text": [
      "Static Method: 8\n",
      "Class Method: Count is 1\n",
      "Class Method: Count is 2\n",
      "Instance Method: My name is Mohan\n",
      "Instance Method: My name is Bhavna\n"
     ]
    }
   ],
   "source": [
    "class Example:\n",
    "    count=0\n",
    "\n",
    "    def __init__(self,name):\n",
    "        self.name = name\n",
    "\n",
    "    @staticmethod\n",
    "    def static_method(x,y):\n",
    "        return f'Static Method: {x+y}'\n",
    "    \n",
    "    @classmethod\n",
    "    def class_method(cls):\n",
    "        cls.count +=1\n",
    "        return f'Class Method: Count is {cls.count}'\n",
    "    \n",
    "    def instance_method(self):\n",
    "        return f\"Instance Method: My name is {self.name}\"\n",
    "    \n",
    "obj1 = Example('Mohan')\n",
    "obj2 = Example('Bhavna')    \n",
    "print(Example.static_method(3,5))\n",
    "print(Example.class_method())\n",
    "print(Example.class_method())\n",
    "\n",
    "print(obj1.instance_method())\n",
    "print(obj2.instance_method())"
   ]
  },
  {
   "cell_type": "markdown",
   "metadata": {},
   "source": []
  }
 ],
 "metadata": {
  "kernelspec": {
   "display_name": "Sep2024",
   "language": "python",
   "name": "python3"
  },
  "language_info": {
   "codemirror_mode": {
    "name": "ipython",
    "version": 3
   },
   "file_extension": ".py",
   "mimetype": "text/x-python",
   "name": "python",
   "nbconvert_exporter": "python",
   "pygments_lexer": "ipython3",
   "version": "3.10.7"
  }
 },
 "nbformat": 4,
 "nbformat_minor": 2
}
