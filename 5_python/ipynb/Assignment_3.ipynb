{
 "cells": [
  {
   "cell_type": "code",
   "execution_count": 170,
   "metadata": {},
   "outputs": [
    {
     "name": "stdout",
     "output_type": "stream",
     "text": [
      "Total number of students:  4\n",
      "Updated Lisa's favourite Colour : Green\n",
      "Updates dic after removing 'Jenny' :  {'Arham': 'Blue', 'Lisa': 'Green', 'Vinod': 'Purple'}\n"
     ]
    },
    {
     "ename": "TypeError",
     "evalue": "'list' object is not callable",
     "output_type": "error",
     "traceback": [
      "\u001b[0;31m---------------------------------------------------------------------------\u001b[0m",
      "\u001b[0;31mTypeError\u001b[0m                                 Traceback (most recent call last)",
      "Cell \u001b[0;32mIn[170], line 8\u001b[0m\n\u001b[1;32m      6\u001b[0m \u001b[38;5;28;01mdel\u001b[39;00m people[\u001b[38;5;124m'\u001b[39m\u001b[38;5;124mJenny\u001b[39m\u001b[38;5;124m'\u001b[39m]\n\u001b[1;32m      7\u001b[0m \u001b[38;5;28mprint\u001b[39m(\u001b[38;5;124m'\u001b[39m\u001b[38;5;124mUpdates dic after removing \u001b[39m\u001b[38;5;130;01m\\'\u001b[39;00m\u001b[38;5;124mJenny\u001b[39m\u001b[38;5;130;01m\\'\u001b[39;00m\u001b[38;5;124m : \u001b[39m\u001b[38;5;124m'\u001b[39m,people)\n\u001b[0;32m----> 8\u001b[0m myKeys \u001b[38;5;241m=\u001b[39m \u001b[38;5;28;43mlist\u001b[39;49m\u001b[43m(\u001b[49m\u001b[43mpeople\u001b[49m\u001b[38;5;241;43m.\u001b[39;49m\u001b[43mkeys\u001b[49m\u001b[43m(\u001b[49m\u001b[43m)\u001b[49m\u001b[43m)\u001b[49m\n\u001b[1;32m      9\u001b[0m myKeys\u001b[38;5;241m.\u001b[39msort()\n\u001b[1;32m     10\u001b[0m \u001b[38;5;66;03m#sorted_dict = {i: people[i] for i in myKeys}\u001b[39;00m\n\u001b[1;32m     11\u001b[0m \u001b[38;5;66;03m#print (sorted_dict)\u001b[39;00m\n",
      "\u001b[0;31mTypeError\u001b[0m: 'list' object is not callable"
     ]
    }
   ],
   "source": [
    "people={'Arham':'Blue', 'Lisa':'Yellow', 'Vinod':'Purple', 'Jenny':'Pink'}\n",
    "\n",
    "print ('Total number of students: ',len(people))\n",
    "people['Lisa']='Green'\n",
    "print('Updated Lisa\\'s favourite Colour :',people['Lisa'])\n",
    "del people['Jenny']\n",
    "print('Updates dic after removing \\'Jenny\\' : ',people)\n",
    "myKeys = list(people.keys())\n",
    "myKeys.sort()\n",
    "#sorted_dict = {i: people[i] for i in myKeys}\n",
    "#print (sorted_dict)"
   ]
  },
  {
   "cell_type": "code",
   "execution_count": 64,
   "metadata": {},
   "outputs": [
    {
     "name": "stdout",
     "output_type": "stream",
     "text": [
      "Dict after sorting by students name :  {'Arham': 'Blue', 'Lisa': 'Green', 'Vinod': 'Purple'}\n"
     ]
    }
   ],
   "source": [
    "sorted_dic = dict(sorted(people.items()))\n",
    "print ('Dict after sorting by students name : ',sorted_dic)"
   ]
  },
  {
   "cell_type": "code",
   "execution_count": 65,
   "metadata": {},
   "outputs": [
    {
     "name": "stdout",
     "output_type": "stream",
     "text": [
      "{'Arham': 'Blue', 'Lisa': 'Yellow', 'Vinod': 'Purple', 'Jenny': 'Pink', 'Vishal': 'black'}\n"
     ]
    }
   ],
   "source": [
    "people1={'Arham':'Blue', 'Lisa':'Yellow', 'Vinod':'Purple', 'Jenny':'Pink'}\n",
    "people1['Vishal']= 'black'\n",
    "print (people1)"
   ]
  },
  {
   "cell_type": "markdown",
   "metadata": {},
   "source": [
    "### problem 2"
   ]
  },
  {
   "cell_type": "code",
   "execution_count": 66,
   "metadata": {},
   "outputs": [
    {
     "data": {
      "text/plain": [
       "'tothohisos isos fofunon'"
      ]
     },
     "execution_count": 66,
     "metadata": {},
     "output_type": "execute_result"
    }
   ],
   "source": [
    "def translate(text):\n",
    "    vowels = \"aeiouAEIOU \"\n",
    "    rovar_string=''\n",
    "    for char in text:\n",
    "        if char in vowels:\n",
    "         rovar_string=rovar_string+char\n",
    "        else:\n",
    "           rovar_string= rovar_string+char +'o'+ char\n",
    "    return rovar_string\n",
    "\n",
    "\n",
    "translate('this is fun')\n",
    "        "
   ]
  },
  {
   "cell_type": "code",
   "execution_count": 67,
   "metadata": {},
   "outputs": [
    {
     "data": {
      "text/plain": [
       "'tothohisos isos fofunon'"
      ]
     },
     "execution_count": 67,
     "metadata": {},
     "output_type": "execute_result"
    }
   ],
   "source": [
    "#method 2 class\n",
    "def translate(text):\n",
    "    vowels = \"aeiouAEIOU\"\n",
    "    rovar_string=''\n",
    "    for char in text:\n",
    "        if char not in vowels and char.isalpha():\n",
    "         rovar_string= rovar_string+char +'o'+ char\n",
    "         \n",
    "        else:\n",
    "          rovar_string=rovar_string+char \n",
    "    return rovar_string\n",
    "\n",
    "\n",
    "translate('this is fun')"
   ]
  },
  {
   "cell_type": "markdown",
   "metadata": {},
   "source": [
    "### PROBLEM 5"
   ]
  },
  {
   "cell_type": "code",
   "execution_count": 78,
   "metadata": {},
   "outputs": [
    {
     "name": "stdout",
     "output_type": "stream",
     "text": [
      "TRUE\n",
      "FALSE\n"
     ]
    }
   ],
   "source": [
    "def overlapping(list1,list2):\n",
    "    flagF=0\n",
    "    flat = 0 \n",
    "\n",
    "    for i in list1:\n",
    "        if i in list2:\n",
    "            flat =1\n",
    "            #print(\"TRUE\")\n",
    "        \n",
    "        else:\n",
    "            flagF = 1\n",
    "            #print('FALSE')\n",
    "    if flat>0:\n",
    "        print('TRUE')\n",
    "    else:\n",
    "        print('FALSE')\n",
    "overlapping([1,2,3,4,5],[3,4,5])\n",
    "overlapping([1,2,3],[4,5,6])"
   ]
  },
  {
   "cell_type": "markdown",
   "metadata": {},
   "source": [
    "### REGEX IN PYTHON\n",
    "problem 8"
   ]
  },
  {
   "cell_type": "code",
   "execution_count": 179,
   "metadata": {},
   "outputs": [
    {
     "name": "stdout",
     "output_type": "stream",
     "text": [
      "This is cdac.Indeed\n"
     ]
    }
   ],
   "source": [
    "import re\n",
    "\n",
    "def correct(text):\n",
    "    corrected_text = re.sub(r'\\s{2,}',' ',text)\n",
    "\n",
    "    corrected_text = re.sub(r'\\.{[a-zA-Z]}',\"\\1 \",corrected_text)\n",
    "    return corrected_text\n",
    "\n",
    "corrected_text = correct(\"This is  cdac.Indeed\")\n",
    "print(corrected_text)"
   ]
  },
  {
   "cell_type": "markdown",
   "metadata": {},
   "source": []
  },
  {
   "cell_type": "code",
   "execution_count": 101,
   "metadata": {},
   "outputs": [],
   "source": [
    "key = {'a':'n', 'b':'o', 'c':'p', 'd':'q', 'e':'r', 'f':'s', 'g':'t', 'h':'u', 'i':'v', 'j':'w', 'k':'x', 'l':'y', 'm':'z', 'n':'a', 'o':'b','p':'c', 'q':'d', 'r':'e', 's':'f', 't':'g', 'u':'h', 'v':'i', 'w':'j', 'x':'k', 'y':'l', 'z':'m', 'A':'N', 'B':'O', 'C':'P', 'D':'Q', 'E':'R', 'F':'S', 'G':'T', 'H':'U', 'I':'V', 'J':'W', 'K':'X', 'L':'Y', 'M':'Z', 'N':'A', 'O':'B', 'P':'C', 'Q':'D', 'R':'E', 'S':'F', 'T':'G', 'U':'H', 'V':'I', 'W':'J', 'X':'K', 'Y':'L', 'Z':'M'}"
   ]
  },
  {
   "cell_type": "code",
   "execution_count": 102,
   "metadata": {},
   "outputs": [
    {
     "name": "stdout",
     "output_type": "stream",
     "text": [
      "{'a': 'n', 'b': 'o', 'c': 'p', 'd': 'q', 'e': 'r', 'f': 's', 'g': 't', 'h': 'u', 'i': 'v', 'j': 'w', 'k': 'x', 'l': 'y', 'm': 'z', 'n': 'a', 'o': 'b', 'p': 'c', 'q': 'd', 'r': 'e', 's': 'f', 't': 'g', 'u': 'h', 'v': 'i', 'w': 'j', 'x': 'k', 'y': 'l', 'z': 'm', 'A': 'N', 'B': 'O', 'C': 'P', 'D': 'Q', 'E': 'R', 'F': 'S', 'G': 'T', 'H': 'U', 'I': 'V', 'J': 'W', 'K': 'X', 'L': 'Y', 'M': 'Z', 'N': 'A', 'O': 'B', 'P': 'C', 'Q': 'D', 'R': 'E', 'S': 'F', 'T': 'G', 'U': 'H', 'V': 'I', 'W': 'J', 'X': 'K', 'Y': 'L', 'Z': 'M'}\n"
     ]
    }
   ],
   "source": [
    "print(key)"
   ]
  },
  {
   "cell_type": "code",
   "execution_count": 142,
   "metadata": {},
   "outputs": [
    {
     "name": "stdout",
     "output_type": "stream",
     "text": [
      "Caesar cipher? I much prefer Caesar salad!\n",
      "Pnrfne pvcure? V zhpu cersre Pnrfne fnynq!\n"
     ]
    }
   ],
   "source": [
    "dict = {'a':'n', 'b':'o', 'c':'p', 'd':'q', 'e':'r', 'f':'s', 'g':'t', 'h':'u', 'i':'v', 'j':'w', 'k':'x', 'l':'y', 'm':'z', 'n':'a', 'o':'b','p':'c', 'q':'d', 'r':'e', 's':'f', 't':'g', 'u':'h', 'v':'i', 'w':'j', 'x':'k', 'y':'l', 'z':'m', 'A':'N', 'B':'O', 'C':'P', 'D':'Q', 'E':'R', 'F':'S', 'G':'T', 'H':'U', 'I':'V', 'J':'W', 'K':'X', 'L':'Y', 'M':'Z', 'N':'A', 'O':'B', 'P':'C', 'Q':'D', 'R':'E', 'S':'F', 'T':'G', 'U':'H', 'V':'I', 'W':'J', 'X':'K', 'Y':'L', 'Z':'M'}\n",
    "\n",
    "secret='Pnrfne pvcure? V zhpu cersre Pnrfne fnynq!'\n",
    "\n",
    "file=[]\n",
    "for i in secret:\n",
    "    file.append(i)\n",
    "lst=[]\n",
    "for j in file:\n",
    "    if j.isalpha():\n",
    "        lst.append(dict[j])\n",
    "    else:\n",
    "        lst.append(j)\n",
    "result = str(lst)\n",
    "print(''.join(lst))\n",
    "\n",
    "\n",
    "def get_key(val):\n",
    "  \n",
    "    for key, value in dict.items():\n",
    "        if val == value:\n",
    "            return key\n",
    "\n",
    "    return \"key doesn't exist\"\n",
    "\n",
    "\n",
    "\n",
    "\n",
    "\n",
    "text='Caesar cipher? I much prefer Caesar salad!'\n",
    "file=[]\n",
    "for i in text:\n",
    "    file.append(i)\n",
    "lst=[]\n",
    "for j in file:\n",
    "    if j.isalpha():\n",
    "        lst.append(get_key(j))\n",
    "    else:\n",
    "        lst.append(j)\n",
    "result = str(lst)\n",
    "print(''.join(lst))"
   ]
  },
  {
   "cell_type": "code",
   "execution_count": 144,
   "metadata": {},
   "outputs": [
    {
     "name": "stdout",
     "output_type": "stream",
     "text": [
      "Ivfuny Thwner\n",
      "Vishal Gujare\n"
     ]
    }
   ],
   "source": [
    "dict = {'a':'n', 'b':'o', 'c':'p', 'd':'q', 'e':'r', 'f':'s', 'g':'t', 'h':'u', 'i':'v', 'j':'w', 'k':'x', 'l':'y', 'm':'z', 'n':'a', 'o':'b','p':'c', 'q':'d', 'r':'e', 's':'f', 't':'g', 'u':'h', 'v':'i', 'w':'j', 'x':'k', 'y':'l', 'z':'m', 'A':'N', 'B':'O', 'C':'P', 'D':'Q', 'E':'R', 'F':'S', 'G':'T', 'H':'U', 'I':'V', 'J':'W', 'K':'X', 'L':'Y', 'M':'Z', 'N':'A', 'O':'B', 'P':'C', 'Q':'D', 'R':'E', 'S':'F', 'T':'G', 'U':'H', 'V':'I', 'W':'J', 'X':'K', 'Y':'L', 'Z':'M'}\n",
    "\n",
    "secret='Vishal Gujare'\n",
    "\n",
    "file=[]\n",
    "for i in secret:\n",
    "    file.append(i)\n",
    "lst=[]\n",
    "for j in file:\n",
    "    if j.isalpha():\n",
    "        lst.append(dict[j])\n",
    "    else:\n",
    "        lst.append(j)\n",
    "result = str(lst)\n",
    "print(''.join(lst))\n",
    "\n",
    "\n",
    "def get_key(val):\n",
    "  \n",
    "    for key, value in dict.items():\n",
    "        if val == value:\n",
    "            return key\n",
    "\n",
    "    return \"key doesn't exist\"\n",
    "\n",
    "\n",
    "\n",
    "\n",
    "\n",
    "text='Ivfuny Thwner'\n",
    "file=[]\n",
    "for i in text:\n",
    "    file.append(i)\n",
    "lst=[]\n",
    "for j in file:\n",
    "    if j.isalpha():\n",
    "        lst.append(get_key(j))\n",
    "    else:\n",
    "        lst.append(j)\n",
    "result = str(lst)\n",
    "print(''.join(lst))"
   ]
  },
  {
   "cell_type": "code",
   "execution_count": 154,
   "metadata": {},
   "outputs": [
    {
     "name": "stdout",
     "output_type": "stream",
     "text": [
      "1\n",
      "2\n",
      "6\n",
      "24\n",
      "120\n",
      "720\n",
      "5040\n",
      "40320\n",
      "362880\n",
      "3628800\n",
      "39916800\n",
      "479001600\n",
      "6227020800\n",
      "87178291200\n",
      "1307674368000\n",
      "20922789888000\n",
      "355687428096000\n",
      "6402373705728000\n",
      "121645100408832000\n"
     ]
    }
   ],
   "source": [
    "def factorial(n):\n",
    "    result =n\n",
    "    for i in range (1,n):\n",
    "        result*=i\n",
    "    return result\n",
    "  \n",
    "\n",
    "for i in range(1,20):    \n",
    "    print(factorial(i))"
   ]
  },
  {
   "cell_type": "markdown",
   "metadata": {},
   "source": [
    "## problem 4\n"
   ]
  },
  {
   "cell_type": "code",
   "execution_count": 155,
   "metadata": {},
   "outputs": [
    {
     "data": {
      "text/plain": [
       "55"
      ]
     },
     "execution_count": 155,
     "metadata": {},
     "output_type": "execute_result"
    }
   ],
   "source": [
    "def factorial(n):\n",
    "    if n==1:\n",
    "        return 1\n",
    "    else:\n",
    "        return n+factorial(n-1)\n",
    "    \n",
    "factorial(10)"
   ]
  },
  {
   "cell_type": "markdown",
   "metadata": {},
   "source": [
    "### problem 6"
   ]
  },
  {
   "cell_type": "code",
   "execution_count": 159,
   "metadata": {},
   "outputs": [
    {
     "name": "stdout",
     "output_type": "stream",
     "text": [
      "('strawberry', 10)\n",
      "2\n"
     ]
    }
   ],
   "source": [
    "word_list = [\"apple\", \"banana\", \"strawberry\", \"kiwi\", \"pineapple\"]\n",
    "\n",
    "def find_longest_word(lst):\n",
    "    lgt=[]\n",
    "    for i in lst:\n",
    "        lgt.append(len(i))\n",
    "    a = max(lgt)  \n",
    "    b=lst[lgt.index(a)]  \n",
    "    return (b, len(b))\n",
    "\n",
    "print(find_longest_word(word_list))"
   ]
  },
  {
   "cell_type": "markdown",
   "metadata": {},
   "source": [
    "## problem 9"
   ]
  },
  {
   "cell_type": "code",
   "execution_count": 176,
   "metadata": {},
   "outputs": [
    {
     "name": "stdout",
     "output_type": "stream",
     "text": [
      "pleying\n"
     ]
    }
   ],
   "source": [
    "word = 'pleye'\n",
    "updated_word=''\n",
    "if word.endswith('e'):\n",
    "    print(word[:-1]+'ing')\n",
    "    #new_str = word.replace('e', 'ing')\n",
    "    #print(new_str)"
   ]
  },
  {
   "cell_type": "code",
   "execution_count": null,
   "metadata": {},
   "outputs": [],
   "source": []
  }
 ],
 "metadata": {
  "kernelspec": {
   "display_name": "Sep2024",
   "language": "python",
   "name": "python3"
  },
  "language_info": {
   "codemirror_mode": {
    "name": "ipython",
    "version": 3
   },
   "file_extension": ".py",
   "mimetype": "text/x-python",
   "name": "python",
   "nbconvert_exporter": "python",
   "pygments_lexer": "ipython3",
   "version": "3.10.7"
  }
 },
 "nbformat": 4,
 "nbformat_minor": 2
}
