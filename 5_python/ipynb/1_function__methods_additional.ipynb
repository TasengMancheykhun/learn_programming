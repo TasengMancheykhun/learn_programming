{
 "cells": [
  {
   "cell_type": "code",
   "execution_count": 39,
   "id": "77e8db76-a4e6-4e26-8683-29dd64fb9f85",
   "metadata": {},
   "outputs": [],
   "source": [
    "#!/usr/bin/env python3\n",
    "# -*- coding: utf-8 -*-"
   ]
  },
  {
   "cell_type": "markdown",
   "id": "f411edc5-1545-443a-973f-dd264ef180f9",
   "metadata": {},
   "source": [
    "### _______________FUNCTION_______________"
   ]
  },
  {
   "cell_type": "code",
   "execution_count": 40,
   "id": "f2a98135-592d-464a-93c2-aec58de64460",
   "metadata": {},
   "outputs": [
    {
     "name": "stdout",
     "output_type": "stream",
     "text": [
      "1\n"
     ]
    }
   ],
   "source": [
    "print (min([1,2,3]))"
   ]
  },
  {
   "cell_type": "code",
   "execution_count": 41,
   "id": "3eb7beff-ebd3-4282-ad1d-8151d1e19c0b",
   "metadata": {},
   "outputs": [
    {
     "data": {
      "text/plain": [
       "'PAul Cormer'"
      ]
     },
     "execution_count": 41,
     "metadata": {},
     "output_type": "execute_result"
    }
   ],
   "source": [
    "def gen_full_name():#define function\n",
    "    '''Args:\n",
    "    returns;'''\n",
    "    first_name = 'PAul '\n",
    "    last_name = 'Cormer'\n",
    "    full_name = first_name + last_name\n",
    "    return full_name\n",
    "  \n",
    "\n",
    "\n",
    "\n",
    "out_name = gen_full_name()\n",
    "out_name"
   ]
  },
  {
   "cell_type": "code",
   "execution_count": 42,
   "id": "7e5c9dab-e81e-4c59-9048-a3caa78f73fc",
   "metadata": {},
   "outputs": [
    {
     "data": {
      "text/plain": [
       "'Smalee'"
      ]
     },
     "metadata": {},
     "output_type": "display_data"
    }
   ],
   "source": [
    "def gen_full_name(first_name , last_name):#define function\n",
    "    '''Args:\n",
    "        first_name: str\n",
    "        last_name: str\n",
    "    returns:\n",
    "       full_name: str\n",
    "       '''\n",
    "    #first_name = 'PAul '\n",
    "    #last_name = 'Cormer'\n",
    "    full_name = first_name + last_name\n",
    "    return full_name\n",
    "  \n",
    "#gen_full_name('Vishal ','Gujare')\n",
    "first = 'Sma'\n",
    "last = 'lee'\n",
    "full_name = gen_full_name(first , last)\n",
    "display (full_name)"
   ]
  },
  {
   "cell_type": "code",
   "execution_count": 43,
   "id": "8958ec20-0782-42f1-9d24-c832c1629174",
   "metadata": {},
   "outputs": [
    {
     "data": {
      "text/plain": [
       "[100]"
      ]
     },
     "execution_count": 43,
     "metadata": {},
     "output_type": "execute_result"
    }
   ],
   "source": [
    "def comput_profit(sales,cost):\n",
    "    return sales-cost\n",
    "\n",
    "sale_data = [(100,70), (200,150) , (150,100), (300,200)]\n",
    "profits =  []\n",
    "for sales,cost in sale_data:\n",
    "    profit=comput_profit(sales,cost)\n",
    "    if profit>50:\n",
    "        profits.append(profit)\n",
    "\n",
    "profits\n",
    "#comput_profit(100,60)\n"
   ]
  },
  {
   "cell_type": "code",
   "execution_count": 44,
   "id": "fbe7eefb",
   "metadata": {},
   "outputs": [
    {
     "data": {
      "text/plain": [
       "30"
      ]
     },
     "execution_count": 44,
     "metadata": {},
     "output_type": "execute_result"
    }
   ],
   "source": [
    "comput_profit(100,70)"
   ]
  },
  {
   "cell_type": "code",
   "execution_count": 45,
   "id": "17dc5720",
   "metadata": {},
   "outputs": [
    {
     "data": {
      "text/plain": [
       "[50, 50, 100]"
      ]
     },
     "execution_count": 45,
     "metadata": {},
     "output_type": "execute_result"
    }
   ],
   "source": [
    "profits = [comput_profit(s,c) for s, c in sale_data\n",
    "           if comput_profit(s,c)>=50]\n",
    "profits"
   ]
  },
  {
   "cell_type": "code",
   "execution_count": 46,
   "id": "44e2ddbf",
   "metadata": {},
   "outputs": [
    {
     "data": {
      "text/plain": [
       "100"
      ]
     },
     "execution_count": 46,
     "metadata": {},
     "output_type": "execute_result"
    }
   ],
   "source": [
    "### WALRUS OPERATOR (:=)\n",
    "profits = [ profit for s,c in sale_data\n",
    "           if (profit :=comput_profit(s,c)) > 50]\n",
    "\n",
    "profit"
   ]
  },
  {
   "cell_type": "code",
   "execution_count": 47,
   "id": "6a496ad1",
   "metadata": {},
   "outputs": [
    {
     "data": {
      "text/plain": [
       "'Paul, welcome to Python'"
      ]
     },
     "execution_count": 47,
     "metadata": {},
     "output_type": "execute_result"
    }
   ],
   "source": [
    "# Default arguments in function\n",
    "\n",
    "def greetings(name='Paul'):\n",
    "    return f'{name}, welcome to Python'\n",
    "\n",
    "greetings()"
   ]
  },
  {
   "cell_type": "code",
   "execution_count": 48,
   "id": "9047fb5f",
   "metadata": {},
   "outputs": [
    {
     "data": {
      "text/plain": [
       "'John, welcome to Python'"
      ]
     },
     "execution_count": 48,
     "metadata": {},
     "output_type": "execute_result"
    }
   ],
   "source": [
    "greetings('John')"
   ]
  },
  {
   "cell_type": "code",
   "execution_count": 49,
   "id": "59077ba5",
   "metadata": {},
   "outputs": [
    {
     "data": {
      "text/plain": [
       "'Paul, welcome to Python'"
      ]
     },
     "execution_count": 49,
     "metadata": {},
     "output_type": "execute_result"
    }
   ],
   "source": [
    "def greetings(name='Paul', module='Python'):\n",
    "    return f'{name}, welcome to {module}'\n",
    "\n",
    "greetings()"
   ]
  },
  {
   "cell_type": "code",
   "execution_count": 50,
   "id": "718dcae4",
   "metadata": {},
   "outputs": [
    {
     "data": {
      "text/plain": [
       "'John, welcome to AI'"
      ]
     },
     "execution_count": 50,
     "metadata": {},
     "output_type": "execute_result"
    }
   ],
   "source": [
    "greetings('John','AI')"
   ]
  },
  {
   "cell_type": "code",
   "execution_count": 51,
   "id": "0d802127",
   "metadata": {},
   "outputs": [
    {
     "data": {
      "text/plain": [
       "9"
      ]
     },
     "execution_count": 51,
     "metadata": {},
     "output_type": "execute_result"
    }
   ],
   "source": [
    "def fn_do_something (fn_foo, x):\n",
    "    return fn_foo(x)\n",
    "\n",
    "def square_num(n):\n",
    "          return n*n\n",
    "\n",
    "fn_do_something(square_num,3)\n"
   ]
  },
  {
   "cell_type": "code",
   "execution_count": 52,
   "id": "5a753349",
   "metadata": {},
   "outputs": [
    {
     "name": "stdout",
     "output_type": "stream",
     "text": [
      "shrubberry\n"
     ]
    }
   ],
   "source": [
    "## Problme of shadowing\n",
    "parameter = 'berry'\n",
    "def combine(param):\n",
    "    parameter = param\n",
    "    print (parameter + globals ()['parameter'])\n",
    "\n",
    "\n",
    "combine ('shrub')"
   ]
  },
  {
   "cell_type": "code",
   "execution_count": 53,
   "id": "79bd7d6d",
   "metadata": {},
   "outputs": [
    {
     "data": {
      "text/plain": [
       "18"
      ]
     },
     "execution_count": 53,
     "metadata": {},
     "output_type": "execute_result"
    }
   ],
   "source": [
    "def multiplier(factor):#main\n",
    "    def multByFactor (number):#built-in \n",
    "         return factor*number\n",
    "    \n",
    "    return multByFactor #returning the function\n",
    "\n",
    "double = multiplier(2)\n",
    "double(9)"
   ]
  },
  {
   "cell_type": "markdown",
   "id": "1651fa4a",
   "metadata": {},
   "source": [
    "## Regression"
   ]
  },
  {
   "cell_type": "code",
   "execution_count": 54,
   "id": "ffd669f5",
   "metadata": {},
   "outputs": [
    {
     "data": {
      "text/plain": [
       "120"
      ]
     },
     "execution_count": 54,
     "metadata": {},
     "output_type": "execute_result"
    }
   ],
   "source": [
    "def factorial(n):\n",
    "    result =n\n",
    "    for i in range (1,n):\n",
    "        result*=i\n",
    "    return result\n",
    "\n",
    "factorial(5)"
   ]
  },
  {
   "cell_type": "code",
   "execution_count": 59,
   "id": "00c88103",
   "metadata": {},
   "outputs": [
    {
     "data": {
      "text/plain": [
       "120"
      ]
     },
     "execution_count": 59,
     "metadata": {},
     "output_type": "execute_result"
    }
   ],
   "source": [
    "def factorial(n):\n",
    "    if n==1:\n",
    "        return 1\n",
    "    else:\n",
    "        return n*factorial(n-1)\n",
    "    \n",
    "factorial(5)"
   ]
  },
  {
   "cell_type": "code",
   "execution_count": 63,
   "id": "1e344160",
   "metadata": {},
   "outputs": [
    {
     "name": "stdout",
     "output_type": "stream",
     "text": [
      "Welcome SamHost!\n"
     ]
    }
   ],
   "source": [
    "from utils import mymodule\n",
    "\n",
    "print(mymodule.generate_full_name('Sam', 'Host'))"
   ]
  },
  {
   "cell_type": "code",
   "execution_count": 64,
   "id": "4fe3a5ce",
   "metadata": {},
   "outputs": [
    {
     "name": "stdout",
     "output_type": "stream",
     "text": [
      "Welcome SamHost!\n"
     ]
    }
   ],
   "source": [
    "from utils.mymodule import generate_full_name\n",
    "\n",
    "print(generate_full_name('Sam', 'Host'))"
   ]
  },
  {
   "cell_type": "code",
   "execution_count": 66,
   "id": "17e05326",
   "metadata": {},
   "outputs": [
    {
     "name": "stdout",
     "output_type": "stream",
     "text": [
      "Welcome SamHost!\n",
      "14\n",
      "70.60788\n"
     ]
    }
   ],
   "source": [
    "from utils.mymodule import generate_full_name, sum_two_nums,person,gravity\n",
    "\n",
    "print(generate_full_name('Sam', 'Host'))\n",
    "\n",
    "print(sum_two_nums(5,9))\n",
    "\n",
    "mass = 7.2\n",
    "\n",
    "weight = mass*gravity\n",
    "print(weight)"
   ]
  },
  {
   "cell_type": "code",
   "execution_count": 67,
   "id": "f9c54472",
   "metadata": {},
   "outputs": [
    {
     "data": {
      "text/plain": [
       "'Welcome ViratKohli!'"
      ]
     },
     "execution_count": 67,
     "metadata": {},
     "output_type": "execute_result"
    }
   ],
   "source": [
    "from utils.mymodule import generate_full_name as name\n",
    "name('Virat','Kohli')"
   ]
  },
  {
   "cell_type": "code",
   "execution_count": 68,
   "id": "e3310876",
   "metadata": {},
   "outputs": [],
   "source": [
    "import os\n",
    "\n",
    "os.mkdir('some_dir')"
   ]
  },
  {
   "cell_type": "code",
   "execution_count": 72,
   "id": "35976480",
   "metadata": {},
   "outputs": [],
   "source": [
    "os.chdir('some_dir')"
   ]
  },
  {
   "cell_type": "code",
   "execution_count": 73,
   "id": "28bcdc1e",
   "metadata": {},
   "outputs": [
    {
     "data": {
      "text/plain": [
       "'/home/dhpcap/1cdac/python/vscode/some_dir'"
      ]
     },
     "execution_count": 73,
     "metadata": {},
     "output_type": "execute_result"
    }
   ],
   "source": [
    "path  = os.getcwd()\n",
    "path"
   ]
  },
  {
   "cell_type": "code",
   "execution_count": 75,
   "id": "b7917d25",
   "metadata": {},
   "outputs": [
    {
     "data": {
      "text/plain": [
       "'/home/dhpcap/1cdac/python'"
      ]
     },
     "metadata": {},
     "output_type": "display_data"
    }
   ],
   "source": [
    "os.chdir('..')\n",
    "\n",
    "display(os.getcwd())"
   ]
  },
  {
   "cell_type": "code",
   "execution_count": 76,
   "id": "766bd5b7",
   "metadata": {},
   "outputs": [],
   "source": [
    "os.rmdir(path)"
   ]
  },
  {
   "cell_type": "code",
   "execution_count": null,
   "id": "807b8c6d",
   "metadata": {},
   "outputs": [],
   "source": [
    "inDir = '../../inputs'\n",
    "subDir = ''\n",
    "path = os.path.join()"
   ]
  },
  {
   "cell_type": "code",
   "execution_count": 77,
   "id": "5d949a65",
   "metadata": {},
   "outputs": [],
   "source": [
    "import sys"
   ]
  },
  {
   "cell_type": "code",
   "execution_count": 78,
   "id": "a7b3a6d1",
   "metadata": {},
   "outputs": [
    {
     "data": {
      "text/plain": [
       "9223372036854775807"
      ]
     },
     "execution_count": 78,
     "metadata": {},
     "output_type": "execute_result"
    }
   ],
   "source": [
    "sys.maxsize"
   ]
  },
  {
   "cell_type": "code",
   "execution_count": 79,
   "id": "4774e87a",
   "metadata": {},
   "outputs": [
    {
     "data": {
      "text/plain": [
       "1.7976931348623157e+308"
      ]
     },
     "execution_count": 79,
     "metadata": {},
     "output_type": "execute_result"
    }
   ],
   "source": [
    "sys.float_info.max"
   ]
  },
  {
   "cell_type": "code",
   "execution_count": 3,
   "id": "1cae13c4",
   "metadata": {},
   "outputs": [
    {
     "data": {
      "text/plain": [
       "26.1"
      ]
     },
     "metadata": {},
     "output_type": "display_data"
    }
   ],
   "source": [
    "from statistics import *   # *: import everything\n",
    "\n",
    "ages = [20,30,15,21,30,26,29,35,32,23]\n",
    "display(mean(ages))"
   ]
  },
  {
   "cell_type": "code",
   "execution_count": 1,
   "id": "c0642ad9",
   "metadata": {},
   "outputs": [],
   "source": [
    "import numpy as np"
   ]
  },
  {
   "cell_type": "code",
   "execution_count": 4,
   "id": "a22af513",
   "metadata": {},
   "outputs": [
    {
     "data": {
      "text/plain": [
       "(6.226288353960702, 261)"
      ]
     },
     "execution_count": 4,
     "metadata": {},
     "output_type": "execute_result"
    }
   ],
   "source": [
    "stdev(ages), sum(ages)"
   ]
  },
  {
   "cell_type": "code",
   "execution_count": 9,
   "id": "4860e535",
   "metadata": {},
   "outputs": [
    {
     "data": {
      "text/plain": [
       "3.141592653589793"
      ]
     },
     "metadata": {},
     "output_type": "display_data"
    },
    {
     "data": {
      "text/plain": [
       "2.0"
      ]
     },
     "metadata": {},
     "output_type": "display_data"
    },
    {
     "data": {
      "text/plain": [
       "8.0"
      ]
     },
     "metadata": {},
     "output_type": "display_data"
    }
   ],
   "source": [
    "import math\n",
    "display (math.pi)\n",
    "\n",
    "display(math.sqrt(4))\n",
    "display(math.pow(2,3))"
   ]
  },
  {
   "cell_type": "code",
   "execution_count": 10,
   "id": "9530e239",
   "metadata": {},
   "outputs": [
    {
     "data": {
      "text/plain": [
       "0.12137282498959323"
      ]
     },
     "execution_count": 10,
     "metadata": {},
     "output_type": "execute_result"
    }
   ],
   "source": [
    "from random import random, randint\n",
    "random()"
   ]
  },
  {
   "cell_type": "code",
   "execution_count": 11,
   "id": "0771a451",
   "metadata": {},
   "outputs": [
    {
     "name": "stdout",
     "output_type": "stream",
     "text": [
      "\u001b[0;31mSignature:\u001b[0m \u001b[0mrandom\u001b[0m\u001b[0;34m(\u001b[0m\u001b[0;34m)\u001b[0m\u001b[0;34m\u001b[0m\u001b[0;34m\u001b[0m\u001b[0m\n",
      "\u001b[0;31mDocstring:\u001b[0m random() -> x in the interval [0, 1).\n",
      "\u001b[0;31mType:\u001b[0m      builtin_function_or_method"
     ]
    }
   ],
   "source": [
    "random?"
   ]
  },
  {
   "cell_type": "code",
   "execution_count": 28,
   "id": "cb05a6a4",
   "metadata": {},
   "outputs": [
    {
     "data": {
      "text/plain": [
       "5"
      ]
     },
     "execution_count": 28,
     "metadata": {},
     "output_type": "execute_result"
    }
   ],
   "source": [
    "randint (5,20)"
   ]
  },
  {
   "cell_type": "markdown",
   "id": "df1e4876",
   "metadata": {},
   "source": [
    "### LAMBDA"
   ]
  },
  {
   "cell_type": "code",
   "execution_count": 29,
   "id": "15524f8f",
   "metadata": {},
   "outputs": [
    {
     "data": {
      "text/plain": [
       "5"
      ]
     },
     "execution_count": 29,
     "metadata": {},
     "output_type": "execute_result"
    }
   ],
   "source": [
    "def fn_add(a,b):\n",
    "    return a+b\n",
    "\n",
    "fn_add(2,3)"
   ]
  },
  {
   "cell_type": "code",
   "execution_count": 30,
   "id": "e0e2ad15",
   "metadata": {},
   "outputs": [
    {
     "data": {
      "text/plain": [
       "5"
      ]
     },
     "execution_count": 30,
     "metadata": {},
     "output_type": "execute_result"
    }
   ],
   "source": [
    "fn_add = lambda a,b : a+b\n",
    "\n",
    "fn_add(2,3)"
   ]
  },
  {
   "cell_type": "code",
   "execution_count": 36,
   "id": "05e5ae8c",
   "metadata": {},
   "outputs": [
    {
     "data": {
      "text/plain": [
       "8"
      ]
     },
     "execution_count": 36,
     "metadata": {},
     "output_type": "execute_result"
    }
   ],
   "source": [
    "\n",
    "def power (x):\n",
    "    return lambda n:x**n\n",
    "\n",
    "\n",
    "cube = power(x=2)(3)\n",
    "cube"
   ]
  },
  {
   "cell_type": "code",
   "execution_count": 42,
   "id": "dc013aab",
   "metadata": {},
   "outputs": [
    {
     "data": {
      "text/plain": [
       "20"
      ]
     },
     "execution_count": 42,
     "metadata": {},
     "output_type": "execute_result"
    }
   ],
   "source": [
    "def sum_num (nums):\n",
    "    return sum(nums)\n",
    "\n",
    "def higher_order_fn (f,lst):\n",
    "    summation = f(lst)\n",
    "    return summation \n",
    "\n",
    "higher_order_fn(sum_num, [1,2,3,4,5,5])"
   ]
  },
  {
   "cell_type": "code",
   "execution_count": 43,
   "id": "664e36c1",
   "metadata": {},
   "outputs": [
    {
     "data": {
      "text/plain": [
       "9"
      ]
     },
     "metadata": {},
     "output_type": "display_data"
    },
    {
     "data": {
      "text/plain": [
       "27"
      ]
     },
     "metadata": {},
     "output_type": "display_data"
    }
   ],
   "source": [
    "def fn_square(x):\n",
    "    return x**2\n",
    "\n",
    "def fn_cube(x):\n",
    "    return x**3\n",
    "\n",
    "def higher_order_fn(type):\n",
    "    if type == 'square':\n",
    "        return fn_square\n",
    "    if type == 'cube':\n",
    "        return fn_cube\n",
    "\n",
    "display(higher_order_fn('square')(3))\n",
    "display(higher_order_fn('cube')(3))"
   ]
  },
  {
   "cell_type": "markdown",
   "id": "b588a799",
   "metadata": {},
   "source": [
    "#### PYTHON ClOSURES"
   ]
  },
  {
   "cell_type": "code",
   "execution_count": 45,
   "id": "b21be074",
   "metadata": {},
   "outputs": [
    {
     "data": {
      "text/plain": [
       "15"
      ]
     },
     "execution_count": 45,
     "metadata": {},
     "output_type": "execute_result"
    }
   ],
   "source": [
    "def add_ten():\n",
    "    ten=10\n",
    "    def add(num):\n",
    "        return num+ten\n",
    "    return add\n",
    "res = add_ten()\n",
    "res(5)"
   ]
  },
  {
   "cell_type": "markdown",
   "id": "e08a8832",
   "metadata": {},
   "source": [
    "### Decorators"
   ]
  },
  {
   "cell_type": "code",
   "execution_count": 50,
   "id": "89727db6",
   "metadata": {},
   "outputs": [
    {
     "name": "stdout",
     "output_type": "stream",
     "text": [
      "Deco excuted fn_display\n",
      "Display ran\n",
      "EXECUTED AFTER fn_display\n"
     ]
    }
   ],
   "source": [
    "def fn_decorators(original_function):\n",
    "    print(f'Deco excuted {original_function.__name__}')\n",
    "    result = original_function()\n",
    "    print(f'EXECUTED AFTER {original_function.__name__}')\n",
    "    return result\n",
    "\n",
    "@fn_decorators\n",
    "def fn_display():\n",
    "    print('Display ran')\n",
    "\n",
    "#fn_display"
   ]
  },
  {
   "cell_type": "code",
   "execution_count": 73,
   "id": "6b0ba7f8",
   "metadata": {},
   "outputs": [
    {
     "data": {
      "text/plain": [
       "'WELCOME TO PYTHON'"
      ]
     },
     "execution_count": 73,
     "metadata": {},
     "output_type": "execute_result"
    }
   ],
   "source": [
    "#def fn_greetings():\n",
    "#    return 'Welcome to Python'\n",
    "\n",
    "def fn_uppercase_deco(fn):\n",
    "    make_up = fn().upper()\n",
    "    return make_up\n",
    "\n",
    "@fn_uppercase_deco\n",
    "def fn_greetings():    \n",
    "    return 'welcome to python'\n",
    "\n",
    "fn_greetings"
   ]
  },
  {
   "cell_type": "code",
   "execution_count": 76,
   "id": "05ea43fb",
   "metadata": {},
   "outputs": [
    {
     "name": "stdout",
     "output_type": "stream",
     "text": [
      "Inside fn_uppercase_deco\n",
      "Inside Wrapper\n"
     ]
    },
    {
     "data": {
      "text/plain": [
       "'WELCOME TO PYTHON'"
      ]
     },
     "execution_count": 76,
     "metadata": {},
     "output_type": "execute_result"
    }
   ],
   "source": [
    "def fn_uppercase_deco(fn):\n",
    "    print('Inside fn_uppercase_deco')\n",
    "    def fn_wrapper():\n",
    "        print ('Inside Wrapper')\n",
    "        make_up = fn().upper()\n",
    "        return make_up\n",
    "    return fn_wrapper\n",
    "\n",
    "@fn_uppercase_deco\n",
    "def fn_greetings():    \n",
    "    return 'welcome to python'\n",
    "\n",
    "fn_greetings()\n"
   ]
  },
  {
   "cell_type": "code",
   "execution_count": 67,
   "id": "d3dfe99c",
   "metadata": {},
   "outputs": [
    {
     "name": "stdout",
     "output_type": "stream",
     "text": [
      "Inside fn_uppercase_deco\n",
      "Inside fn_split\n",
      "Inside Wrapper\n",
      "Inside wrapper: ['WELCOME', 'TO', 'PYTHON']\n"
     ]
    },
    {
     "data": {
      "text/plain": [
       "['WELCOME', 'TO', 'PYTHON']"
      ]
     },
     "execution_count": 67,
     "metadata": {},
     "output_type": "execute_result"
    }
   ],
   "source": [
    "def fn_uppercase_deco(fn):\n",
    "    print('Inside fn_uppercase_deco')\n",
    "    def fn_wrapper():\n",
    "        print ('Inside Wrapper')\n",
    "        make_up = fn().upper()\n",
    "        return make_up\n",
    "    return fn_wrapper\n",
    "\n",
    "\n",
    "def fn_split(fn2):\n",
    "    print('Inside fn_split')\n",
    "    def fn_wrapper():\n",
    "        func = fn2()\n",
    "        splitted_s = func.split()\n",
    "        print(f'Inside wrapper: {splitted_s}')\n",
    "        return splitted_s\n",
    "    return fn_wrapper\n",
    "\n",
    "@fn_split\n",
    "@fn_uppercase_deco\n",
    "def fn_greetings():    \n",
    "    return 'welcome to python'\n",
    "\n",
    "fn_greetings()"
   ]
  },
  {
   "cell_type": "markdown",
   "id": "2f92357b",
   "metadata": {},
   "source": []
  },
  {
   "cell_type": "code",
   "execution_count": 69,
   "id": "ab687da6",
   "metadata": {},
   "outputs": [
    {
     "data": {
      "text/plain": [
       "[1, 4, 9, 16, 25, 36]"
      ]
     },
     "execution_count": 69,
     "metadata": {},
     "output_type": "execute_result"
    }
   ],
   "source": [
    "numbers = [1,2,3,4,5,6]\n",
    "\n",
    "def square (x):\n",
    "    return x**2\n",
    "\n",
    "num_squares = map(square,numbers)\n",
    "list (num_squares)\n"
   ]
  },
  {
   "cell_type": "code",
   "execution_count": 71,
   "id": "ce8fb0da",
   "metadata": {},
   "outputs": [
    {
     "data": {
      "text/plain": [
       "[2, 4, 6]"
      ]
     },
     "execution_count": 71,
     "metadata": {},
     "output_type": "execute_result"
    }
   ],
   "source": [
    "def is_even(x):\n",
    "    res = False\n",
    "    if x%2 ==0:\n",
    "        res = True\n",
    "    return res\n",
    "\n",
    "even_num = filter(is_even, numbers)\n",
    "\n",
    "list(even_num)"
   ]
  },
  {
   "cell_type": "code",
   "execution_count": 74,
   "id": "e1eeaf07",
   "metadata": {},
   "outputs": [
    {
     "data": {
      "text/plain": [
       "15"
      ]
     },
     "execution_count": 74,
     "metadata": {},
     "output_type": "execute_result"
    }
   ],
   "source": [
    "from functools import reduce\n",
    "\n",
    "num_str = ['1','2','3','4','5']\n",
    "\n",
    "def add_two(x,y):\n",
    "    return int(x)+int(y)\n",
    "\n",
    "total = reduce(add_two, num_str)\n",
    "total"
   ]
  },
  {
   "cell_type": "code",
   "execution_count": 77,
   "id": "2b5b6be3",
   "metadata": {},
   "outputs": [
    {
     "data": {
      "text/plain": [
       "'12345'"
      ]
     },
     "execution_count": 77,
     "metadata": {},
     "output_type": "execute_result"
    }
   ],
   "source": [
    "def add_two(x,y):\n",
    "    return x+y\n",
    "\n",
    "total = reduce(add_two, num_str)\n",
    "total"
   ]
  },
  {
   "cell_type": "markdown",
   "id": "02963a6c",
   "metadata": {},
   "source": [
    "### METHODS"
   ]
  },
  {
   "cell_type": "markdown",
   "id": "353abd80",
   "metadata": {},
   "source": []
  }
 ],
 "metadata": {
  "kernelspec": {
   "display_name": "Python 3 (ipykernel)",
   "language": "python",
   "name": "python3"
  },
  "language_info": {
   "codemirror_mode": {
    "name": "ipython",
    "version": 3
   },
   "file_extension": ".py",
   "mimetype": "text/x-python",
   "name": "python",
   "nbconvert_exporter": "python",
   "pygments_lexer": "ipython3",
   "version": "3.10.7"
  }
 },
 "nbformat": 4,
 "nbformat_minor": 5
}
