{
 "cells": [
  {
   "cell_type": "code",
   "execution_count": 2,
   "metadata": {},
   "outputs": [],
   "source": [
    "import numpy as np"
   ]
  },
  {
   "cell_type": "markdown",
   "metadata": {},
   "source": [
    "1. Write a NumPy program to get the numpy version and show numpy build configuration."
   ]
  },
  {
   "cell_type": "code",
   "execution_count": 106,
   "metadata": {},
   "outputs": [
    {
     "name": "stdout",
     "output_type": "stream",
     "text": [
      "2.1.1\n",
      "Build Dependencies:\n",
      "  blas:\n",
      "    detection method: pkgconfig\n",
      "    found: true\n",
      "    include directory: /opt/_internal/cpython-3.10.14/lib/python3.10/site-packages/scipy_openblas64/include\n",
      "    lib directory: /opt/_internal/cpython-3.10.14/lib/python3.10/site-packages/scipy_openblas64/lib\n",
      "    name: scipy-openblas\n",
      "    openblas configuration: OpenBLAS 0.3.27  USE64BITINT DYNAMIC_ARCH NO_AFFINITY\n",
      "      Haswell MAX_THREADS=64\n",
      "    pc file directory: /project/.openblas\n",
      "    version: 0.3.27\n",
      "  lapack:\n",
      "    detection method: pkgconfig\n",
      "    found: true\n",
      "    include directory: /opt/_internal/cpython-3.10.14/lib/python3.10/site-packages/scipy_openblas64/include\n",
      "    lib directory: /opt/_internal/cpython-3.10.14/lib/python3.10/site-packages/scipy_openblas64/lib\n",
      "    name: scipy-openblas\n",
      "    openblas configuration: OpenBLAS 0.3.27  USE64BITINT DYNAMIC_ARCH NO_AFFINITY\n",
      "      Haswell MAX_THREADS=64\n",
      "    pc file directory: /project/.openblas\n",
      "    version: 0.3.27\n",
      "Compilers:\n",
      "  c:\n",
      "    commands: cc\n",
      "    linker: ld.bfd\n",
      "    name: gcc\n",
      "    version: 10.2.1\n",
      "  c++:\n",
      "    commands: c++\n",
      "    linker: ld.bfd\n",
      "    name: gcc\n",
      "    version: 10.2.1\n",
      "  cython:\n",
      "    commands: cython\n",
      "    linker: cython\n",
      "    name: cython\n",
      "    version: 3.0.11\n",
      "Machine Information:\n",
      "  build:\n",
      "    cpu: x86_64\n",
      "    endian: little\n",
      "    family: x86_64\n",
      "    system: linux\n",
      "  host:\n",
      "    cpu: x86_64\n",
      "    endian: little\n",
      "    family: x86_64\n",
      "    system: linux\n",
      "Python Information:\n",
      "  path: /tmp/build-env-25v541c_/bin/python\n",
      "  version: '3.10'\n",
      "SIMD Extensions:\n",
      "  baseline:\n",
      "  - SSE\n",
      "  - SSE2\n",
      "  - SSE3\n",
      "  found:\n",
      "  - SSSE3\n",
      "  - SSE41\n",
      "  - POPCNT\n",
      "  - SSE42\n",
      "  - AVX\n",
      "  - F16C\n",
      "  - FMA3\n",
      "  - AVX2\n",
      "  - AVX512F\n",
      "  - AVX512CD\n",
      "  - AVX512_SKX\n",
      "  - AVX512_CLX\n",
      "  not found:\n",
      "  - AVX512_KNL\n",
      "  - AVX512_KNM\n",
      "  - AVX512_CNL\n",
      "  - AVX512_ICL\n",
      "\n",
      "None\n"
     ]
    }
   ],
   "source": [
    "print(np.__version__)     # get numpy verion\n",
    "print(np.show_config())   # show numpy build configuration"
   ]
  },
  {
   "cell_type": "markdown",
   "metadata": {},
   "source": [
    "2. Write a NumPy program to get help on the add function."
   ]
  },
  {
   "cell_type": "code",
   "execution_count": 4,
   "metadata": {},
   "outputs": [
    {
     "name": "stdout",
     "output_type": "stream",
     "text": [
      "\u001b[0;31mCall signature:\u001b[0m  \u001b[0mnp\u001b[0m\u001b[0;34m.\u001b[0m\u001b[0madd\u001b[0m\u001b[0;34m(\u001b[0m\u001b[0;34m*\u001b[0m\u001b[0margs\u001b[0m\u001b[0;34m,\u001b[0m \u001b[0;34m**\u001b[0m\u001b[0mkwargs\u001b[0m\u001b[0;34m)\u001b[0m\u001b[0;34m\u001b[0m\u001b[0;34m\u001b[0m\u001b[0m\n",
      "\u001b[0;31mType:\u001b[0m            ufunc\n",
      "\u001b[0;31mString form:\u001b[0m     <ufunc 'add'>\n",
      "\u001b[0;31mFile:\u001b[0m            ~/Sep2024/lib/python3.10/site-packages/numpy/__init__.py\n",
      "\u001b[0;31mDocstring:\u001b[0m      \n",
      "add(x1, x2, /, out=None, *, where=True, casting='same_kind', order='K', dtype=None, subok=True[, signature])\n",
      "\n",
      "Add arguments element-wise.\n",
      "\n",
      "Parameters\n",
      "----------\n",
      "x1, x2 : array_like\n",
      "    The arrays to be added.\n",
      "    If ``x1.shape != x2.shape``, they must be broadcastable to a common\n",
      "    shape (which becomes the shape of the output).\n",
      "out : ndarray, None, or tuple of ndarray and None, optional\n",
      "    A location into which the result is stored. If provided, it must have\n",
      "    a shape that the inputs broadcast to. If not provided or None,\n",
      "    a freshly-allocated array is returned. A tuple (possible only as a\n",
      "    keyword argument) must have length equal to the number of outputs.\n",
      "where : array_like, optional\n",
      "    This condition is broadcast over the input. At locations where the\n",
      "    condition is True, the `out` array will be set to the ufunc result.\n",
      "    Elsewhere, the `out` array will retain its original value.\n",
      "    Note that if an uninitialized `out` array is created via the default\n",
      "    ``out=None``, locations within it where the condition is False will\n",
      "    remain uninitialized.\n",
      "**kwargs\n",
      "    For other keyword-only arguments, see the\n",
      "    :ref:`ufunc docs <ufuncs.kwargs>`.\n",
      "\n",
      "Returns\n",
      "-------\n",
      "add : ndarray or scalar\n",
      "    The sum of `x1` and `x2`, element-wise.\n",
      "    This is a scalar if both `x1` and `x2` are scalars.\n",
      "\n",
      "Notes\n",
      "-----\n",
      "Equivalent to `x1` + `x2` in terms of array broadcasting.\n",
      "\n",
      "Examples\n",
      "--------\n",
      ">>> import numpy as np\n",
      ">>> np.add(1.0, 4.0)\n",
      "5.0\n",
      ">>> x1 = np.arange(9.0).reshape((3, 3))\n",
      ">>> x2 = np.arange(3.0)\n",
      ">>> np.add(x1, x2)\n",
      "array([[  0.,   2.,   4.],\n",
      "       [  3.,   5.,   7.],\n",
      "       [  6.,   8.,  10.]])\n",
      "\n",
      "The ``+`` operator can be used as a shorthand for ``np.add`` on ndarrays.\n",
      "\n",
      ">>> x1 = np.arange(9.0).reshape((3, 3))\n",
      ">>> x2 = np.arange(3.0)\n",
      ">>> x1 + x2\n",
      "array([[ 0.,  2.,  4.],\n",
      "       [ 3.,  5.,  7.],\n",
      "       [ 6.,  8., 10.]])\n",
      "\u001b[0;31mClass docstring:\u001b[0m\n",
      "Functions that operate element by element on whole arrays.\n",
      "\n",
      "To see the documentation for a specific ufunc, use `info`.  For\n",
      "example, ``np.info(np.sin)``.  Because ufuncs are written in C\n",
      "(for speed) and linked into Python with NumPy's ufunc facility,\n",
      "Python's help() function finds this page whenever help() is called\n",
      "on a ufunc.\n",
      "\n",
      "A detailed explanation of ufuncs can be found in the docs for :ref:`ufuncs`.\n",
      "\n",
      "**Calling ufuncs:** ``op(*x[, out], where=True, **kwargs)``\n",
      "\n",
      "Apply `op` to the arguments `*x` elementwise, broadcasting the arguments.\n",
      "\n",
      "The broadcasting rules are:\n",
      "\n",
      "* Dimensions of length 1 may be prepended to either array.\n",
      "* Arrays may be repeated along dimensions of length 1.\n",
      "\n",
      "Parameters\n",
      "----------\n",
      "*x : array_like\n",
      "    Input arrays.\n",
      "out : ndarray, None, or tuple of ndarray and None, optional\n",
      "    Alternate array object(s) in which to put the result; if provided, it\n",
      "    must have a shape that the inputs broadcast to. A tuple of arrays\n",
      "    (possible only as a keyword argument) must have length equal to the\n",
      "    number of outputs; use None for uninitialized outputs to be\n",
      "    allocated by the ufunc.\n",
      "where : array_like, optional\n",
      "    This condition is broadcast over the input. At locations where the\n",
      "    condition is True, the `out` array will be set to the ufunc result.\n",
      "    Elsewhere, the `out` array will retain its original value.\n",
      "    Note that if an uninitialized `out` array is created via the default\n",
      "    ``out=None``, locations within it where the condition is False will\n",
      "    remain uninitialized.\n",
      "**kwargs\n",
      "    For other keyword-only arguments, see the :ref:`ufunc docs <ufuncs.kwargs>`.\n",
      "\n",
      "Returns\n",
      "-------\n",
      "r : ndarray or tuple of ndarray\n",
      "    `r` will have the shape that the arrays in `x` broadcast to; if `out` is\n",
      "    provided, it will be returned. If not, `r` will be allocated and\n",
      "    may contain uninitialized values. If the function has more than one\n",
      "    output, then the result will be a tuple of arrays."
     ]
    }
   ],
   "source": [
    "np.add?    #getting help on add function"
   ]
  },
  {
   "cell_type": "markdown",
   "metadata": {},
   "source": [
    "3. Write a NumPy program to test whether none of the elements of a given array is zero."
   ]
  },
  {
   "cell_type": "code",
   "execution_count": 5,
   "metadata": {},
   "outputs": [
    {
     "data": {
      "text/plain": [
       "np.False_"
      ]
     },
     "execution_count": 5,
     "metadata": {},
     "output_type": "execute_result"
    }
   ],
   "source": [
    "a=np.array([2,3,5,0,7,1])\n",
    "np.all(a)"
   ]
  },
  {
   "cell_type": "markdown",
   "metadata": {},
   "source": [
    "4. Write a NumPy program to test whether any of the elements of a given array is non-zero."
   ]
  },
  {
   "cell_type": "code",
   "execution_count": 6,
   "metadata": {},
   "outputs": [
    {
     "data": {
      "text/plain": [
       "np.True_"
      ]
     },
     "execution_count": 6,
     "metadata": {},
     "output_type": "execute_result"
    }
   ],
   "source": [
    "a=np.array([0,0,0,1])\n",
    "np.any(a)"
   ]
  },
  {
   "cell_type": "markdown",
   "metadata": {},
   "source": [
    "5. Write a NumPy program to test a given array element-wise for finiteness (not infinity or not a Number)."
   ]
  },
  {
   "cell_type": "code",
   "execution_count": 7,
   "metadata": {},
   "outputs": [
    {
     "data": {
      "text/plain": [
       "array([ True,  True,  True,  True])"
      ]
     },
     "execution_count": 7,
     "metadata": {},
     "output_type": "execute_result"
    }
   ],
   "source": [
    "np.isfinite(a)"
   ]
  },
  {
   "cell_type": "markdown",
   "metadata": {},
   "source": [
    "6. Write a NumPy program to test element-wise for positive or negative infinity."
   ]
  },
  {
   "cell_type": "code",
   "execution_count": 8,
   "metadata": {},
   "outputs": [
    {
     "name": "stdout",
     "output_type": "stream",
     "text": [
      "Element-wise positive infinity check: [False False  True False False]\n",
      "Element-wise negative infinity check: [False False False  True False]\n"
     ]
    }
   ],
   "source": [
    "b=np.array([1,2,np.inf, -np.inf,-8])\n",
    "result_pos_inf = np.isposinf(b)\n",
    "result_neg_inf = np.isneginf(b)\n",
    "\n",
    "# Print the results\n",
    "print(\"Element-wise positive infinity check:\", result_pos_inf)\n",
    "print(\"Element-wise negative infinity check:\", result_neg_inf) "
   ]
  },
  {
   "cell_type": "markdown",
   "metadata": {},
   "source": [
    "7. Write a NumPy program to test element-wise for NaN of a given array."
   ]
  },
  {
   "cell_type": "code",
   "execution_count": 9,
   "metadata": {},
   "outputs": [
    {
     "data": {
      "text/plain": [
       "array([False, False, False, False,  True, False])"
      ]
     },
     "execution_count": 9,
     "metadata": {},
     "output_type": "execute_result"
    }
   ],
   "source": [
    "b=np.array([1,2,np.inf, -np.inf,np.nan,-8])\n",
    "np.isnan(b)"
   ]
  },
  {
   "cell_type": "markdown",
   "metadata": {},
   "source": [
    "8. Write a NumPy program to test element-wise for complex number, real number of a given array. Also test whether a given number is a scalar type or not."
   ]
  },
  {
   "cell_type": "code",
   "execution_count": 10,
   "metadata": {},
   "outputs": [
    {
     "name": "stdout",
     "output_type": "stream",
     "text": [
      "Checking complex number element wise in [ 5.5+0.j 45. +0.j  2. +0.j  1. +1.j  3. +0.j]: \n",
      "[False False False  True False]\n",
      "Checking real number element wise in [ 5.5+0.j 45. +0.j  2. +0.j  1. +1.j  3. +0.j]: \n",
      "[ True  True  True False  True]\n",
      "Checking whether (5.5+0j) is scalar type or not?: \n",
      "True\n",
      "Checking whether [ 5.5+0.j 45. +0.j  2. +0.j  1. +1.j  3. +0.j] is scalar type or not?: \n",
      "False\n"
     ]
    }
   ],
   "source": [
    "b=np.array([5.5,45,2,1+1j,3])\n",
    "print(f\"Checking complex number element wise in {b}: \")\n",
    "print(np.iscomplex(b))\n",
    "\n",
    "print(f\"Checking real number element wise in {b}: \")\n",
    "print(np.isreal(b))\n",
    "\n",
    "print(f\"Checking whether {b[0]} is scalar type or not?: \")\n",
    "print(np.isscalar(b[0]))\n",
    "\n",
    "print(f\"Checking whether {b} is scalar type or not?: \")\n",
    "print(np.isscalar(b))"
   ]
  },
  {
   "cell_type": "markdown",
   "metadata": {},
   "source": [
    "9. Write a NumPy program to create an element-wise comparison (greater, greater_equal, less and\n",
    "less_equal) of two given arrays."
   ]
  },
  {
   "cell_type": "code",
   "execution_count": 11,
   "metadata": {},
   "outputs": [
    {
     "name": "stdout",
     "output_type": "stream",
     "text": [
      "Element wise comparison of two arrays [23 21  8 45  6 78] and [21  6 77 23 41 90] for greater than: \n",
      "[ True  True False  True False False]\n",
      "Element wise comparison of two arrays [23 21  8 45  6 78] and [21  6 77 23 41 90] for greater than or equal to: \n",
      "[ True  True False  True False False]\n",
      "Element wise comparison of two arrays [23 21  8 45  6 78] and [21  6 77 23 41 90] for less than: \n",
      "[False False  True False  True  True]\n",
      "Element wise comparison of two arrays [23 21  8 45  6 78] and [21  6 77 23 41 90] for less than or equal to: \n",
      "[False False  True False  True  True]\n"
     ]
    }
   ],
   "source": [
    "a=np.array([23,21,8,45,6,78])\n",
    "b=np.array([21,6,77,23,41,90])\n",
    "\n",
    "print(f\"Element wise comparison of two arrays {a} and {b} for greater than: \")\n",
    "print(np.greater(a,b))\n",
    "\n",
    "print(f\"Element wise comparison of two arrays {a} and {b} for greater than or equal to: \")\n",
    "print(np.greater_equal(a,b))\n",
    "\n",
    "print(f\"Element wise comparison of two arrays {a} and {b} for less than: \")\n",
    "print(np.less(a,b))\n",
    "\n",
    "print(f\"Element wise comparison of two arrays {a} and {b} for less than or equal to: \")\n",
    "print(np.less_equal(a,b))\n"
   ]
  },
  {
   "cell_type": "markdown",
   "metadata": {},
   "source": [
    "### 10. Write a NumPy program to create an array with the values 1, 7, 13, 105 and determine the size of the memory occupied by the array."
   ]
  },
  {
   "cell_type": "code",
   "execution_count": 12,
   "metadata": {},
   "outputs": [
    {
     "name": "stdout",
     "output_type": "stream",
     "text": [
      "The size of the memory occupied by the array [  1   7  13 105]: \n",
      "8 bytes in 64 bit system for each element: \n",
      "32\n"
     ]
    }
   ],
   "source": [
    "a = np.array([1,7,13,105])\n",
    "\n",
    "print(f\"The size of the memory occupied by the array {a}: \")\n",
    "print(\"8 bytes in 64 bit system for each element: \")\n",
    "print(a.size*a.itemsize)"
   ]
  },
  {
   "cell_type": "markdown",
   "metadata": {},
   "source": [
    "11. Write a NumPy program to create an array of 10 zeros, 10 ones, 10 fives."
   ]
  },
  {
   "cell_type": "code",
   "execution_count": 13,
   "metadata": {},
   "outputs": [
    {
     "name": "stdout",
     "output_type": "stream",
     "text": [
      "Array of 10 zeros: \n",
      "[0. 0. 0. 0. 0. 0. 0. 0. 0. 0.]\n",
      "Array of 10 ones: \n",
      "[1. 1. 1. 1. 1. 1. 1. 1. 1. 1.]\n",
      "Array of 10 fives: \n",
      "[5. 5. 5. 5. 5. 5. 5. 5. 5. 5.]\n"
     ]
    }
   ],
   "source": [
    "print(f\"Array of 10 zeros: \")\n",
    "a=np.zeros(10)\n",
    "print(a)\n",
    "\n",
    "print(f\"Array of 10 ones: \")\n",
    "a=np.ones(10)\n",
    "print(a)\n",
    "\n",
    "print(f\"Array of 10 fives: \")\n",
    "a=np.ones(10)*5\n",
    "print(a)\n"
   ]
  },
  {
   "cell_type": "markdown",
   "metadata": {},
   "source": [
    "12. Write a NumPy program to create an array of the integers from 30 to70."
   ]
  },
  {
   "cell_type": "code",
   "execution_count": 14,
   "metadata": {},
   "outputs": [
    {
     "name": "stdout",
     "output_type": "stream",
     "text": [
      "Array of integers from 30 to 70 is: \n",
      "[30 31 32 33 34 35 36 37 38 39 40 41 42 43 44 45 46 47 48 49 50 51 52 53\n",
      " 54 55 56 57 58 59 60 61 62 63 64 65 66 67 68 69 70]\n"
     ]
    }
   ],
   "source": [
    "print(\"Array of integers from 30 to 70 is: \")\n",
    "a=np.arange(30,70+1)\n",
    "print(a)"
   ]
  },
  {
   "cell_type": "markdown",
   "metadata": {},
   "source": [
    "13. Write a NumPy program to create an array of all the even integers from 30 to 70."
   ]
  },
  {
   "cell_type": "code",
   "execution_count": 15,
   "metadata": {},
   "outputs": [
    {
     "name": "stdout",
     "output_type": "stream",
     "text": [
      "Array of integers of all even integers from 30 to 70 is: \n",
      "[30 32 34 36 38 40 42 44 46 48 50 52 54 56 58 60 62 64 66 68 70]\n"
     ]
    }
   ],
   "source": [
    "print(\"Array of integers of all even integers from 30 to 70 is: \")\n",
    "a=np.arange(30,70+1,2)\n",
    "print(a)"
   ]
  },
  {
   "cell_type": "markdown",
   "metadata": {},
   "source": [
    "14. Write a NumPy program to create a 3x3 identity matrix."
   ]
  },
  {
   "cell_type": "code",
   "execution_count": 16,
   "metadata": {},
   "outputs": [
    {
     "name": "stdout",
     "output_type": "stream",
     "text": [
      "3x3 identity matrix: \n",
      "[[1. 0. 0.]\n",
      " [0. 1. 0.]\n",
      " [0. 0. 1.]]\n"
     ]
    }
   ],
   "source": [
    "print(\"3x3 identity matrix: \")\n",
    "a=np.identity(3)\n",
    "print(a)"
   ]
  },
  {
   "cell_type": "markdown",
   "metadata": {},
   "source": [
    "15. Write a NumPy program to generate a random number between 0 and 1."
   ]
  },
  {
   "cell_type": "code",
   "execution_count": 17,
   "metadata": {},
   "outputs": [
    {
     "name": "stdout",
     "output_type": "stream",
     "text": [
      "Generate a random number between 0 and 1\n",
      "0.8014102888565675\n"
     ]
    }
   ],
   "source": [
    "print(\"Generate a random number between 0 and 1\")\n",
    "a=np.random.random()\n",
    "print(a)"
   ]
  },
  {
   "cell_type": "markdown",
   "metadata": {},
   "source": [
    "16. Write a NumPy program to generate an array of 15 random numbers from a standard normal distribution."
   ]
  },
  {
   "cell_type": "code",
   "execution_count": 18,
   "metadata": {},
   "outputs": [
    {
     "name": "stdout",
     "output_type": "stream",
     "text": [
      "Generate an array of 15 random numbers from a standard normal distribution: \n",
      "[6.39513854 4.8513494  5.49744036 4.93103672 1.26844986 4.68950047\n",
      " 5.35783279 1.76722218 6.0038508  6.56724501 0.51994341 2.36933931\n",
      " 5.00759885 5.82254384 3.14934591]\n"
     ]
    }
   ],
   "source": [
    "print(\"Generate an array of 15 random numbers from a standard normal distribution: \")\n",
    "a=np.random.normal(5,2,15)\n",
    "print(a)"
   ]
  },
  {
   "cell_type": "markdown",
   "metadata": {},
   "source": [
    "17. Write a NumPy program to create a vector with values ranging from 15 to 55 and print all values\n",
    "except the first and last."
   ]
  },
  {
   "cell_type": "code",
   "execution_count": 19,
   "metadata": {},
   "outputs": [
    {
     "data": {
      "text/plain": [
       "array([16, 17, 18, 19, 20, 21, 22, 23, 24, 25, 26, 27, 28, 29, 30, 31, 32,\n",
       "       33, 34, 35, 36, 37, 38, 39, 40, 41, 42, 43, 44, 45, 46, 47, 48, 49,\n",
       "       50, 51, 52, 53, 54])"
      ]
     },
     "execution_count": 19,
     "metadata": {},
     "output_type": "execute_result"
    }
   ],
   "source": [
    "np.arange(16,55)"
   ]
  },
  {
   "cell_type": "markdown",
   "metadata": {},
   "source": [
    "18. Write a NumPy program to create a 3x4 array."
   ]
  },
  {
   "cell_type": "code",
   "execution_count": 20,
   "metadata": {},
   "outputs": [
    {
     "data": {
      "text/plain": [
       "array([[ 1,  2,  3,  4],\n",
       "       [ 5,  6,  7,  8],\n",
       "       [ 9, 10, 11, 12]])"
      ]
     },
     "execution_count": 20,
     "metadata": {},
     "output_type": "execute_result"
    }
   ],
   "source": [
    "np.arange(1,13).reshape(3,4)"
   ]
  },
  {
   "cell_type": "markdown",
   "metadata": {},
   "source": [
    "19. Write a NumPy program to create a vector of length 10 with values evenly distributed\n",
    "between 5 and 50."
   ]
  },
  {
   "cell_type": "code",
   "execution_count": 29,
   "metadata": {},
   "outputs": [
    {
     "name": "stdout",
     "output_type": "stream",
     "text": [
      "[ 6.         10.77777778 15.55555556 20.33333333 25.11111111 29.88888889\n",
      " 34.66666667 39.44444444 44.22222222 49.        ]\n"
     ]
    }
   ],
   "source": [
    "a = np.linspace(6, 49, 10)\n",
    "print(a)"
   ]
  },
  {
   "cell_type": "markdown",
   "metadata": {},
   "source": [
    "20. Write a NumPy program to create a vector with values from 0 to 20 and change the sign of the\n",
    "numbers in the range from 9 to 15."
   ]
  },
  {
   "cell_type": "code",
   "execution_count": 33,
   "metadata": {},
   "outputs": [
    {
     "name": "stdout",
     "output_type": "stream",
     "text": [
      "[ 0  1  2  3  4  5  6  7  8  9 10 11 12 13 14 15 16 17 18 19 20]\n",
      "After changing the sign of numbers in the range from 9 to 15: \n",
      "[  0   1   2   3   4   5   6   7   8  -9 -10 -11 -12 -13 -14 -15  16  17\n",
      "  18  19  20]\n"
     ]
    }
   ],
   "source": [
    "a = np.arange(21)\n",
    "print(a)\n",
    "a[(a>=9)&(a<=15)] *= -1\n",
    "print(\"After changing the sign of numbers in the range from 9 to 15: \")\n",
    "print(a)"
   ]
  },
  {
   "cell_type": "markdown",
   "metadata": {},
   "source": [
    "21. Write a NumPy program to create a vector of length 5 filled with arbitrary integers from 0 to 10."
   ]
  },
  {
   "cell_type": "code",
   "execution_count": 34,
   "metadata": {},
   "outputs": [
    {
     "name": "stdout",
     "output_type": "stream",
     "text": [
      "[10  1  9  4  1]\n"
     ]
    }
   ],
   "source": [
    "a = np.random.randint(0,11,5)\n",
    "print(a)"
   ]
  },
  {
   "cell_type": "markdown",
   "metadata": {},
   "source": [
    "22. Write a NumPy program to multiply the values of two given vectors."
   ]
  },
  {
   "cell_type": "code",
   "execution_count": 39,
   "metadata": {},
   "outputs": [
    {
     "name": "stdout",
     "output_type": "stream",
     "text": [
      "a = [4 8 7 5]\n",
      "b = [ 7  9 17 45]\n",
      "The resultant vector is [ 28  72 119 225]\n"
     ]
    }
   ],
   "source": [
    "a = np.array([4, 8, 7, 5])\n",
    "print(f\"a = {a}\")\n",
    "\n",
    "b = np.array([7, 9,17, 45])\n",
    "print(f\"b = {b}\")\n",
    "\n",
    "result=a*b\n",
    "\n",
    "print(f\"The resultant vector is {result}\")"
   ]
  },
  {
   "cell_type": "markdown",
   "metadata": {},
   "source": [
    "23. Write a NumPy program to create a 3x4 matrix filled with values from 10 to 21."
   ]
  },
  {
   "cell_type": "code",
   "execution_count": 41,
   "metadata": {},
   "outputs": [
    {
     "name": "stdout",
     "output_type": "stream",
     "text": [
      "3x4 matrix filled with values from 10 to 21 is: \n",
      "[[10 11 12 13]\n",
      " [14 15 16 17]\n",
      " [18 19 20 21]]\n"
     ]
    }
   ],
   "source": [
    "a = np.arange(10,22).reshape((3,4))\n",
    "print(\"3x4 matrix filled with values from 10 to 21 is: \")\n",
    "print(a)"
   ]
  },
  {
   "cell_type": "markdown",
   "metadata": {},
   "source": [
    "24. Write a NumPy program to find the number of rows and columns of a given matrix."
   ]
  },
  {
   "cell_type": "code",
   "execution_count": 45,
   "metadata": {},
   "outputs": [
    {
     "name": "stdout",
     "output_type": "stream",
     "text": [
      "3x4 matrix filled with values from 10 to 21 is: \n",
      "[[10 11 12 13]\n",
      " [14 15 16 17]\n",
      " [18 19 20 21]]\n",
      "The shape of the matrix is (3, 4)\n"
     ]
    }
   ],
   "source": [
    "a = np.arange(10,22).reshape((3,4))\n",
    "print(\"3x4 matrix filled with values from 10 to 21 is: \")\n",
    "print(a)\n",
    "\n",
    "print(f\"The shape of the matrix is {a.shape}\")"
   ]
  },
  {
   "cell_type": "markdown",
   "metadata": {},
   "source": [
    "25. Write a NumPy program to create a 3x3 identity matrix, i.e. diagonal elements are 1, the rest are 0."
   ]
  },
  {
   "cell_type": "code",
   "execution_count": 46,
   "metadata": {},
   "outputs": [
    {
     "name": "stdout",
     "output_type": "stream",
     "text": [
      "[[1. 0. 0.]\n",
      " [0. 1. 0.]\n",
      " [0. 0. 1.]]\n"
     ]
    }
   ],
   "source": [
    "a = np.identity(3)\n",
    "print(a)"
   ]
  },
  {
   "cell_type": "markdown",
   "metadata": {},
   "source": [
    "26. Write a NumPy program to create a 10x10 matrix, in which the elements on the borders will be\n",
    "equal to 1, and inside 0."
   ]
  },
  {
   "cell_type": "code",
   "execution_count": 52,
   "metadata": {},
   "outputs": [
    {
     "name": "stdout",
     "output_type": "stream",
     "text": [
      "[[1. 1. 1. 1. 1. 1. 1. 1. 1. 1.]\n",
      " [1. 0. 0. 0. 0. 0. 0. 0. 0. 1.]\n",
      " [1. 0. 0. 0. 0. 0. 0. 0. 0. 1.]\n",
      " [1. 0. 0. 0. 0. 0. 0. 0. 0. 1.]\n",
      " [1. 0. 0. 0. 0. 0. 0. 0. 0. 1.]\n",
      " [1. 0. 0. 0. 0. 0. 0. 0. 0. 1.]\n",
      " [1. 0. 0. 0. 0. 0. 0. 0. 0. 1.]\n",
      " [1. 0. 0. 0. 0. 0. 0. 0. 0. 1.]\n",
      " [1. 0. 0. 0. 0. 0. 0. 0. 0. 1.]\n",
      " [1. 1. 1. 1. 1. 1. 1. 1. 1. 1.]]\n"
     ]
    }
   ],
   "source": [
    "a=np.ones((10, 10))\n",
    "a[1:-1,1:-1]=0\n",
    "print(a)\n"
   ]
  },
  {
   "cell_type": "markdown",
   "metadata": {},
   "source": [
    "27. Write a NumPy program to create a 5x5 zero matrix with elements on the main diagonal equal to 1, 2,\n",
    "3, 4, 5."
   ]
  },
  {
   "cell_type": "code",
   "execution_count": 59,
   "metadata": {},
   "outputs": [
    {
     "name": "stdout",
     "output_type": "stream",
     "text": [
      "[[1 0 0 0 0]\n",
      " [0 2 0 0 0]\n",
      " [0 0 3 0 0]\n",
      " [0 0 0 4 0]\n",
      " [0 0 0 0 5]]\n"
     ]
    }
   ],
   "source": [
    "a=np.diag([1,2,3,4,5])\n",
    "print(a)"
   ]
  },
  {
   "cell_type": "markdown",
   "metadata": {},
   "source": [
    "28. Write a NumPy program to create a 3x3x3 array filled with arbitrary values."
   ]
  },
  {
   "cell_type": "code",
   "execution_count": 63,
   "metadata": {},
   "outputs": [
    {
     "name": "stdout",
     "output_type": "stream",
     "text": [
      "[[[0.69242316 0.57593785 0.04187815]\n",
      "  [0.14412682 0.74499348 0.80350398]\n",
      "  [0.45045212 0.02160469 0.32059086]]\n",
      "\n",
      " [[0.82713915 0.29678566 0.56433401]\n",
      "  [0.57258896 0.98013937 0.08285067]\n",
      "  [0.72384848 0.08289661 0.53794507]]\n",
      "\n",
      " [[0.43345774 0.89702002 0.78122222]\n",
      "  [0.70990062 0.0710332  0.39652397]\n",
      "  [0.99772787 0.76516548 0.62974559]]]\n"
     ]
    }
   ],
   "source": [
    "a=np.random.random((3,3,3))\n",
    "print(a)"
   ]
  },
  {
   "cell_type": "markdown",
   "metadata": {},
   "source": [
    "29. Write a NumPy program to compute the inner product of two given vectors."
   ]
  },
  {
   "cell_type": "code",
   "execution_count": 66,
   "metadata": {},
   "outputs": [
    {
     "name": "stdout",
     "output_type": "stream",
     "text": [
      "Inner product of [2 3 4 5 6 7] and [4 6 8 2 8 2] is: \n",
      "130\n"
     ]
    }
   ],
   "source": [
    "a=np.array([2,3,4,5,6,7])\n",
    "b=np.array([4,6,8,2,8,2])\n",
    "\n",
    "c=np.dot(a,b)\n",
    "print(f\"Inner product of {a} and {b} is: \")\n",
    "print(c)\n"
   ]
  },
  {
   "cell_type": "markdown",
   "metadata": {},
   "source": [
    "30. Write a NumPy program to sort a given array by row and column in ascending order."
   ]
  },
  {
   "cell_type": "code",
   "execution_count": 73,
   "metadata": {},
   "outputs": [
    {
     "name": "stdout",
     "output_type": "stream",
     "text": [
      "[[ 4  6  8  2  8  2]\n",
      " [ 5  6 78 23  5 15]\n",
      " [34  5 19 17 32 14]]\n",
      "\n",
      "Sorting by row in ascending order: \n",
      "[[ 2  2  4  6  8  8]\n",
      " [ 5  5  6 15 23 78]\n",
      " [ 5 14 17 19 32 34]]\n",
      "\n",
      "Sorting by column in ascending order: \n",
      "[[ 4  5  8  2  5  2]\n",
      " [ 5  6 19 17  8 14]\n",
      " [34  6 78 23 32 15]]\n"
     ]
    }
   ],
   "source": [
    "b=np.array([[4,6,8,2,8,2],[5,6,78,23,5,15],[34,5,19,17,32,14]])\n",
    "print(b)\n",
    "\n",
    "print()\n",
    "print(f\"Sorting by row in ascending order: \")\n",
    "print(np.sort(b))\n",
    "\n",
    "print()\n",
    "print(f\"Sorting by column in ascending order: \")\n",
    "print(np.sort(b, axis=0))"
   ]
  },
  {
   "cell_type": "markdown",
   "metadata": {},
   "source": [
    "31. Write a NumPy program to extract all numbers from a given array which are less and greater\n",
    "than a specified number."
   ]
  },
  {
   "cell_type": "code",
   "execution_count": 78,
   "metadata": {},
   "outputs": [
    {
     "name": "stdout",
     "output_type": "stream",
     "text": [
      "Given array is [ 4  6  8  2  8 23 87 54 17 11 32 64]\n",
      "Numbers which are less than 10 are: \n",
      "[4 6 8 2 8]\n",
      "Numbers which are greater than 10 are: \n",
      "[23 87 54 17 11 32 64]\n"
     ]
    }
   ],
   "source": [
    "a=np.array([4,6,8,2,8,23,87,54,17,11,32,64])\n",
    "print(f\"Given array is {a}\")\n",
    "\n",
    "print(f\"Numbers which are less than 10 are: \")\n",
    "c=np.extract(a<10,a)\n",
    "print(c)\n",
    "\n",
    "print(f\"Numbers which are greater than 10 are: \")\n",
    "d=np.extract(a>10,a)\n",
    "print(d)"
   ]
  },
  {
   "cell_type": "markdown",
   "metadata": {},
   "source": [
    "32. Write a NumPy program to replace all numbers in a given array which is equal, less and greater to a\n",
    "given number."
   ]
  },
  {
   "cell_type": "code",
   "execution_count": 86,
   "metadata": {},
   "outputs": [
    {
     "name": "stdout",
     "output_type": "stream",
     "text": [
      "Given array is [ 4  6  8  2  8 23 87 54  2 11 32 64]\n",
      "[  4   6   8 333   8  23  87  54 333  11  32  64]\n",
      "[11  6  8 11  8 23 87 54 11 11 32 64]\n",
      "[ 4  6  8  2  8 22 22 22  2 22 22 22]\n"
     ]
    }
   ],
   "source": [
    "a=np.array([4,6,8,2,8,23,87,54,2,11,32,64])\n",
    "print(f\"Given array is {a}\")\n",
    "\n",
    "b=np.where(a==2, 333, a)\n",
    "print(b)\n",
    "\n",
    "b=np.where(a<5, 11, a)\n",
    "print(b)\n",
    "\n",
    "a=np.where(a>10, 22, a)\n",
    "print(a)"
   ]
  },
  {
   "cell_type": "markdown",
   "metadata": {},
   "source": [
    "33. Write a NumPy program to create an array of equal shape and data type of a given array."
   ]
  },
  {
   "cell_type": "code",
   "execution_count": 88,
   "metadata": {},
   "outputs": [
    {
     "name": "stdout",
     "output_type": "stream",
     "text": [
      "[3. 3. 3. 3. 3. 3. 3. 3.]\n"
     ]
    }
   ],
   "source": [
    "a=np.array([12.0,34,5,6,77,8,9,10])\n",
    "\n",
    "b=np.ones_like(a)*3\n",
    "print(b)"
   ]
  },
  {
   "cell_type": "markdown",
   "metadata": {},
   "source": [
    "34. Write a NumPy program to create a three-dimension array with shape (3,5,4) and set to a\n",
    "variable."
   ]
  },
  {
   "cell_type": "code",
   "execution_count": 97,
   "metadata": {},
   "outputs": [
    {
     "name": "stdout",
     "output_type": "stream",
     "text": [
      "Three-dimension array with shape (3,5,4): \n",
      "[[[0.71140158 0.42394179 0.47399705 0.28159415]\n",
      "  [0.94481653 0.8934061  0.53194574 0.32279199]\n",
      "  [0.03382195 0.39041521 0.38245975 0.55186608]\n",
      "  [0.89642666 0.8209541  0.49256987 0.52052482]\n",
      "  [0.40162122 0.19467354 0.76121672 0.23397667]]\n",
      "\n",
      " [[0.95441254 0.37932833 0.90422809 0.27122229]\n",
      "  [0.45899095 0.94425349 0.02539043 0.54340477]\n",
      "  [0.02652527 0.02991209 0.42095824 0.01336858]\n",
      "  [0.13526066 0.76711989 0.08764014 0.48794   ]\n",
      "  [0.04657339 0.72440785 0.60252638 0.26736565]]\n",
      "\n",
      " [[0.43833057 0.97758807 0.46555981 0.17145973]\n",
      "  [0.3693099  0.72841634 0.55725315 0.84467058]\n",
      "  [0.19353023 0.70316947 0.54819222 0.30082864]\n",
      "  [0.69527086 0.03056825 0.58443453 0.72001468]\n",
      "  [0.41971445 0.35999926 0.52551657 0.02147986]]]\n"
     ]
    }
   ],
   "source": [
    "#a=np.arange(60).reshape(3,5,4)\n",
    "a=np.random.random((3,5,4))\n",
    "print(f\"Three-dimension array with shape (3,5,4): \")\n",
    "print(a)"
   ]
  },
  {
   "cell_type": "markdown",
   "metadata": {},
   "source": [
    "35. Write a NumPy program to multiply two given arrays of same size element-by-element."
   ]
  },
  {
   "cell_type": "code",
   "execution_count": 105,
   "metadata": {},
   "outputs": [
    {
     "name": "stdout",
     "output_type": "stream",
     "text": [
      "Matrix A: \n",
      "[[ 0  1  2  3]\n",
      " [ 4  5  6  7]\n",
      " [ 8  9 10 11]]\n",
      "\n",
      "Matrix B: \n",
      "[[24 25 26 27]\n",
      " [28 29 30 31]\n",
      " [32 33 34 35]]\n",
      "\n",
      "Resultant matrix C: \n",
      "[[  0  25  52  81]\n",
      " [112 145 180 217]\n",
      " [256 297 340 385]]\n"
     ]
    }
   ],
   "source": [
    "print(f\"Matrix A: \")\n",
    "a=np.arange(12).reshape(3,4)\n",
    "print(a)\n",
    "\n",
    "print()\n",
    "print(f\"Matrix B: \")\n",
    "b=np.arange(24,36).reshape(3,4)\n",
    "print(b)\n",
    "\n",
    "print()\n",
    "print(f\"Resultant matrix C: \")\n",
    "c=np.multiply(a,b)\n",
    "print(c)"
   ]
  },
  {
   "cell_type": "code",
   "execution_count": null,
   "metadata": {},
   "outputs": [],
   "source": []
  }
 ],
 "metadata": {
  "kernelspec": {
   "display_name": "Sep2024",
   "language": "python",
   "name": "python3"
  },
  "language_info": {
   "codemirror_mode": {
    "name": "ipython",
    "version": 3
   },
   "file_extension": ".py",
   "mimetype": "text/x-python",
   "name": "python",
   "nbconvert_exporter": "python",
   "pygments_lexer": "ipython3",
   "version": "3.10.7"
  }
 },
 "nbformat": 4,
 "nbformat_minor": 2
}
