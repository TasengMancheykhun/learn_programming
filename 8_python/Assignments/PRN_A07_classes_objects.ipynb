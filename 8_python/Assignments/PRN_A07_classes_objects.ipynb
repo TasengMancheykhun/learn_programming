{
 "cells": [
  {
   "cell_type": "code",
   "execution_count": 148,
   "metadata": {},
   "outputs": [],
   "source": [
    "#!/usr/bin/env python3\n",
    "# -*- coding: utf-8 -*-"
   ]
  },
  {
   "cell_type": "markdown",
   "metadata": {},
   "source": [
    "# Analytics and Statistics using Python\n",
    "## S07: Classes and Objects\n",
    "- Working example\n",
    "\n",
    "<img src='../../prasami_images/prasami_color_tutorials_small.png' width='400' alt=\"By Pramod Sharma : pramod.sharma@prasami.com\" align = \"left\"/>"
   ]
  },
  {
   "cell_type": "markdown",
   "metadata": {},
   "source": [
    "## Implement a Parking Lot System\n",
    "### Problem Statement:\n",
    "\n",
    "Design a parking lot system that can handle multiple types of vehicles. The system should:\n",
    "\n",
    "- Track the availability of parking spots.\n",
    "- Allow different types of vehicles to park in appropriate spots (e.g., a motorcycle can park in a car spot, but not vice versa).\n",
    "- Handle parking fees based on the duration a vehicle has been parked.\n",
    "\n",
    "### Classes to Implement:\n",
    "\n",
    "- Vehicle (Base Class):\n",
    "    - Attributes: license_plate, vehicle_type.\n",
    "    - Methods: __str__(), getters, setters.\n",
    "\n",
    "- ParkingSpot:\n",
    "\n",
    "    - Attributes: spot_id, spot_type, is_occupied.\n",
    "    - Methods: park_vehicle(), remove_vehicle().\n",
    "\n",
    "- ParkingLot:\n",
    "\n",
    "    - Attributes: name, spots (a list of parking spots), occupied_spots (a dictionary mapping spots to vehicles).\n",
    "    - Methods: add_spot(), find_spot_for_vehicle(), calculate_fee()."
   ]
  },
  {
   "cell_type": "markdown",
   "metadata": {},
   "source": [
    "# Example Usage"
   ]
  },
  {
   "cell_type": "code",
   "execution_count": 265,
   "metadata": {},
   "outputs": [
    {
     "ename": "AttributeError",
     "evalue": "'ParkingLot' object has no attribute 'park_vehicle'",
     "output_type": "error",
     "traceback": [
      "\u001b[0;31m---------------------------------------------------------------------------\u001b[0m",
      "\u001b[0;31mAttributeError\u001b[0m                            Traceback (most recent call last)",
      "Cell \u001b[0;32mIn[265], line 14\u001b[0m\n\u001b[1;32m     11\u001b[0m motorcycle \u001b[38;5;241m=\u001b[39m Vehicle(\u001b[38;5;124m\"\u001b[39m\u001b[38;5;124mABC-5678\u001b[39m\u001b[38;5;124m\"\u001b[39m, \u001b[38;5;124m\"\u001b[39m\u001b[38;5;124mMotorcycle\u001b[39m\u001b[38;5;124m\"\u001b[39m)\n\u001b[1;32m     13\u001b[0m \u001b[38;5;66;03m# Park vehicles\u001b[39;00m\n\u001b[0;32m---> 14\u001b[0m \u001b[43mparking_lot\u001b[49m\u001b[38;5;241;43m.\u001b[39;49m\u001b[43mpark_vehicle\u001b[49m(car)\n\u001b[1;32m     15\u001b[0m parking_lot\u001b[38;5;241m.\u001b[39mpark_vehicle(motorcycle)\n\u001b[1;32m     17\u001b[0m \u001b[38;5;66;03m# Calculate parking fees (assuming some time has passed)\u001b[39;00m\n",
      "\u001b[0;31mAttributeError\u001b[0m: 'ParkingLot' object has no attribute 'park_vehicle'"
     ]
    }
   ],
   "source": [
    "# Initialize a parking lot\n",
    "parking_lot = ParkingLot(\"Downtown Parking\")\n",
    "\n",
    "# Add parking spots to the lot\n",
    "parking_lot.add_spot(ParkingSpot(\"S1\", \"Car\"))\n",
    "parking_lot.add_spot(ParkingSpot(\"S2\", \"Motorcycle\"))\n",
    "parking_lot.add_spot(ParkingSpot(\"S3\", \"Car\"))\n",
    "\n",
    "# Create vehicles\n",
    "car = Vehicle(\"XYZ-1234\", \"Car\")\n",
    "motorcycle = Vehicle(\"ABC-5678\", \"Motorcycle\")\n",
    "\n",
    "# Park vehicles\n",
    "parking_lot.park_vehicle(car)\n",
    "parking_lot.park_vehicle(motorcycle)\n",
    "\n",
    "# Calculate parking fees (assuming some time has passed)\n",
    "parking_lot.calculate_fee(car)\n",
    "parking_lot.calculate_fee(motorcycle)\n",
    "\n",
    "# Remove vehicles from parking spots\n",
    "parking_lot.remove_vehicle(car)"
   ]
  },
  {
   "cell_type": "markdown",
   "metadata": {},
   "source": [
    "### Task:\n",
    "\n",
    "- Implement the park_vehicle() method to ensure that vehicles are parked in appropriate spots.\n",
    "- Implement the calculate_fee() method to calculate fees based on the time a vehicle has been parked. This may require tracking the entry time and using time-based calculations.\n",
    "- Consider edge cases, such as what happens if the parking lot is full or if a vehicle tries to park in an occupied spot."
   ]
  },
  {
   "cell_type": "markdown",
   "metadata": {},
   "source": []
  },
  {
   "cell_type": "markdown",
   "metadata": {},
   "source": [
    "# Solution"
   ]
  },
  {
   "cell_type": "code",
   "execution_count": 1,
   "metadata": {},
   "outputs": [],
   "source": [
    "from datetime import datetime \n",
    "\n",
    "class Vehicle:\n",
    "    def __init__(self,license_plate,vehicle_type):\n",
    "        self.license_plate=license_plate\n",
    "        self.vehicle_type=vehicle_type\n",
    "\n",
    "    def __str__(self):\n",
    "        return f\"Number: {self.license_plate}, Vehicle: {self.vehicle_type}\" \n",
    "\n",
    "    def get_license_plate(self):\n",
    "        return self.license_plate\n",
    "    \n",
    "    def get_vehicle_type(self):\n",
    "        return self.vehicle_type\n",
    "\n",
    "\n",
    "class ParkingSpot:\n",
    "    def __init__(self, spot_id, spot_type):\n",
    "     #   super().__init__()\n",
    "        self.spot_id = spot_id \n",
    "        self.spot_type = spot_type\n",
    "        self.is_spot_empty = True\n",
    "\n",
    "        #self.is_spot_suitable = True\n",
    "        #self.entry_time = 0\n",
    "\n",
    "    def __str__(self): \n",
    "        return f\"\\\"{self.spot_id}\\\", \\\"{self.spot_type}\\\"\"\n",
    "\n",
    "    def park_vehicle(self, Vehicle):\n",
    "\n",
    "        if self.is_spot_empty:  \n",
    "            self.entry_time= datetime.now().minute\n",
    "            self.is_spot_empty = False \n",
    "\n",
    "        if (self.spot_type == self.vehicle_type):\n",
    "            self.is_suitable = True\n",
    "\n",
    "        else:\n",
    "            self.is_suitable = False\n",
    "\n",
    "    def remove_vehicle(self,spot_id):\n",
    "        self.occupied_spots[spot_id]=0 \n",
    " \n",
    "\n",
    "class ParkingLot(ParkingSpot):\n",
    "    def __init__(self,name):\n",
    "        super().__init__() \n",
    "\n",
    "        self.name = name\n",
    "        self.spots=[]\n",
    "        self.occupied_spots={}\n",
    "        self.empty_spot=[]\n",
    "        self.is_spot_empty = True\n",
    "\n",
    "    def __str__(self):\n",
    "        return f\"Welcome to {self.name}\" \n",
    "    \n",
    "\n",
    "    def add_spot(self, ParkingSpot):\n",
    "        id = ParkingSpot.spot_id\n",
    "        type = ParkingSpot.spot_type\n",
    "\n",
    "        self.spots.append(id) \n",
    "        self.occupied_spots[id]=type\n",
    "\n",
    "    def find_spot(self):\n",
    "        if (self.occupied_spots[self.spot_id]==None):\n",
    "            self.empty_spot.append(self.spot_id)     \n",
    "\n",
    "    def park_vehicle(self, Vehicle):\n",
    "        if self.is_spot_empty:  \n",
    "            self.entry_time= datetime.now().minute\n",
    "            self.is_spot_empty = False \n",
    "\n",
    "        if (self.spot_type == self.vehicle_type):\n",
    "            self.is_suitable = True\n",
    "\n",
    "        else:\n",
    "            self.is_suitable = False\n",
    "\n",
    "    def remove_vehicle(self, spot_id):\n",
    "        self.occupied_spots[spot_id]=0          \n",
    "\n",
    "    def calculate_fee(self,spot_type):\n",
    "        print(f\"Fee is {datetime.now().minute}\")"
   ]
  },
  {
   "cell_type": "code",
   "execution_count": 3,
   "metadata": {},
   "outputs": [
    {
     "ename": "TypeError",
     "evalue": "ParkingSpot.__init__() missing 2 required positional arguments: 'spot_id' and 'spot_type'",
     "output_type": "error",
     "traceback": [
      "\u001b[0;31m---------------------------------------------------------------------------\u001b[0m",
      "\u001b[0;31mTypeError\u001b[0m                                 Traceback (most recent call last)",
      "Cell \u001b[0;32mIn[3], line 1\u001b[0m\n\u001b[0;32m----> 1\u001b[0m parking_lot \u001b[38;5;241m=\u001b[39m \u001b[43mParkingLot\u001b[49m\u001b[43m(\u001b[49m\u001b[38;5;124;43m\"\u001b[39;49m\u001b[38;5;124;43mCDAC Parking\u001b[39;49m\u001b[38;5;124;43m\"\u001b[39;49m\u001b[43m)\u001b[49m\n\u001b[1;32m      3\u001b[0m parking_lot\u001b[38;5;241m.\u001b[39madd_spot(ParkingSpot(\u001b[38;5;124m\"\u001b[39m\u001b[38;5;124mS1\u001b[39m\u001b[38;5;124m\"\u001b[39m, \u001b[38;5;124m\"\u001b[39m\u001b[38;5;124mCar\u001b[39m\u001b[38;5;124m\"\u001b[39m))\n\u001b[1;32m      6\u001b[0m car \u001b[38;5;241m=\u001b[39m Vehicle(\u001b[38;5;124m\"\u001b[39m\u001b[38;5;124mXYZ-1234\u001b[39m\u001b[38;5;124m\"\u001b[39m, \u001b[38;5;124m\"\u001b[39m\u001b[38;5;124mCar\u001b[39m\u001b[38;5;124m\"\u001b[39m) \n",
      "Cell \u001b[0;32mIn[1], line 49\u001b[0m, in \u001b[0;36mParkingLot.__init__\u001b[0;34m(self, name)\u001b[0m\n\u001b[1;32m     48\u001b[0m \u001b[38;5;28;01mdef\u001b[39;00m \u001b[38;5;21m__init__\u001b[39m(\u001b[38;5;28mself\u001b[39m,name):\n\u001b[0;32m---> 49\u001b[0m     \u001b[38;5;28;43msuper\u001b[39;49m\u001b[43m(\u001b[49m\u001b[43m)\u001b[49m\u001b[38;5;241;43m.\u001b[39;49m\u001b[38;5;21;43m__init__\u001b[39;49m\u001b[43m(\u001b[49m\u001b[43m)\u001b[49m \n\u001b[1;32m     51\u001b[0m     \u001b[38;5;28mself\u001b[39m\u001b[38;5;241m.\u001b[39mname \u001b[38;5;241m=\u001b[39m name\n\u001b[1;32m     52\u001b[0m     \u001b[38;5;28mself\u001b[39m\u001b[38;5;241m.\u001b[39mspots\u001b[38;5;241m=\u001b[39m[]\n",
      "\u001b[0;31mTypeError\u001b[0m: ParkingSpot.__init__() missing 2 required positional arguments: 'spot_id' and 'spot_type'"
     ]
    }
   ],
   "source": [
    "parking_lot = ParkingLot(\"CDAC Parking\")\n",
    "\n",
    "parking_lot.add_spot(ParkingSpot(\"S1\", \"Car\"))\n",
    "\n",
    "\n",
    "car = Vehicle(\"XYZ-1234\", \"Car\") \n",
    "motorcycle = Vehicle(\"ABC-5678\", \"Motorcycle\")\n",
    "\n",
    "#parking_lot.park_vehicle(car)"
   ]
  },
  {
   "cell_type": "code",
   "execution_count": 312,
   "metadata": {},
   "outputs": [],
   "source": []
  },
  {
   "cell_type": "code",
   "execution_count": 324,
   "metadata": {},
   "outputs": [
    {
     "name": "stdout",
     "output_type": "stream",
     "text": [
      "Vehicle Number: XYZ-1234, Vehicle: Car parked in spot S1.\n"
     ]
    },
    {
     "data": {
      "text/plain": [
       "None"
      ]
     },
     "metadata": {},
     "output_type": "display_data"
    },
    {
     "name": "stdout",
     "output_type": "stream",
     "text": [
      "Parking fee for Number: XYZ-1234, Vehicle: Car: $0.\n"
     ]
    },
    {
     "data": {
      "text/plain": [
       "None"
      ]
     },
     "metadata": {},
     "output_type": "display_data"
    }
   ],
   "source": [
    "parking_lot = ParkingLot(\"Downtown Parking\")\n",
    "parking_lot.add_spot(ParkingSpot(\"S1\", \"Car\"))\n",
    "car = Vehicle(\"XYZ-1234\", \"Car\")\n",
    "display(parking_lot.park_vehicle(car))\n",
    "display(parking_lot.calculate_fee(car))\n"
   ]
  },
  {
   "cell_type": "markdown",
   "metadata": {},
   "source": [
    "# ccccc"
   ]
  },
  {
   "cell_type": "code",
   "execution_count": 4,
   "metadata": {},
   "outputs": [],
   "source": [
    "from datetime import datetime\n",
    "\n",
    "class Vehicle:\n",
    "    def __init__(self, license_plate, vehicle_type):\n",
    "        self.license_plate = license_plate\n",
    "        self.vehicle_type = vehicle_type\n",
    "\n",
    "    def __str__(self):\n",
    "        return f\"Number: {self.license_plate}, Vehicle: {self.vehicle_type}\"\n",
    "\n",
    "    def get_license_plate(self):\n",
    "        return self.license_plate\n",
    "\n",
    "    def get_vehicle_type(self):\n",
    "        return self.vehicle_type\n",
    "\n",
    "\n",
    "class ParkingSpot:\n",
    "    def __init__(self, spot_id, spot_type):\n",
    "        self.spot_id = spot_id\n",
    "        self.spot_type = spot_type\n",
    "        self.is_spot_empty = True\n",
    "        self.parked_vehicle = None\n",
    "        self.entry_time = None\n",
    "\n",
    "    def __str__(self):\n",
    "        return f\"Spot ID: {self.spot_id}, Type: {self.spot_type}, Is Empty: {self.is_spot_empty}\"\n",
    "\n",
    "    def park_vehicle(self, vehicle):\n",
    "        if self.is_spot_empty and self.spot_type.lower() == vehicle.vehicle_type.lower():\n",
    "            self.parked_vehicle = vehicle\n",
    "            self.is_spot_empty = False\n",
    "            self.entry_time = datetime.now()\n",
    "            return True\n",
    "        return False\n",
    "\n",
    "    def remove_vehicle(self):\n",
    "        if not self.is_spot_empty:\n",
    "            self.parked_vehicle = None\n",
    "            self.is_spot_empty = True\n",
    "            self.entry_time = None\n",
    "\n",
    "    def calculate_fee(self):\n",
    "        if self.entry_time:\n",
    "            parked_duration = (datetime.now() - self.entry_time).seconds // 60  # Duration in minutes\n",
    "            fee = parked_duration * 2  # Example fee calculation: $2 per minute\n",
    "            return fee\n",
    "        return 0\n",
    "\n",
    "\n",
    "class ParkingLot:\n",
    "    def __init__(self, name):\n",
    "        self.name = name\n",
    "        self.spots = {}\n",
    "\n",
    "    def __str__(self):\n",
    "        return f\"Welcome to {self.name}\"\n",
    "\n",
    "    def add_spot(self, spot):\n",
    "        self.spots[spot.spot_id] = spot\n",
    "\n",
    "    def park_vehicle(self, vehicle):\n",
    "        for spot in self.spots.values():\n",
    "            if spot.park_vehicle(vehicle):\n",
    "                print(f\"Vehicle {vehicle} parked in spot {spot.spot_id}.\")\n",
    "                return\n",
    "        print(\"No available spot for this vehicle.\")\n",
    "\n",
    "    def calculate_fee(self, vehicle):\n",
    "        for spot in self.spots.values():\n",
    "            if spot.parked_vehicle == vehicle:\n",
    "                fee = spot.calculate_fee()\n",
    "                print(f\"Parking fee for {vehicle}: ${fee}.\")\n",
    "                return\n",
    "        print(f\"Vehicle {vehicle} is not parked in the lot.\")\n",
    "\n",
    "    def remove_vehicle(self, vehicle):\n",
    "        for spot in self.spots.values():\n",
    "            if spot.parked_vehicle == vehicle:\n",
    "                fee = spot.calculate_fee()\n",
    "                spot.remove_vehicle()\n",
    "                print(f\"Vehicle {vehicle} removed from spot {spot.spot_id}. Fee: ${fee}.\")\n",
    "                return\n",
    "        print(\"Vehicle not found in any parking spot.\")\n"
   ]
  },
  {
   "cell_type": "code",
   "execution_count": 5,
   "metadata": {},
   "outputs": [
    {
     "name": "stdout",
     "output_type": "stream",
     "text": [
      "Vehicle Number: XYZ-1234, Vehicle: Car parked in spot S1.\n",
      "Vehicle Number: ABC-5678, Vehicle: Motorcycle parked in spot S2.\n",
      "Parking fee for Number: XYZ-1234, Vehicle: Car: $0.\n",
      "Parking fee for Number: ABC-5678, Vehicle: Motorcycle: $0.\n",
      "Vehicle Number: XYZ-1234, Vehicle: Car removed from spot S1. Fee: $0.\n"
     ]
    }
   ],
   "source": [
    "# Initialize a parking lot\n",
    "parking_lot = ParkingLot(\"Downtown Parking\")\n",
    "\n",
    "# Add parking spots to the lot\n",
    "parking_lot.add_spot(ParkingSpot(\"S1\", \"Car\"))\n",
    "parking_lot.add_spot(ParkingSpot(\"S2\", \"Motorcycle\"))\n",
    "parking_lot.add_spot(ParkingSpot(\"S3\", \"Car\"))\n",
    "\n",
    "# Create vehicles\n",
    "car = Vehicle(\"XYZ-1234\", \"Car\")\n",
    "motorcycle = Vehicle(\"ABC-5678\", \"Motorcycle\")\n",
    "\n",
    "# Park vehicles\n",
    "parking_lot.park_vehicle(car)\n",
    "parking_lot.park_vehicle(motorcycle)\n",
    "\n",
    "# Calculate parking fees (assuming some time has passed)\n",
    "parking_lot.calculate_fee(car)\n",
    "parking_lot.calculate_fee(motorcycle)\n",
    "\n",
    "# Remove vehicles from parking spots\n",
    "parking_lot.remove_vehicle(car)"
   ]
  },
  {
   "cell_type": "markdown",
   "metadata": {},
   "source": []
  }
 ],
 "metadata": {
  "kernelspec": {
   "display_name": "Sep2024",
   "language": "python",
   "name": "python3"
  },
  "language_info": {
   "codemirror_mode": {
    "name": "ipython",
    "version": 3
   },
   "file_extension": ".py",
   "mimetype": "text/x-python",
   "name": "python",
   "nbconvert_exporter": "python",
   "pygments_lexer": "ipython3",
   "version": "3.10.7"
  }
 },
 "nbformat": 4,
 "nbformat_minor": 4
}
