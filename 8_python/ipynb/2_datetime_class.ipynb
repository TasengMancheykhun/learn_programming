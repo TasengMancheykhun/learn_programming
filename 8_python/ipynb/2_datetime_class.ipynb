{
 "cells": [
  {
   "cell_type": "code",
   "execution_count": 731,
   "metadata": {},
   "outputs": [],
   "source": [
    "##---------------------------\n",
    "## Import Statements\n",
    "##---------------------------\n",
    "\n",
    "import datetime\n",
    "from datetime import datetime,date,time,timedelta\n",
    "\n"
   ]
  },
  {
   "cell_type": "code",
   "execution_count": 732,
   "metadata": {},
   "outputs": [
    {
     "data": {
      "text/plain": [
       "datetime.datetime(2024, 9, 30, 16, 18, 33, 668033)"
      ]
     },
     "execution_count": 732,
     "metadata": {},
     "output_type": "execute_result"
    }
   ],
   "source": [
    "now = datetime.now()\n",
    "now\n",
    "#(year, month, date, hour,mins,sec,nanosec)"
   ]
  },
  {
   "cell_type": "code",
   "execution_count": 733,
   "metadata": {},
   "outputs": [
    {
     "name": "stdout",
     "output_type": "stream",
     "text": [
      "{day}-{month}-{year}\n"
     ]
    }
   ],
   "source": [
    "day = now .day\n",
    "month = now.month\n",
    "year = now.year\n",
    "print('{day}-{month}-{year}')"
   ]
  },
  {
   "cell_type": "code",
   "execution_count": 734,
   "metadata": {},
   "outputs": [
    {
     "data": {
      "text/plain": [
       "1727693313.668033"
      ]
     },
     "execution_count": 734,
     "metadata": {},
     "output_type": "execute_result"
    }
   ],
   "source": [
    "timestamp = now.timestamp()\n",
    "timestamp"
   ]
  },
  {
   "cell_type": "code",
   "execution_count": 735,
   "metadata": {},
   "outputs": [
    {
     "data": {
      "text/plain": [
       "'Mon ,Monday , 30/09/2024 16-18-33'"
      ]
     },
     "execution_count": 735,
     "metadata": {},
     "output_type": "execute_result"
    }
   ],
   "source": [
    "now.strftime('%a ,%A , %d/%m/%Y %H-%M-%S')"
   ]
  },
  {
   "cell_type": "code",
   "execution_count": 736,
   "metadata": {},
   "outputs": [],
   "source": [
    "date_string = '5 August 2024'\n",
    "date_object = datetime"
   ]
  },
  {
   "cell_type": "code",
   "execution_count": 737,
   "metadata": {},
   "outputs": [
    {
     "data": {
      "text/plain": [
       "2024"
      ]
     },
     "execution_count": 737,
     "metadata": {},
     "output_type": "execute_result"
    }
   ],
   "source": [
    "today = date.today()\n",
    "today . day\n",
    "today. month\n",
    "today . year\n"
   ]
  },
  {
   "cell_type": "code",
   "execution_count": 738,
   "metadata": {},
   "outputs": [
    {
     "name": "stdout",
     "output_type": "stream",
     "text": [
      "00:00:00\n"
     ]
    }
   ],
   "source": [
    "a = time ()\n",
    "print(a)"
   ]
  },
  {
   "cell_type": "code",
   "execution_count": 739,
   "metadata": {},
   "outputs": [
    {
     "name": "stdout",
     "output_type": "stream",
     "text": [
      "10:05:50\n"
     ]
    }
   ],
   "source": [
    "b = time(hour=10, minute=5, second=50)\n",
    "print(b)"
   ]
  },
  {
   "cell_type": "code",
   "execution_count": 740,
   "metadata": {},
   "outputs": [
    {
     "name": "stdout",
     "output_type": "stream",
     "text": [
      "93 days, 0:00:00\n"
     ]
    }
   ],
   "source": [
    "new_year = date(2025,1,1)\n",
    "print(new_year-today)"
   ]
  },
  {
   "cell_type": "code",
   "execution_count": 741,
   "metadata": {},
   "outputs": [
    {
     "name": "stdout",
     "output_type": "stream",
     "text": [
      "92 days, 7:41:26.331967\n"
     ]
    }
   ],
   "source": [
    "new_year_time = datetime(year=2025,month=1,\n",
    "                         day=1,\n",
    "                         hour=0,\n",
    "                         minute=0,\n",
    "                         second=0)\n",
    "time_left = new_year_time-now\n",
    "print(time_left)"
   ]
  },
  {
   "cell_type": "code",
   "execution_count": 742,
   "metadata": {},
   "outputs": [
    {
     "name": "stdout",
     "output_type": "stream",
     "text": [
      "2024-11-08 02:18:33.668033\n"
     ]
    }
   ],
   "source": [
    "print(now + timedelta(weeks=4,days=10,hours=10))"
   ]
  },
  {
   "cell_type": "markdown",
   "metadata": {},
   "source": [
    "## CLASS"
   ]
  },
  {
   "cell_type": "code",
   "execution_count": 743,
   "metadata": {},
   "outputs": [
    {
     "name": "stdout",
     "output_type": "stream",
     "text": [
      "<class '__main__.Person'>\n"
     ]
    }
   ],
   "source": [
    "class Person:\n",
    "    pass\n",
    "\n",
    "print(Person)"
   ]
  },
  {
   "cell_type": "code",
   "execution_count": 744,
   "metadata": {},
   "outputs": [
    {
     "name": "stdout",
     "output_type": "stream",
     "text": [
      "<__main__.Person object at 0x7f0e3d784520>\n"
     ]
    }
   ],
   "source": [
    "# instantiate\n",
    "\n",
    "p = Person()\n",
    "print(p)"
   ]
  },
  {
   "cell_type": "code",
   "execution_count": 745,
   "metadata": {},
   "outputs": [
    {
     "data": {
      "text/plain": [
       "['__class__',\n",
       " '__delattr__',\n",
       " '__dict__',\n",
       " '__dir__',\n",
       " '__doc__',\n",
       " '__eq__',\n",
       " '__format__',\n",
       " '__ge__',\n",
       " '__getattribute__',\n",
       " '__gt__',\n",
       " '__hash__',\n",
       " '__init__',\n",
       " '__init_subclass__',\n",
       " '__le__',\n",
       " '__lt__',\n",
       " '__module__',\n",
       " '__ne__',\n",
       " '__new__',\n",
       " '__reduce__',\n",
       " '__reduce_ex__',\n",
       " '__repr__',\n",
       " '__setattr__',\n",
       " '__sizeof__',\n",
       " '__str__',\n",
       " '__subclasshook__',\n",
       " '__weakref__']"
      ]
     },
     "execution_count": 745,
     "metadata": {},
     "output_type": "execute_result"
    }
   ],
   "source": [
    "dir(Person)"
   ]
  },
  {
   "cell_type": "code",
   "execution_count": 746,
   "metadata": {},
   "outputs": [],
   "source": [
    "class Person:\n",
    "    def __init__(self, name):\n",
    "        self.name = name"
   ]
  },
  {
   "cell_type": "code",
   "execution_count": 747,
   "metadata": {},
   "outputs": [
    {
     "name": "stdout",
     "output_type": "stream",
     "text": [
      "<__main__.Person object at 0x7f0e3d786ec0>\n"
     ]
    }
   ],
   "source": [
    "p = Person(\"Paul\")\n",
    "print(p)"
   ]
  },
  {
   "cell_type": "code",
   "execution_count": 748,
   "metadata": {},
   "outputs": [
    {
     "name": "stdout",
     "output_type": "stream",
     "text": [
      "Paul\n"
     ]
    }
   ],
   "source": [
    "print(p.name) #attributes"
   ]
  },
  {
   "cell_type": "code",
   "execution_count": 749,
   "metadata": {},
   "outputs": [],
   "source": [
    "class Person:\n",
    "    def __init__(self, fname, lname, age, country, city):\n",
    "        \n",
    "        #attributes\n",
    "        self.firstname = fname\n",
    "        self.lastname = lname\n",
    "        self.age = age\n",
    "        self.country = country\n",
    "        self.city = city\n",
    "\n",
    "    def fullname(self):\n",
    "        return f'{self.firstname} {self.lastname}'    "
   ]
  },
  {
   "cell_type": "code",
   "execution_count": 750,
   "metadata": {},
   "outputs": [
    {
     "name": "stdout",
     "output_type": "stream",
     "text": [
      "Lionel\n",
      "Messi\n",
      "37\n",
      "Barcelona\n"
     ]
    }
   ],
   "source": [
    "#instantiate an object for this class \"Person\"\n",
    "p = Person(\"Lionel\",\"Messi\",37,\"Argentina\",\"Barcelona\")\n",
    "\n",
    "print(p.firstname)\n",
    "print(p.lastname)\n",
    "print(p.age)\n",
    "print(p.city)\n"
   ]
  },
  {
   "cell_type": "code",
   "execution_count": 751,
   "metadata": {},
   "outputs": [],
   "source": [
    "#Define a method\n",
    "\n",
    "def person_info(self):\n",
    "    return f'{self.firstname} {self.lastname}'\n"
   ]
  },
  {
   "cell_type": "code",
   "execution_count": 752,
   "metadata": {},
   "outputs": [
    {
     "name": "stdout",
     "output_type": "stream",
     "text": [
      "Lionel Messi\n"
     ]
    }
   ],
   "source": [
    "print(person_info(p))\n",
    "#print(p.person_info())"
   ]
  },
  {
   "cell_type": "code",
   "execution_count": 753,
   "metadata": {},
   "outputs": [
    {
     "name": "stdout",
     "output_type": "stream",
     "text": [
      "Lionel Messi\n"
     ]
    }
   ],
   "source": [
    "print(p.fullname())"
   ]
  },
  {
   "cell_type": "code",
   "execution_count": 754,
   "metadata": {},
   "outputs": [],
   "source": [
    "class Person_local:\n",
    "    def __init__(self, fname, lname, age, country='India', city='Pune'):\n",
    "        \n",
    "        #attributes\n",
    "        self.firstname = fname\n",
    "        self.lastname = lname\n",
    "        self.age = age\n",
    "        self.country = country\n",
    "        self.city = city\n",
    "        self.skill = []\n",
    "\n",
    "    def fullname(self):\n",
    "        return f'{self.firstname} {self.lastname}'\n",
    "    \n",
    " #   def info(self):\n",
    " #       return f'{self.firstname} {self.lastname} {self.age} {self.country} {self.city}'\n",
    "    \n",
    "    def add_skill(self,skill):\n",
    "        self.skill.append(skill)\n",
    "\n",
    "    def print_info(self):\n",
    "        return f'''{self.firstname} {self.lastname},\n",
    "{self.age} old,\n",
    "lives in {self.city} {self.country},\n",
    "skilled in {self.skill}'''"
   ]
  },
  {
   "cell_type": "code",
   "execution_count": 755,
   "metadata": {},
   "outputs": [
    {
     "name": "stdout",
     "output_type": "stream",
     "text": [
      "Rohit Sharma\n"
     ]
    }
   ],
   "source": [
    "p=Person_local('Rohit','Sharma',26)\n",
    "\n",
    "print(p.fullname())"
   ]
  },
  {
   "cell_type": "code",
   "execution_count": 756,
   "metadata": {},
   "outputs": [
    {
     "data": {
      "text/plain": [
       "'Rohit Sharma'"
      ]
     },
     "execution_count": 756,
     "metadata": {},
     "output_type": "execute_result"
    }
   ],
   "source": [
    "def person_info(self):\n",
    "    return f'{self.firstname} {self.lastname}'\n",
    "\n",
    "person_info(p)"
   ]
  },
  {
   "cell_type": "code",
   "execution_count": 757,
   "metadata": {},
   "outputs": [],
   "source": [
    "p.add_skill('Python')\n",
    "p.add_skill('c++')\n",
    "p.add_skill('Java')\n",
    "p.add_skill('Linux')"
   ]
  },
  {
   "cell_type": "code",
   "execution_count": 758,
   "metadata": {},
   "outputs": [
    {
     "name": "stdout",
     "output_type": "stream",
     "text": [
      "Rohit Sharma,\n",
      "26 old,\n",
      "lives in Pune India,\n",
      "skilled in ['Python', 'c++', 'Java', 'Linux']\n"
     ]
    }
   ],
   "source": [
    "print(p.print_info())"
   ]
  },
  {
   "cell_type": "markdown",
   "metadata": {},
   "source": [
    "# Inheritance"
   ]
  },
  {
   "cell_type": "code",
   "execution_count": 759,
   "metadata": {},
   "outputs": [],
   "source": [
    "class Student(Person_local):\n",
    "    ''' Student is inherited from Person '''\n",
    "    pass"
   ]
  },
  {
   "cell_type": "code",
   "execution_count": 760,
   "metadata": {},
   "outputs": [
    {
     "name": "stdout",
     "output_type": "stream",
     "text": [
      "Rohan Tuli,\n",
      "26 old,\n",
      "lives in Delhi India,\n",
      "skilled in ['typing']\n"
     ]
    }
   ],
   "source": [
    "s1 = Student('Mohan','Singh',25)\n",
    "s2 = Student('Rohan','Tuli', 26, 'India', 'Delhi')\n",
    "\n",
    "s2.add_skill('typing')\n",
    "\n",
    "print(s2.print_info())"
   ]
  },
  {
   "cell_type": "code",
   "execution_count": 761,
   "metadata": {},
   "outputs": [
    {
     "name": "stdout",
     "output_type": "stream",
     "text": [
      "Aaaah...\n",
      "I am full, no thanks!\n"
     ]
    }
   ],
   "source": [
    "class Bird:\n",
    "    def __init__(self):\n",
    "        self.hungry = True\n",
    "        \n",
    "    def eat(self):\n",
    "        if self.hungry:\n",
    "            print('Aaaah...')\n",
    "            self.hungry=False\n",
    "        else:\n",
    "            print('I am full, no thanks!')\n",
    "\n",
    "b = Bird()\n",
    "b.eat()\n",
    "b.eat()"
   ]
  },
  {
   "cell_type": "code",
   "execution_count": 762,
   "metadata": {},
   "outputs": [
    {
     "name": "stdout",
     "output_type": "stream",
     "text": [
      "Singing: Squawk! Squawk!\n"
     ]
    }
   ],
   "source": [
    "class songbird(Bird):\n",
    "    def __init__(self):              #overwriting the constructor\n",
    "        super(songbird, self).__init__()\n",
    "        self.sound='Squawk!'\n",
    "\n",
    "    def sing(self):\n",
    "        print(f'Singing: {self.sound} {self.sound}')\n",
    "\n",
    "    def eat(self):\n",
    "        if self.hungry:\n",
    "            print('Pheu...')\n",
    "            self.hungry = False\n",
    "        else:\n",
    "            print('No thanks, Had enough!')\n",
    "\n",
    "sb = songbird()\n",
    "sb.sing()"
   ]
  },
  {
   "cell_type": "code",
   "execution_count": 763,
   "metadata": {},
   "outputs": [
    {
     "name": "stdout",
     "output_type": "stream",
     "text": [
      "Pheu...\n"
     ]
    }
   ],
   "source": [
    "sb.eat()"
   ]
  },
  {
   "cell_type": "markdown",
   "metadata": {},
   "source": [
    "## Encapsulation"
   ]
  },
  {
   "cell_type": "code",
   "execution_count": 764,
   "metadata": {},
   "outputs": [],
   "source": [
    "globalname = 'sir lancelot'\n",
    "\n",
    "class openobject():\n",
    "    def __init__(self):\n",
    "        self.globalname = globalname\n",
    "\n",
    "    def setname(self, name):\n",
    "        global globalname \n",
    "        globalname = name\n",
    "        self.globalname = name\n",
    "    \n",
    "    def getname(self):\n",
    "        return self.globalname\n",
    "\n"
   ]
  },
  {
   "cell_type": "code",
   "execution_count": 765,
   "metadata": {},
   "outputs": [
    {
     "data": {
      "text/plain": [
       "'sir lancelot'"
      ]
     },
     "metadata": {},
     "output_type": "display_data"
    },
    {
     "data": {
      "text/plain": [
       "'robin hood'"
      ]
     },
     "metadata": {},
     "output_type": "display_data"
    },
    {
     "data": {
      "text/plain": [
       "'robin hood'"
      ]
     },
     "metadata": {},
     "output_type": "display_data"
    }
   ],
   "source": [
    "o1 = openobject()\n",
    "display(o1.globalname)\n",
    "o1.setname('robin hood')\n",
    "display(o1.globalname)\n",
    "o2=openobject()\n",
    "display(o2.globalname)          #Encapsulation failed\n"
   ]
  },
  {
   "cell_type": "markdown",
   "metadata": {},
   "source": [
    "## Encapsulated object"
   ]
  },
  {
   "cell_type": "code",
   "execution_count": 766,
   "metadata": {},
   "outputs": [],
   "source": [
    "class enclobject():\n",
    "    def __init__(self, name='sir lancelor'):\n",
    "        self._name = name\n",
    "\n",
    "    def setname(self, new_name):\n",
    "        self._name = new_name\n",
    "    \n",
    "    def getname(self):\n",
    "        return self._name\n"
   ]
  },
  {
   "cell_type": "code",
   "execution_count": 767,
   "metadata": {},
   "outputs": [
    {
     "data": {
      "text/plain": [
       "'sir lancelor'"
      ]
     },
     "metadata": {},
     "output_type": "display_data"
    },
    {
     "data": {
      "text/plain": [
       "'robin hood'"
      ]
     },
     "metadata": {},
     "output_type": "display_data"
    },
    {
     "data": {
      "text/plain": [
       "'sir lancelor'"
      ]
     },
     "metadata": {},
     "output_type": "display_data"
    }
   ],
   "source": [
    "o1 = enclobject()\n",
    "display(o1.getname())\n",
    "\n",
    "o1.setname('robin hood')\n",
    "display(o1.getname())\n",
    "\n",
    "o2=enclobject()\n",
    "display(o2.getname())"
   ]
  },
  {
   "cell_type": "markdown",
   "metadata": {},
   "source": [
    "Access Modifiers in Python Encapsulation"
   ]
  },
  {
   "cell_type": "markdown",
   "metadata": {},
   "source": [
    "Types of methods:\\\n",
    "Public \\\n",
    "Protected  _ \\\n",
    "Private    __    "
   ]
  },
  {
   "cell_type": "markdown",
   "metadata": {},
   "source": []
  },
  {
   "cell_type": "code",
   "execution_count": 768,
   "metadata": {},
   "outputs": [
    {
     "name": "stdout",
     "output_type": "stream",
     "text": [
      "Maruti 800 is starting...\n",
      "Hyundai i10 is starting...\n"
     ]
    }
   ],
   "source": [
    "class car:\n",
    "    def __init__(self, make, model):\n",
    "        self.make = make\n",
    "        self.model = model \n",
    "\n",
    "    def start(self):\n",
    "        print(f'{self.make} {self.model} is starting...')\n",
    "    \n",
    "car1 = car('Maruti','800')\n",
    "car2 = car('Hyundai', 'i10')\n",
    "car1.start()\n",
    "car2.start() "
   ]
  },
  {
   "cell_type": "code",
   "execution_count": 769,
   "metadata": {},
   "outputs": [
    {
     "ename": "AttributeError",
     "evalue": "'car' object has no attribute '__start'",
     "output_type": "error",
     "traceback": [
      "\u001b[0;31m---------------------------------------------------------------------------\u001b[0m",
      "\u001b[0;31mAttributeError\u001b[0m                            Traceback (most recent call last)",
      "Cell \u001b[0;32mIn[769], line 13\u001b[0m\n\u001b[1;32m     11\u001b[0m car1 \u001b[38;5;241m=\u001b[39m car(\u001b[38;5;124m'\u001b[39m\u001b[38;5;124mMaruti\u001b[39m\u001b[38;5;124m'\u001b[39m,\u001b[38;5;124m'\u001b[39m\u001b[38;5;124m800\u001b[39m\u001b[38;5;124m'\u001b[39m)\n\u001b[1;32m     12\u001b[0m car2 \u001b[38;5;241m=\u001b[39m car(\u001b[38;5;124m'\u001b[39m\u001b[38;5;124mHyundai\u001b[39m\u001b[38;5;124m'\u001b[39m, \u001b[38;5;124m'\u001b[39m\u001b[38;5;124mi10\u001b[39m\u001b[38;5;124m'\u001b[39m)\n\u001b[0;32m---> 13\u001b[0m \u001b[43mcar1\u001b[49m\u001b[38;5;241;43m.\u001b[39;49m\u001b[43m__start\u001b[49m()\n\u001b[1;32m     14\u001b[0m car2\u001b[38;5;241m.\u001b[39m__start() \n",
      "\u001b[0;31mAttributeError\u001b[0m: 'car' object has no attribute '__start'"
     ]
    }
   ],
   "source": [
    "### Private variables (starting with __)\n",
    "\n",
    "class car:\n",
    "    def __init__(self, make, model):\n",
    "        self.__make = make\n",
    "        self.__model = model \n",
    "\n",
    "    def __start(self):\n",
    "        print(f'{self.__make} {self.__model} is starting...')\n",
    "    \n",
    "car1 = car('Maruti','800')\n",
    "car2 = car('Hyundai', 'i10')\n",
    "car1.__start()\n",
    "car2.__start() "
   ]
  },
  {
   "cell_type": "code",
   "execution_count": 718,
   "metadata": {},
   "outputs": [
    {
     "ename": "AttributeError",
     "evalue": "'car' object has no attribute '__make'",
     "output_type": "error",
     "traceback": [
      "\u001b[0;31m---------------------------------------------------------------------------\u001b[0m",
      "\u001b[0;31mAttributeError\u001b[0m                            Traceback (most recent call last)",
      "Cell \u001b[0;32mIn[718], line 1\u001b[0m\n\u001b[0;32m----> 1\u001b[0m \u001b[43mcar1\u001b[49m\u001b[38;5;241;43m.\u001b[39;49m\u001b[43m__make\u001b[49m\n",
      "\u001b[0;31mAttributeError\u001b[0m: 'car' object has no attribute '__make'"
     ]
    }
   ],
   "source": [
    "car1.__make"
   ]
  },
  {
   "cell_type": "code",
   "execution_count": 1,
   "metadata": {},
   "outputs": [
    {
     "ename": "AttributeError",
     "evalue": "'secret' object has no attribute '__inaccessible'",
     "output_type": "error",
     "traceback": [
      "\u001b[0;31m---------------------------------------------------------------------------\u001b[0m",
      "\u001b[0;31mAttributeError\u001b[0m                            Traceback (most recent call last)",
      "Cell \u001b[0;32mIn[1], line 10\u001b[0m\n\u001b[1;32m      7\u001b[0m         \u001b[38;5;28mself\u001b[39m\u001b[38;5;241m.\u001b[39m__inaccessible()\n\u001b[1;32m      9\u001b[0m s1 \u001b[38;5;241m=\u001b[39m secret()   \u001b[38;5;66;03m#creating an instance\u001b[39;00m\n\u001b[0;32m---> 10\u001b[0m \u001b[43ms1\u001b[49m\u001b[38;5;241;43m.\u001b[39;49m\u001b[43m__inaccessible\u001b[49m()\n",
      "\u001b[0;31mAttributeError\u001b[0m: 'secret' object has no attribute '__inaccessible'"
     ]
    }
   ],
   "source": [
    "class secret:\n",
    "    def __inaccessible(self):\n",
    "        print('I am not there!')\n",
    "\n",
    "    def accessible(self):\n",
    "        print('Where are you!',end=' ')\n",
    "        self.__inaccessible()\n",
    "\n",
    "s1 = secret()   #creating an instance\n",
    "s1.__inaccessible()"
   ]
  },
  {
   "cell_type": "code",
   "execution_count": 726,
   "metadata": {},
   "outputs": [
    {
     "name": "stdout",
     "output_type": "stream",
     "text": [
      "Where are you! I am not there!\n"
     ]
    }
   ],
   "source": [
    "s1.accessible()"
   ]
  },
  {
   "cell_type": "markdown",
   "metadata": {},
   "source": [
    "# Name Mangling to access private "
   ]
  },
  {
   "cell_type": "code",
   "execution_count": 778,
   "metadata": {},
   "outputs": [],
   "source": [
    "class bankaccount:\n",
    "    def __init__(self, account_number):\n",
    "        self.__account_number = account_number\n",
    "\n",
    "    def __validate_pin(self,pin):\n",
    "        return len(pin) == 4\n",
    "    "
   ]
  },
  {
   "cell_type": "code",
   "execution_count": 780,
   "metadata": {},
   "outputs": [],
   "source": [
    "acc = bankaccount('123456')"
   ]
  },
  {
   "cell_type": "code",
   "execution_count": 781,
   "metadata": {},
   "outputs": [
    {
     "data": {
      "text/plain": [
       "'123456'"
      ]
     },
     "execution_count": 781,
     "metadata": {},
     "output_type": "execute_result"
    }
   ],
   "source": [
    "acc._bankaccount__account_number"
   ]
  },
  {
   "cell_type": "code",
   "execution_count": 782,
   "metadata": {},
   "outputs": [
    {
     "data": {
      "text/plain": [
       "True"
      ]
     },
     "execution_count": 782,
     "metadata": {},
     "output_type": "execute_result"
    }
   ],
   "source": [
    "acc._bankaccount__validate_pin('1234')"
   ]
  },
  {
   "cell_type": "markdown",
   "metadata": {},
   "source": [
    "## Protected \n"
   ]
  },
  {
   "cell_type": "code",
   "execution_count": 3,
   "metadata": {},
   "outputs": [
    {
     "name": "stdout",
     "output_type": "stream",
     "text": [
      "Buddy makes a bark sound\n"
     ]
    },
    {
     "data": {
      "text/plain": [
       "'Generic Animal'"
      ]
     },
     "execution_count": 3,
     "metadata": {},
     "output_type": "execute_result"
    }
   ],
   "source": [
    "class Animal:\n",
    "    def __init__(self,name):\n",
    "        self._name=name\n",
    "    def _make_sound(self,sound):\n",
    "        print (f'{self._name} makes a {sound} sound')\n",
    "\n",
    "class Dog(Animal):\n",
    "    def bark(self):\n",
    "        self._make_sound('bark')\n",
    "\n",
    "animal= Animal('Generic Animal')\n",
    "dog = Dog('Buddy')\n",
    "dog.bark()\n",
    "animal._name\n"
   ]
  },
  {
   "cell_type": "code",
   "execution_count": 4,
   "metadata": {},
   "outputs": [],
   "source": [
    "class Employee:\n",
    "    def __init__(self,emp_id,emp_name,emp_salary):\n",
    "        self._emp_id = emp_id\n",
    "        self._emp_name = emp_name\n",
    "        self._emp_salary = emp_salary\n",
    "\n",
    "    def __str__(self):\n",
    "        return f'ID:{self._emp_id}, name: {self._emp_name} gets {self._emp_salary}'\n",
    "    \n",
    "    def increase_salary(self,amount):\n",
    "        if amount > 0:\n",
    "            self._emp_salary += amount\n",
    "        else:\n",
    "            print(f'Invalid amount: {amount}')"
   ]
  },
  {
   "cell_type": "code",
   "execution_count": null,
   "metadata": {},
   "outputs": [],
   "source": []
  }
 ],
 "metadata": {
  "kernelspec": {
   "display_name": "Sep2024",
   "language": "python",
   "name": "python3"
  },
  "language_info": {
   "codemirror_mode": {
    "name": "ipython",
    "version": 3
   },
   "file_extension": ".py",
   "mimetype": "text/x-python",
   "name": "python",
   "nbconvert_exporter": "python",
   "pygments_lexer": "ipython3",
   "version": "3.10.7"
  }
 },
 "nbformat": 4,
 "nbformat_minor": 2
}
