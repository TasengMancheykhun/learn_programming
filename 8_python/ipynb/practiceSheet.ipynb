{
 "cells": [
  {
   "cell_type": "code",
   "execution_count": 2,
   "metadata": {},
   "outputs": [
    {
     "name": "stdout",
     "output_type": "stream",
     "text": [
      "{1, 2, 3, 4, 5, 6, 12}\n"
     ]
    }
   ],
   "source": [
    "set = {1,3,12,1,2,4,5,6,3,5,1,6}\n",
    "print(set)"
   ]
  },
  {
   "cell_type": "code",
   "execution_count": 3,
   "metadata": {},
   "outputs": [
    {
     "data": {
      "text/plain": [
       "8"
      ]
     },
     "execution_count": 3,
     "metadata": {},
     "output_type": "execute_result"
    }
   ],
   "source": [
    "(2**3)"
   ]
  },
  {
   "cell_type": "code",
   "execution_count": 57,
   "metadata": {},
   "outputs": [
    {
     "name": "stdout",
     "output_type": "stream",
     "text": [
      "1\n",
      "22\n",
      "333\n",
      "4444\n",
      "55555\n"
     ]
    }
   ],
   "source": [
    "n=5\n",
    "for i in range(1,n+1):\n",
    "    for j in range(1,i+1):\n",
    "        print(i,end=\"\")\n",
    "    print()"
   ]
  },
  {
   "cell_type": "code",
   "execution_count": 27,
   "metadata": {},
   "outputs": [
    {
     "name": "stdout",
     "output_type": "stream",
     "text": [
      "HEllo\n"
     ]
    }
   ],
   "source": [
    "a=30\n",
    "if a>=30 and a<50 :\n",
    "    print(\"HEllo\")\n",
    "else:\n",
    "    print(\"bye\")"
   ]
  },
  {
   "cell_type": "code",
   "execution_count": 30,
   "metadata": {},
   "outputs": [
    {
     "name": "stdout",
     "output_type": "stream",
     "text": [
      "13\n",
      "15\n"
     ]
    }
   ],
   "source": [
    "a =10\n",
    "b=7\n",
    "print(a^b)\n",
    "print(a|b)"
   ]
  },
  {
   "cell_type": "code",
   "execution_count": 33,
   "metadata": {},
   "outputs": [
    {
     "name": "stdout",
     "output_type": "stream",
     "text": [
      "Yes\n"
     ]
    }
   ],
   "source": [
    "a=5\n",
    "if a in set:\n",
    "    print(\"Yes\")\n",
    "else:\n",
    "    print(\"YESYSYYSYSYSYS\")\n",
    "    "
   ]
  },
  {
   "cell_type": "code",
   "execution_count": 37,
   "metadata": {},
   "outputs": [
    {
     "name": "stdout",
     "output_type": "stream",
     "text": [
      "\n",
      "I am local\n"
     ]
    }
   ],
   "source": [
    "def my_function():\n",
    "    print()\n",
    "    local_var = \"I am local\"\n",
    "   \n",
    "    print(local_var)  # Can access local_var here\n",
    "\n",
    "my_function() \n",
    "\n"
   ]
  },
  {
   "cell_type": "code",
   "execution_count": 41,
   "metadata": {},
   "outputs": [
    {
     "data": {
      "text/plain": [
       "[1, 2, 3, 4, 5, 6, 12]"
      ]
     },
     "execution_count": 41,
     "metadata": {},
     "output_type": "execute_result"
    }
   ],
   "source": [
    "sorted(set)"
   ]
  },
  {
   "cell_type": "code",
   "execution_count": 50,
   "metadata": {},
   "outputs": [
    {
     "name": "stdout",
     "output_type": "stream",
     "text": [
      "{1, 2, 3, 4, 5, 6, 12} \"hi\"\n"
     ]
    }
   ],
   "source": [
    "print(f'{set} \"hi\"')"
   ]
  },
  {
   "cell_type": "code",
   "execution_count": 54,
   "metadata": {},
   "outputs": [
    {
     "name": "stdout",
     "output_type": "stream",
     "text": [
      "<built-in method swapcase of str object at 0x7fb2685470b0>\n"
     ]
    }
   ],
   "source": [
    "s = \"vishal\"\n",
    "b=s.swapcase\n",
    "print(b)"
   ]
  },
  {
   "cell_type": "code",
   "execution_count": null,
   "metadata": {},
   "outputs": [],
   "source": [
    "__prinncipleAmout = 123454\n",
    "\n",
    "a=__prinncipleAmout"
   ]
  },
  {
   "cell_type": "code",
   "execution_count": 59,
   "metadata": {},
   "outputs": [
    {
     "name": "stdout",
     "output_type": "stream",
     "text": [
      "--------------------------------------------------\n",
      "Key: first_name| Value: Mohan\n",
      "Key: last_name| Value: Sharma\n",
      "Key: age| Value: 25\n",
      "Key: country| Value: India\n",
      "Key: is_married| Value: False\n",
      "Key: skills| Value: ['C', 'C++', 'Python']\n",
      "Key: address| Value: {'street': 'ABC street', 'zipcode': '123456'}\n"
     ]
    }
   ],
   "source": [
    "person = {'first_name':'Mohan',\n",
    "          'last_name':'Sharma',\n",
    "          'age':25,\n",
    "          'country':'India',\n",
    "          'is_married':False,\n",
    "          'skills':['C', 'C++', 'Python'],\n",
    "          'address':{'street':'ABC street',\n",
    "                     'zipcode':'123456'\n",
    "                    }\n",
    "         }\n",
    "# for key in person:\n",
    "#     print(f'key: {key}')\n",
    "print ('-'*50)\n",
    "for key, value in person.items():\n",
    "    print(f'Key: {key}| Value: {value}')"
   ]
  },
  {
   "cell_type": "code",
   "execution_count": 64,
   "metadata": {},
   "outputs": [
    {
     "name": "stdout",
     "output_type": "stream",
     "text": [
      "8\n",
      "6\n",
      "4\n",
      "2\n"
     ]
    }
   ],
   "source": [
    "for i in range(8,1,-2):\n",
    "    print(i)"
   ]
  },
  {
   "cell_type": "code",
   "execution_count": 65,
   "metadata": {},
   "outputs": [
    {
     "name": "stdout",
     "output_type": "stream",
     "text": [
      "C\n",
      "C++\n",
      "Python\n"
     ]
    }
   ],
   "source": [
    "for skill in person['skills']:\n",
    "            print(skill)"
   ]
  },
  {
   "cell_type": "code",
   "execution_count": 79,
   "metadata": {},
   "outputs": [
    {
     "name": "stdout",
     "output_type": "stream",
     "text": [
      "hiiiiiiiiiiiiiiiii\n",
      "hiiii\n"
     ]
    }
   ],
   "source": [
    "\n",
    "for key in person:\n",
    "    if(key==\"skills\"):\n",
    "        print(\"hiiiiiiiiiiiiiiiii\")\n",
    "\n",
    "\n",
    "skills=\"Python\"\n",
    "if skills in person[\"skills\"]:\n",
    "    print(\"hiiii\")\n"
   ]
  },
  {
   "cell_type": "code",
   "execution_count": 84,
   "metadata": {},
   "outputs": [
    {
     "name": "stdout",
     "output_type": "stream",
     "text": [
      "<str_iterator object at 0x7fb2684ad300>\n"
     ]
    }
   ],
   "source": [
    "\n",
    "def isiterable(obj):\n",
    "    try:\n",
    "        iter(obj)\n",
    "        return True\n",
    "    except TypeError: # not iterable\n",
    "        return False\n",
    "    \n",
    "\n",
    "print(iter(skills))"
   ]
  }
 ],
 "metadata": {
  "kernelspec": {
   "display_name": "Sep2024",
   "language": "python",
   "name": "python3"
  },
  "language_info": {
   "codemirror_mode": {
    "name": "ipython",
    "version": 3
   },
   "file_extension": ".py",
   "mimetype": "text/x-python",
   "name": "python",
   "nbconvert_exporter": "python",
   "pygments_lexer": "ipython3",
   "version": "3.10.7"
  }
 },
 "nbformat": 4,
 "nbformat_minor": 2
}
